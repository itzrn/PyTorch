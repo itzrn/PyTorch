{
 "cells": [
  {
   "cell_type": "code",
   "execution_count": 1,
   "id": "551eeb37",
   "metadata": {},
   "outputs": [],
   "source": [
    "import torch"
   ]
  },
  {
   "cell_type": "markdown",
   "id": "f0caadc9",
   "metadata": {},
   "source": [
    "Creating an empty tensor"
   ]
  },
  {
   "cell_type": "code",
   "execution_count": 7,
   "id": "a98e5d2d",
   "metadata": {},
   "outputs": [
    {
     "name": "stdout",
     "output_type": "stream",
     "text": [
      "tensor([[-1.8891e+26,  6.0240e-01],\n",
      "        [-3.8030e-22,  4.5916e-41]])\n"
     ]
    }
   ],
   "source": [
    "x = torch.empty(2, 2) # we can also change the size of the tensor\n",
    "print(x)"
   ]
  },
  {
   "cell_type": "markdown",
   "id": "f655a9a4",
   "metadata": {},
   "source": [
    "Giving random value to torch"
   ]
  },
  {
   "cell_type": "code",
   "execution_count": 8,
   "id": "803857bc",
   "metadata": {},
   "outputs": [
    {
     "name": "stdout",
     "output_type": "stream",
     "text": [
      "tensor([[0.6379, 0.6933],\n",
      "        [0.0998, 0.6639]])\n"
     ]
    }
   ],
   "source": [
    "x = torch.rand(2,2)\n",
    "print(x)"
   ]
  },
  {
   "cell_type": "markdown",
   "id": "b107252a",
   "metadata": {},
   "source": [
    "Putting all the element of a tensor zero"
   ]
  },
  {
   "cell_type": "code",
   "execution_count": 10,
   "id": "1920db08",
   "metadata": {},
   "outputs": [
    {
     "name": "stdout",
     "output_type": "stream",
     "text": [
      "tensor([[0., 0.],\n",
      "        [0., 0.]])\n"
     ]
    }
   ],
   "source": [
    "x = torch.zeros(2,2) # or we can give ones -> torch.ones()\n",
    "print(x)"
   ]
  },
  {
   "cell_type": "markdown",
   "id": "ce3f0a82",
   "metadata": {},
   "source": [
    "Size of the Tensor"
   ]
  },
  {
   "cell_type": "code",
   "execution_count": 11,
   "id": "e59aa368",
   "metadata": {},
   "outputs": [
    {
     "name": "stdout",
     "output_type": "stream",
     "text": [
      "torch.Size([2, 2])\n"
     ]
    }
   ],
   "source": [
    "print(x.size()) # or x.shape"
   ]
  },
  {
   "cell_type": "markdown",
   "id": "680943b1",
   "metadata": {},
   "source": [
    "Creating Tensor using List"
   ]
  },
  {
   "cell_type": "code",
   "execution_count": 14,
   "id": "3121adc8",
   "metadata": {},
   "outputs": [
    {
     "name": "stdout",
     "output_type": "stream",
     "text": [
      "tensor([2., 5., 6., 7.])\n"
     ]
    }
   ],
   "source": [
    "x = torch.tensor([2., 5,6,7])\n",
    "print(x)"
   ]
  },
  {
   "cell_type": "markdown",
   "id": "2327e435",
   "metadata": {},
   "source": [
    "# Basic Operations"
   ]
  },
  {
   "cell_type": "code",
   "execution_count": 20,
   "id": "ba18acf7",
   "metadata": {},
   "outputs": [
    {
     "name": "stdout",
     "output_type": "stream",
     "text": [
      "tensor([[1, 2],\n",
      "        [2, 3]])\n",
      "tensor([[3, 4],\n",
      "        [4, 5]])\n"
     ]
    }
   ],
   "source": [
    "x = torch.tensor([[1,2],[2,3]])\n",
    "y = torch.tensor([[3,4],[4,5]])\n",
    "print(x)\n",
    "print(y)"
   ]
  },
  {
   "cell_type": "code",
   "execution_count": 21,
   "id": "e29c05f7",
   "metadata": {},
   "outputs": [
    {
     "name": "stdout",
     "output_type": "stream",
     "text": [
      "tensor([[4, 6],\n",
      "        [6, 8]])\n"
     ]
    }
   ],
   "source": [
    "z = x + y # or z = torch.add(x,y)\n",
    "print(z)"
   ]
  },
  {
   "cell_type": "markdown",
   "id": "852d6f01",
   "metadata": {},
   "source": [
    "Doing Inplace addition, In PyTorch every function having trailing underscore will do an inplace operation"
   ]
  },
  {
   "cell_type": "code",
   "execution_count": 22,
   "id": "3f1e2a16",
   "metadata": {},
   "outputs": [
    {
     "name": "stdout",
     "output_type": "stream",
     "text": [
      "tensor([[4, 6],\n",
      "        [6, 8]])\n"
     ]
    }
   ],
   "source": [
    "y.add_(x) # This will modify our y\n",
    "print(y)"
   ]
  },
  {
   "cell_type": "markdown",
   "id": "0d5fee14",
   "metadata": {},
   "source": [
    "Doing Subtraction"
   ]
  },
  {
   "cell_type": "code",
   "execution_count": 23,
   "id": "30e69243",
   "metadata": {},
   "outputs": [
    {
     "name": "stdout",
     "output_type": "stream",
     "text": [
      "tensor([[3, 4],\n",
      "        [4, 5]])\n"
     ]
    }
   ],
   "source": [
    "z = y - x # or z = y.sub(x)\n",
    "print(z)"
   ]
  },
  {
   "cell_type": "code",
   "execution_count": 24,
   "id": "ac630615",
   "metadata": {},
   "outputs": [
    {
     "name": "stdout",
     "output_type": "stream",
     "text": [
      "tensor([[ 4, 12],\n",
      "        [12, 24]])\n"
     ]
    }
   ],
   "source": [
    "z = y.mul(x) # or z = y * x, this is just element wise multiplication, not matrix multiplication\n",
    "print(z)"
   ]
  },
  {
   "cell_type": "code",
   "execution_count": 26,
   "id": "faf9bb83",
   "metadata": {},
   "outputs": [
    {
     "name": "stdout",
     "output_type": "stream",
     "text": [
      "tensor([[4.0000, 3.0000],\n",
      "        [3.0000, 2.6667]])\n"
     ]
    }
   ],
   "source": [
    "z = y/x # or z = ydiv(x), this is element wise\n",
    "print(z)"
   ]
  },
  {
   "cell_type": "markdown",
   "id": "f50b9f29",
   "metadata": {},
   "source": [
    "# Slicing"
   ]
  },
  {
   "cell_type": "code",
   "execution_count": 30,
   "id": "f67df44e",
   "metadata": {},
   "outputs": [
    {
     "name": "stdout",
     "output_type": "stream",
     "text": [
      "tensor([[0.4335, 0.6474, 0.6831, 0.6054, 0.0666],\n",
      "        [0.1050, 0.7575, 0.3705, 0.0443, 0.5511],\n",
      "        [0.8438, 0.4435, 0.8251, 0.9463, 0.1316],\n",
      "        [0.1135, 0.0518, 0.1334, 0.0564, 0.1663],\n",
      "        [0.8233, 0.8688, 0.6076, 0.7740, 0.8695]])\n"
     ]
    }
   ],
   "source": [
    "x = torch.rand(5,5)\n",
    "print(x)"
   ]
  },
  {
   "cell_type": "code",
   "execution_count": 31,
   "id": "38bce168",
   "metadata": {},
   "outputs": [
    {
     "name": "stdout",
     "output_type": "stream",
     "text": [
      "tensor([0.4335, 0.1050, 0.8438, 0.1135, 0.8233])\n"
     ]
    }
   ],
   "source": [
    "print(x[:, 0])  # row, column"
   ]
  },
  {
   "cell_type": "code",
   "execution_count": 32,
   "id": "bc40122a",
   "metadata": {},
   "outputs": [
    {
     "name": "stdout",
     "output_type": "stream",
     "text": [
      "0.7574676275253296\n"
     ]
    }
   ],
   "source": [
    "print(x[1,1].item()) # .tem() can only be used when there is one wlwmwnt in your tensor"
   ]
  },
  {
   "cell_type": "markdown",
   "id": "ad73667e",
   "metadata": {},
   "source": [
    "# Reshaping a tensor"
   ]
  },
  {
   "cell_type": "code",
   "execution_count": 33,
   "id": "6b7c8497",
   "metadata": {},
   "outputs": [
    {
     "name": "stdout",
     "output_type": "stream",
     "text": [
      "tensor([[0.6930, 0.7063, 0.9233, 0.1914],\n",
      "        [0.0132, 0.8703, 0.7623, 0.7324],\n",
      "        [0.8222, 0.5025, 0.9727, 0.4824],\n",
      "        [0.8974, 0.2841, 0.3176, 0.5745]])\n"
     ]
    }
   ],
   "source": [
    "x = torch.rand(4,4)\n",
    "print(x)"
   ]
  },
  {
   "cell_type": "code",
   "execution_count": 36,
   "id": "e646cc03",
   "metadata": {},
   "outputs": [
    {
     "name": "stdout",
     "output_type": "stream",
     "text": [
      "tensor([0.6930, 0.7063, 0.9233, 0.1914, 0.0132, 0.8703, 0.7623, 0.7324, 0.8222,\n",
      "        0.5025, 0.9727, 0.4824, 0.8974, 0.2841, 0.3176, 0.5745])\n"
     ]
    }
   ],
   "source": [
    "print(x.view(16)) # create a 1D tensor of all the elements of ND tensor\n",
    "# here in parameter we need to give all the element count. 4*4 -> 16"
   ]
  },
  {
   "cell_type": "code",
   "execution_count": 37,
   "id": "4b6cd62a",
   "metadata": {},
   "outputs": [
    {
     "name": "stdout",
     "output_type": "stream",
     "text": [
      "tensor([[0.6930, 0.7063, 0.9233, 0.1914, 0.0132, 0.8703, 0.7623, 0.7324],\n",
      "        [0.8222, 0.5025, 0.9727, 0.4824, 0.8974, 0.2841, 0.3176, 0.5745]])\n"
     ]
    }
   ],
   "source": [
    "# we can view the tensor in any dimesion, but number of element in the new dimension should be same\n",
    "print(x.view(2,8))"
   ]
  },
  {
   "cell_type": "markdown",
   "id": "1ee0bd8a",
   "metadata": {},
   "source": [
    "# Converting Numpy To Tensor & vice-versa"
   ]
  },
  {
   "cell_type": "code",
   "execution_count": 38,
   "id": "470c38c4",
   "metadata": {},
   "outputs": [],
   "source": [
    "import numpy as np"
   ]
  },
  {
   "cell_type": "code",
   "execution_count": 39,
   "id": "403a1af1",
   "metadata": {},
   "outputs": [],
   "source": [
    "a = torch.ones(5)"
   ]
  },
  {
   "cell_type": "markdown",
   "id": "878f653f",
   "metadata": {},
   "source": [
    "from torch to numpy"
   ]
  },
  {
   "cell_type": "code",
   "execution_count": 45,
   "id": "6ad95032",
   "metadata": {},
   "outputs": [
    {
     "name": "stdout",
     "output_type": "stream",
     "text": [
      "[1. 1. 1. 1. 1.]\n"
     ]
    }
   ],
   "source": [
    "q = a.numpy() # the address of q will be same as a, so any modification in a , reflects in q\n",
    "print(q) "
   ]
  },
  {
   "cell_type": "markdown",
   "id": "b3fe959d",
   "metadata": {},
   "source": [
    "Form numpy to torch"
   ]
  },
  {
   "cell_type": "code",
   "execution_count": 43,
   "id": "8b49f10a",
   "metadata": {},
   "outputs": [
    {
     "name": "stdout",
     "output_type": "stream",
     "text": [
      "[1. 1. 1. 1. 1.]\n"
     ]
    }
   ],
   "source": [
    "b = np.ones(5) \n",
    "print(b)"
   ]
  },
  {
   "cell_type": "code",
   "execution_count": 44,
   "id": "e9161945",
   "metadata": {},
   "outputs": [
    {
     "name": "stdout",
     "output_type": "stream",
     "text": [
      "tensor([1., 1., 1., 1., 1.], dtype=torch.float64)\n"
     ]
    }
   ],
   "source": [
    "p = torch.from_numpy(b) # the address of p will be same as a, so any modification in b , reflects in p\n",
    "print(p)"
   ]
  }
 ],
 "metadata": {
  "kernelspec": {
   "display_name": "Python 3 (ipykernel)",
   "language": "python",
   "name": "python3"
  },
  "language_info": {
   "codemirror_mode": {
    "name": "ipython",
    "version": 3
   },
   "file_extension": ".py",
   "mimetype": "text/x-python",
   "name": "python",
   "nbconvert_exporter": "python",
   "pygments_lexer": "ipython3",
   "version": "3.11.3"
  }
 },
 "nbformat": 4,
 "nbformat_minor": 5
}
