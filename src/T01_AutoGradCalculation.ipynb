{
 "cells": [
  {
   "cell_type": "code",
   "execution_count": 1,
   "id": "dcb3c1f7",
   "metadata": {},
   "outputs": [],
   "source": [
    "import torch"
   ]
  },
  {
   "cell_type": "code",
   "execution_count": 20,
   "id": "a37bc96b",
   "metadata": {},
   "outputs": [],
   "source": [
    "x = torch.rand(3, requires_grad=True)"
   ]
  },
  {
   "cell_type": "code",
   "execution_count": 21,
   "id": "f70d3e63",
   "metadata": {},
   "outputs": [
    {
     "name": "stdout",
     "output_type": "stream",
     "text": [
      "tensor([0.5941, 0.1580, 0.4685], requires_grad=True)\n"
     ]
    }
   ],
   "source": [
    "print(x)"
   ]
  },
  {
   "cell_type": "code",
   "execution_count": 22,
   "id": "b1a2bab4",
   "metadata": {},
   "outputs": [
    {
     "name": "stdout",
     "output_type": "stream",
     "text": [
      "tensor([2.5941, 2.1580, 2.4685], grad_fn=<AddBackward0>)\n"
     ]
    }
   ],
   "source": [
    "y = x + 2\n",
    "print(y)"
   ]
  },
  {
   "cell_type": "code",
   "execution_count": 23,
   "id": "db0a2f9a",
   "metadata": {},
   "outputs": [
    {
     "name": "stdout",
     "output_type": "stream",
     "text": [
      "tensor([13.4589,  9.3140, 12.1866], grad_fn=<MulBackward0>)\n"
     ]
    }
   ],
   "source": [
    "z = y*y*2\n",
    "print(z)"
   ]
  },
  {
   "cell_type": "code",
   "execution_count": 24,
   "id": "6407b8a4",
   "metadata": {},
   "outputs": [
    {
     "name": "stdout",
     "output_type": "stream",
     "text": [
      "tensor(11.6532, grad_fn=<MeanBackward0>)\n"
     ]
    }
   ],
   "source": [
    "z = z.mean()\n",
    "print(z)"
   ]
  },
  {
   "cell_type": "code",
   "execution_count": 25,
   "id": "be866b11",
   "metadata": {},
   "outputs": [],
   "source": [
    "z.backward() # here z is a scaler value, we don't have to put any argument in the backward fun"
   ]
  },
  {
   "cell_type": "code",
   "execution_count": 26,
   "id": "cca46a2d",
   "metadata": {},
   "outputs": [
    {
     "name": "stdout",
     "output_type": "stream",
     "text": [
      "tensor([3.4588, 2.8773, 3.2913])\n"
     ]
    }
   ],
   "source": [
    "print(x.grad)"
   ]
  },
  {
   "cell_type": "code",
   "execution_count": 28,
   "id": "07fa4d22",
   "metadata": {},
   "outputs": [
    {
     "name": "stdout",
     "output_type": "stream",
     "text": [
      "tensor([13.4589,  9.3140, 12.1866], grad_fn=<MulBackward0>)\n"
     ]
    }
   ],
   "source": [
    "w = y*y*2 # now here, w is a vector not scaler, we need to modify argumnet of backward function to have grad\n",
    "print(w)"
   ]
  },
  {
   "cell_type": "markdown",
   "id": "aa7dac20",
   "metadata": {},
   "source": [
    "w.backward() -> this will give error 'grad can be implicitly created only for scalar outputs'\n"
   ]
  },
  {
   "cell_type": "code",
   "execution_count": 29,
   "id": "7f7d698b",
   "metadata": {},
   "outputs": [],
   "source": [
    "v = torch.tensor([0.1,1.0,0.001], dtype=torch.float32)\n",
    "w.backward(v)"
   ]
  },
  {
   "cell_type": "code",
   "execution_count": 30,
   "id": "eb8e474c",
   "metadata": {},
   "outputs": [
    {
     "name": "stdout",
     "output_type": "stream",
     "text": [
      "tensor([ 4.4965, 11.5094,  3.3012])\n"
     ]
    }
   ],
   "source": [
    "print(x.grad)"
   ]
  },
  {
   "cell_type": "markdown",
   "id": "548e759d",
   "metadata": {},
   "source": [
    "To prevent PyTorch from tracking the history and creating the gradient function, calculating this grad_fn, we have three methods\n",
    "When we want to update our waits and this operation should not be the part of the gradient operation\n",
    "1. x.requires_grad_(False)\n",
    "2. x.detach()\n",
    "3. with torch.no_grad():"
   ]
  },
  {
   "cell_type": "markdown",
   "id": "63a02229",
   "metadata": {},
   "source": [
    "1. x.requires_grad_(False)"
   ]
  },
  {
   "cell_type": "code",
   "execution_count": 31,
   "id": "5c8171f9",
   "metadata": {},
   "outputs": [
    {
     "name": "stdout",
     "output_type": "stream",
     "text": [
      "tensor([0.5941, 0.1580, 0.4685])\n"
     ]
    }
   ],
   "source": [
    "x.requires_grad_(False)\n",
    "print(x)"
   ]
  },
  {
   "cell_type": "markdown",
   "id": "713ca6e5",
   "metadata": {},
   "source": [
    "2. x.detach()"
   ]
  },
  {
   "cell_type": "code",
   "execution_count": 32,
   "id": "1cd26fd1",
   "metadata": {},
   "outputs": [
    {
     "name": "stdout",
     "output_type": "stream",
     "text": [
      "tensor([0.5941, 0.1580, 0.4685])\n"
     ]
    }
   ],
   "source": [
    "a = x.detach() #this will create a new tensor with same value, but it doesn't require gradient\n",
    "print(a)"
   ]
  },
  {
   "cell_type": "markdown",
   "id": "ec83424b",
   "metadata": {},
   "source": [
    "3. with torch.no_grad()"
   ]
  },
  {
   "cell_type": "code",
   "execution_count": 33,
   "id": "6ddf7a90",
   "metadata": {},
   "outputs": [
    {
     "name": "stdout",
     "output_type": "stream",
     "text": [
      "tensor([2.5941, 2.1580, 2.4685])\n"
     ]
    }
   ],
   "source": [
    "with torch.no_grad():\n",
    "    y = x + 2\n",
    "    print(y)"
   ]
  },
  {
   "cell_type": "code",
   "execution_count": 35,
   "id": "519fcb25",
   "metadata": {},
   "outputs": [],
   "source": [
    "weights = torch.ones(4, requires_grad=True)"
   ]
  },
  {
   "cell_type": "code",
   "execution_count": 36,
   "id": "abaa9525",
   "metadata": {},
   "outputs": [
    {
     "name": "stdout",
     "output_type": "stream",
     "text": [
      "tensor([3., 3., 3., 3.])\n",
      "tensor([6., 6., 6., 6.])\n",
      "tensor([9., 9., 9., 9.])\n",
      "tensor([12., 12., 12., 12.])\n"
     ]
    }
   ],
   "source": [
    "for epoch in range(4):\n",
    "    model_output = (weights * 3).sum()\n",
    "    model_output.backward()\n",
    "    \n",
    "    print(weights.grad)"
   ]
  },
  {
   "cell_type": "markdown",
   "id": "0adc3c0d",
   "metadata": {},
   "source": [
    "We can see above gradients is getting change in every epoch, bcz gradient is getting add in the previous calculated gradient"
   ]
  },
  {
   "cell_type": "code",
   "execution_count": 38,
   "id": "dfa5472f",
   "metadata": {},
   "outputs": [
    {
     "name": "stdout",
     "output_type": "stream",
     "text": [
      "tensor([3., 3., 3., 3.])\n",
      "tensor([3., 3., 3., 3.])\n",
      "tensor([3., 3., 3., 3.])\n",
      "tensor([3., 3., 3., 3.])\n"
     ]
    }
   ],
   "source": [
    "weights.grad.zero_()\n",
    "for epoch in range(4):\n",
    "    model_output = (weights * 3).sum()\n",
    "    model_output.backward()\n",
    "    \n",
    "    print(weights.grad)\n",
    "    weights.grad.zero_()"
   ]
  }
 ],
 "metadata": {
  "kernelspec": {
   "display_name": "Python 3 (ipykernel)",
   "language": "python",
   "name": "python3"
  },
  "language_info": {
   "codemirror_mode": {
    "name": "ipython",
    "version": 3
   },
   "file_extension": ".py",
   "mimetype": "text/x-python",
   "name": "python",
   "nbconvert_exporter": "python",
   "pygments_lexer": "ipython3",
   "version": "3.11.3"
  }
 },
 "nbformat": 4,
 "nbformat_minor": 5
}
