{
 "cells": [
  {
   "cell_type": "code",
   "execution_count": 1,
   "id": "9f474050",
   "metadata": {},
   "outputs": [],
   "source": [
    "import torch\n",
    "import torchvision\n",
    "from torchvision.datasets import MNIST"
   ]
  },
  {
   "cell_type": "markdown",
   "id": "78eb8503",
   "metadata": {},
   "source": [
    "### Importing dataset"
   ]
  },
  {
   "cell_type": "code",
   "execution_count": 2,
   "id": "79067832",
   "metadata": {},
   "outputs": [],
   "source": [
    "# directly converting the dataset to torch readable, for that we need transform module of torch\n",
    "import torchvision.transforms as transforms"
   ]
  },
  {
   "cell_type": "code",
   "execution_count": 3,
   "id": "274376e3",
   "metadata": {},
   "outputs": [],
   "source": [
    "dataset = MNIST(root='dataset/', \n",
    "                train=True,\n",
    "                transform=transforms.ToTensor())"
   ]
  },
  {
   "cell_type": "code",
   "execution_count": 4,
   "id": "c44e083b",
   "metadata": {},
   "outputs": [
    {
     "data": {
      "text/plain": [
       "torchvision.datasets.mnist.MNIST"
      ]
     },
     "execution_count": 4,
     "metadata": {},
     "output_type": "execute_result"
    }
   ],
   "source": [
    "type(dataset)"
   ]
  },
  {
   "cell_type": "markdown",
   "id": "4d93f3cd",
   "metadata": {},
   "source": [
    "Visualizing the data of the dataset"
   ]
  },
  {
   "cell_type": "code",
   "execution_count": 5,
   "id": "efbf46cf",
   "metadata": {
    "collapsed": true
   },
   "outputs": [
    {
     "data": {
      "text/plain": [
       "(tensor([[[0.0000, 0.0000, 0.0000, 0.0000, 0.0000, 0.0000, 0.0000, 0.0000,\n",
       "           0.0000, 0.0000, 0.0000, 0.0000, 0.0000, 0.0000, 0.0000, 0.0000,\n",
       "           0.0000, 0.0000, 0.0000, 0.0000, 0.0000, 0.0000, 0.0000, 0.0000,\n",
       "           0.0000, 0.0000, 0.0000, 0.0000],\n",
       "          [0.0000, 0.0000, 0.0000, 0.0000, 0.0000, 0.0000, 0.0000, 0.0000,\n",
       "           0.0000, 0.0000, 0.0000, 0.0000, 0.0000, 0.0000, 0.0000, 0.0000,\n",
       "           0.0000, 0.0000, 0.0000, 0.0000, 0.0000, 0.0000, 0.0000, 0.0000,\n",
       "           0.0000, 0.0000, 0.0000, 0.0000],\n",
       "          [0.0000, 0.0000, 0.0000, 0.0000, 0.0000, 0.0000, 0.0000, 0.0000,\n",
       "           0.0000, 0.0000, 0.0000, 0.0000, 0.0000, 0.0000, 0.0000, 0.0000,\n",
       "           0.0000, 0.0000, 0.0000, 0.0000, 0.0000, 0.0000, 0.0000, 0.0000,\n",
       "           0.0000, 0.0000, 0.0000, 0.0000],\n",
       "          [0.0000, 0.0000, 0.0000, 0.0000, 0.0000, 0.0000, 0.0000, 0.0000,\n",
       "           0.0000, 0.0000, 0.0000, 0.0000, 0.0000, 0.0000, 0.0000, 0.0000,\n",
       "           0.0000, 0.0000, 0.0000, 0.0000, 0.0000, 0.0000, 0.0000, 0.0000,\n",
       "           0.0000, 0.0000, 0.0000, 0.0000],\n",
       "          [0.0000, 0.0000, 0.0000, 0.0000, 0.0000, 0.0000, 0.0000, 0.0000,\n",
       "           0.0000, 0.0000, 0.0000, 0.0000, 0.0000, 0.0000, 0.0000, 0.0000,\n",
       "           0.0000, 0.0000, 0.0000, 0.0000, 0.0000, 0.0000, 0.0000, 0.0000,\n",
       "           0.0000, 0.0000, 0.0000, 0.0000],\n",
       "          [0.0000, 0.0000, 0.0000, 0.0000, 0.0000, 0.0000, 0.0000, 0.0000,\n",
       "           0.0000, 0.0000, 0.0000, 0.0000, 0.0118, 0.0706, 0.0706, 0.0706,\n",
       "           0.4941, 0.5333, 0.6863, 0.1020, 0.6510, 1.0000, 0.9686, 0.4980,\n",
       "           0.0000, 0.0000, 0.0000, 0.0000],\n",
       "          [0.0000, 0.0000, 0.0000, 0.0000, 0.0000, 0.0000, 0.0000, 0.0000,\n",
       "           0.1176, 0.1412, 0.3686, 0.6039, 0.6667, 0.9922, 0.9922, 0.9922,\n",
       "           0.9922, 0.9922, 0.8824, 0.6745, 0.9922, 0.9490, 0.7647, 0.2510,\n",
       "           0.0000, 0.0000, 0.0000, 0.0000],\n",
       "          [0.0000, 0.0000, 0.0000, 0.0000, 0.0000, 0.0000, 0.0000, 0.1922,\n",
       "           0.9333, 0.9922, 0.9922, 0.9922, 0.9922, 0.9922, 0.9922, 0.9922,\n",
       "           0.9922, 0.9843, 0.3647, 0.3216, 0.3216, 0.2196, 0.1529, 0.0000,\n",
       "           0.0000, 0.0000, 0.0000, 0.0000],\n",
       "          [0.0000, 0.0000, 0.0000, 0.0000, 0.0000, 0.0000, 0.0000, 0.0706,\n",
       "           0.8588, 0.9922, 0.9922, 0.9922, 0.9922, 0.9922, 0.7765, 0.7137,\n",
       "           0.9686, 0.9451, 0.0000, 0.0000, 0.0000, 0.0000, 0.0000, 0.0000,\n",
       "           0.0000, 0.0000, 0.0000, 0.0000],\n",
       "          [0.0000, 0.0000, 0.0000, 0.0000, 0.0000, 0.0000, 0.0000, 0.0000,\n",
       "           0.3137, 0.6118, 0.4196, 0.9922, 0.9922, 0.8039, 0.0431, 0.0000,\n",
       "           0.1686, 0.6039, 0.0000, 0.0000, 0.0000, 0.0000, 0.0000, 0.0000,\n",
       "           0.0000, 0.0000, 0.0000, 0.0000],\n",
       "          [0.0000, 0.0000, 0.0000, 0.0000, 0.0000, 0.0000, 0.0000, 0.0000,\n",
       "           0.0000, 0.0549, 0.0039, 0.6039, 0.9922, 0.3529, 0.0000, 0.0000,\n",
       "           0.0000, 0.0000, 0.0000, 0.0000, 0.0000, 0.0000, 0.0000, 0.0000,\n",
       "           0.0000, 0.0000, 0.0000, 0.0000],\n",
       "          [0.0000, 0.0000, 0.0000, 0.0000, 0.0000, 0.0000, 0.0000, 0.0000,\n",
       "           0.0000, 0.0000, 0.0000, 0.5451, 0.9922, 0.7451, 0.0078, 0.0000,\n",
       "           0.0000, 0.0000, 0.0000, 0.0000, 0.0000, 0.0000, 0.0000, 0.0000,\n",
       "           0.0000, 0.0000, 0.0000, 0.0000],\n",
       "          [0.0000, 0.0000, 0.0000, 0.0000, 0.0000, 0.0000, 0.0000, 0.0000,\n",
       "           0.0000, 0.0000, 0.0000, 0.0431, 0.7451, 0.9922, 0.2745, 0.0000,\n",
       "           0.0000, 0.0000, 0.0000, 0.0000, 0.0000, 0.0000, 0.0000, 0.0000,\n",
       "           0.0000, 0.0000, 0.0000, 0.0000],\n",
       "          [0.0000, 0.0000, 0.0000, 0.0000, 0.0000, 0.0000, 0.0000, 0.0000,\n",
       "           0.0000, 0.0000, 0.0000, 0.0000, 0.1373, 0.9451, 0.8824, 0.6275,\n",
       "           0.4235, 0.0039, 0.0000, 0.0000, 0.0000, 0.0000, 0.0000, 0.0000,\n",
       "           0.0000, 0.0000, 0.0000, 0.0000],\n",
       "          [0.0000, 0.0000, 0.0000, 0.0000, 0.0000, 0.0000, 0.0000, 0.0000,\n",
       "           0.0000, 0.0000, 0.0000, 0.0000, 0.0000, 0.3176, 0.9412, 0.9922,\n",
       "           0.9922, 0.4667, 0.0980, 0.0000, 0.0000, 0.0000, 0.0000, 0.0000,\n",
       "           0.0000, 0.0000, 0.0000, 0.0000],\n",
       "          [0.0000, 0.0000, 0.0000, 0.0000, 0.0000, 0.0000, 0.0000, 0.0000,\n",
       "           0.0000, 0.0000, 0.0000, 0.0000, 0.0000, 0.0000, 0.1765, 0.7294,\n",
       "           0.9922, 0.9922, 0.5882, 0.1059, 0.0000, 0.0000, 0.0000, 0.0000,\n",
       "           0.0000, 0.0000, 0.0000, 0.0000],\n",
       "          [0.0000, 0.0000, 0.0000, 0.0000, 0.0000, 0.0000, 0.0000, 0.0000,\n",
       "           0.0000, 0.0000, 0.0000, 0.0000, 0.0000, 0.0000, 0.0000, 0.0627,\n",
       "           0.3647, 0.9882, 0.9922, 0.7333, 0.0000, 0.0000, 0.0000, 0.0000,\n",
       "           0.0000, 0.0000, 0.0000, 0.0000],\n",
       "          [0.0000, 0.0000, 0.0000, 0.0000, 0.0000, 0.0000, 0.0000, 0.0000,\n",
       "           0.0000, 0.0000, 0.0000, 0.0000, 0.0000, 0.0000, 0.0000, 0.0000,\n",
       "           0.0000, 0.9765, 0.9922, 0.9765, 0.2510, 0.0000, 0.0000, 0.0000,\n",
       "           0.0000, 0.0000, 0.0000, 0.0000],\n",
       "          [0.0000, 0.0000, 0.0000, 0.0000, 0.0000, 0.0000, 0.0000, 0.0000,\n",
       "           0.0000, 0.0000, 0.0000, 0.0000, 0.0000, 0.0000, 0.1804, 0.5098,\n",
       "           0.7176, 0.9922, 0.9922, 0.8118, 0.0078, 0.0000, 0.0000, 0.0000,\n",
       "           0.0000, 0.0000, 0.0000, 0.0000],\n",
       "          [0.0000, 0.0000, 0.0000, 0.0000, 0.0000, 0.0000, 0.0000, 0.0000,\n",
       "           0.0000, 0.0000, 0.0000, 0.0000, 0.1529, 0.5804, 0.8980, 0.9922,\n",
       "           0.9922, 0.9922, 0.9804, 0.7137, 0.0000, 0.0000, 0.0000, 0.0000,\n",
       "           0.0000, 0.0000, 0.0000, 0.0000],\n",
       "          [0.0000, 0.0000, 0.0000, 0.0000, 0.0000, 0.0000, 0.0000, 0.0000,\n",
       "           0.0000, 0.0000, 0.0941, 0.4471, 0.8667, 0.9922, 0.9922, 0.9922,\n",
       "           0.9922, 0.7882, 0.3059, 0.0000, 0.0000, 0.0000, 0.0000, 0.0000,\n",
       "           0.0000, 0.0000, 0.0000, 0.0000],\n",
       "          [0.0000, 0.0000, 0.0000, 0.0000, 0.0000, 0.0000, 0.0000, 0.0000,\n",
       "           0.0902, 0.2588, 0.8353, 0.9922, 0.9922, 0.9922, 0.9922, 0.7765,\n",
       "           0.3176, 0.0078, 0.0000, 0.0000, 0.0000, 0.0000, 0.0000, 0.0000,\n",
       "           0.0000, 0.0000, 0.0000, 0.0000],\n",
       "          [0.0000, 0.0000, 0.0000, 0.0000, 0.0000, 0.0000, 0.0706, 0.6706,\n",
       "           0.8588, 0.9922, 0.9922, 0.9922, 0.9922, 0.7647, 0.3137, 0.0353,\n",
       "           0.0000, 0.0000, 0.0000, 0.0000, 0.0000, 0.0000, 0.0000, 0.0000,\n",
       "           0.0000, 0.0000, 0.0000, 0.0000],\n",
       "          [0.0000, 0.0000, 0.0000, 0.0000, 0.2157, 0.6745, 0.8863, 0.9922,\n",
       "           0.9922, 0.9922, 0.9922, 0.9569, 0.5216, 0.0431, 0.0000, 0.0000,\n",
       "           0.0000, 0.0000, 0.0000, 0.0000, 0.0000, 0.0000, 0.0000, 0.0000,\n",
       "           0.0000, 0.0000, 0.0000, 0.0000],\n",
       "          [0.0000, 0.0000, 0.0000, 0.0000, 0.5333, 0.9922, 0.9922, 0.9922,\n",
       "           0.8314, 0.5294, 0.5176, 0.0627, 0.0000, 0.0000, 0.0000, 0.0000,\n",
       "           0.0000, 0.0000, 0.0000, 0.0000, 0.0000, 0.0000, 0.0000, 0.0000,\n",
       "           0.0000, 0.0000, 0.0000, 0.0000],\n",
       "          [0.0000, 0.0000, 0.0000, 0.0000, 0.0000, 0.0000, 0.0000, 0.0000,\n",
       "           0.0000, 0.0000, 0.0000, 0.0000, 0.0000, 0.0000, 0.0000, 0.0000,\n",
       "           0.0000, 0.0000, 0.0000, 0.0000, 0.0000, 0.0000, 0.0000, 0.0000,\n",
       "           0.0000, 0.0000, 0.0000, 0.0000],\n",
       "          [0.0000, 0.0000, 0.0000, 0.0000, 0.0000, 0.0000, 0.0000, 0.0000,\n",
       "           0.0000, 0.0000, 0.0000, 0.0000, 0.0000, 0.0000, 0.0000, 0.0000,\n",
       "           0.0000, 0.0000, 0.0000, 0.0000, 0.0000, 0.0000, 0.0000, 0.0000,\n",
       "           0.0000, 0.0000, 0.0000, 0.0000],\n",
       "          [0.0000, 0.0000, 0.0000, 0.0000, 0.0000, 0.0000, 0.0000, 0.0000,\n",
       "           0.0000, 0.0000, 0.0000, 0.0000, 0.0000, 0.0000, 0.0000, 0.0000,\n",
       "           0.0000, 0.0000, 0.0000, 0.0000, 0.0000, 0.0000, 0.0000, 0.0000,\n",
       "           0.0000, 0.0000, 0.0000, 0.0000]]]),\n",
       " 5)"
      ]
     },
     "execution_count": 5,
     "metadata": {},
     "output_type": "execute_result"
    }
   ],
   "source": [
    "dataset[0]\n",
    "# we can see every index of dataset is a tuple\n",
    "# each tuple contains image and label"
   ]
  },
  {
   "cell_type": "markdown",
   "id": "7d87b9a8",
   "metadata": {},
   "source": [
    "Let's visualize a image using matplotlib"
   ]
  },
  {
   "cell_type": "code",
   "execution_count": 6,
   "id": "9aafe852",
   "metadata": {},
   "outputs": [],
   "source": [
    "import matplotlib.pyplot as plt\n",
    "%matplotlib inline"
   ]
  },
  {
   "cell_type": "code",
   "execution_count": 7,
   "id": "6be20195",
   "metadata": {
    "collapsed": true
   },
   "outputs": [
    {
     "data": {
      "text/plain": [
       "<matplotlib.image.AxesImage at 0x219d0f8b290>"
      ]
     },
     "execution_count": 7,
     "metadata": {},
     "output_type": "execute_result"
    },
    {
     "data": {
      "image/png": "[encoded data removed]",
      "text/plain": [
       "<Figure size 640x480 with 1 Axes>"
      ]
     },
     "metadata": {},
     "output_type": "display_data"
    }
   ],
   "source": [
    "plt.imshow(dataset[567][0][0], cmap=\"gray\")"
   ]
  },
  {
   "cell_type": "markdown",
   "id": "eb0aab20",
   "metadata": {},
   "source": [
    "## Training and Validation Datasets"
   ]
  },
  {
   "cell_type": "code",
   "execution_count": 8,
   "id": "ccfa6ed0",
   "metadata": {},
   "outputs": [],
   "source": [
    "from torch.utils.data import random_split"
   ]
  },
  {
   "cell_type": "code",
   "execution_count": 9,
   "id": "a6291f0d",
   "metadata": {},
   "outputs": [
    {
     "data": {
      "text/plain": [
       "(50000, 10000)"
      ]
     },
     "execution_count": 9,
     "metadata": {},
     "output_type": "execute_result"
    }
   ],
   "source": [
    "train_ds, val_ds = random_split(dataset, [50000, 10000])\n",
    "len(train_ds), len(val_ds)"
   ]
  },
  {
   "cell_type": "code",
   "execution_count": 10,
   "id": "d20b6415",
   "metadata": {},
   "outputs": [],
   "source": [
    "from torch.utils.data import DataLoader"
   ]
  },
  {
   "cell_type": "code",
   "execution_count": 11,
   "id": "301e712a",
   "metadata": {},
   "outputs": [],
   "source": [
    "batch_size = 50\n",
    "train_loader = DataLoader(train_ds, batch_size, shuffle=True)\n",
    "val_loader = DataLoader(val_ds, batch_size)"
   ]
  },
  {
   "cell_type": "markdown",
   "id": "88213b0a",
   "metadata": {},
   "source": [
    "## Model"
   ]
  },
  {
   "cell_type": "code",
   "execution_count": 12,
   "id": "bf11ec94",
   "metadata": {},
   "outputs": [],
   "source": [
    "import torch.nn as nn\n",
    "import torch.nn.functional as F"
   ]
  },
  {
   "cell_type": "code",
   "execution_count": 13,
   "id": "00614107",
   "metadata": {},
   "outputs": [],
   "source": [
    "model = nn.Linear(784, 10)"
   ]
  },
  {
   "cell_type": "code",
   "execution_count": 14,
   "id": "5449fef5",
   "metadata": {
    "collapsed": true
   },
   "outputs": [
    {
     "data": {
      "text/plain": [
       "Parameter containing:\n",
       "tensor([[-0.0341,  0.0239, -0.0120,  ...,  0.0046,  0.0149,  0.0016],\n",
       "        [-0.0120, -0.0037,  0.0320,  ..., -0.0192, -0.0065, -0.0170],\n",
       "        [ 0.0265,  0.0247, -0.0273,  ...,  0.0201,  0.0049, -0.0103],\n",
       "        ...,\n",
       "        [ 0.0338, -0.0270, -0.0021,  ..., -0.0203, -0.0312, -0.0247],\n",
       "        [ 0.0216,  0.0050,  0.0355,  ..., -0.0089,  0.0303, -0.0181],\n",
       "        [-0.0332, -0.0272,  0.0201,  ...,  0.0227, -0.0107, -0.0206]],\n",
       "       requires_grad=True)"
      ]
     },
     "execution_count": 14,
     "metadata": {},
     "output_type": "execute_result"
    }
   ],
   "source": [
    "model.weight"
   ]
  },
  {
   "cell_type": "code",
   "execution_count": 15,
   "id": "494e8db7",
   "metadata": {},
   "outputs": [
    {
     "data": {
      "text/plain": [
       "Parameter containing:\n",
       "tensor([ 0.0214,  0.0273,  0.0218,  0.0344,  0.0212, -0.0184, -0.0019,  0.0038,\n",
       "         0.0212,  0.0118], requires_grad=True)"
      ]
     },
     "execution_count": 15,
     "metadata": {},
     "output_type": "execute_result"
    }
   ],
   "source": [
    "model.bias"
   ]
  },
  {
   "cell_type": "code",
   "execution_count": 16,
   "id": "3f24d05a",
   "metadata": {},
   "outputs": [],
   "source": [
    "# definign the prediction function, which do the linear regression of every batch\n",
    "def prediction(batch):\n",
    "    images, _ = batch\n",
    "    return model(images.reshape(-1, 784))"
   ]
  },
  {
   "cell_type": "code",
   "execution_count": 17,
   "id": "fdb8e33c",
   "metadata": {},
   "outputs": [],
   "source": [
    "# to accuracy function we will give two parameter\n",
    "# para1 -> we will the direct ouput came from model(this is bcz, the output from \n",
    "# sofmax function is directly proportional to output of model prediction), prediction, so need of actually calculating softmax seperatly, this will come in use when we will calculate the loss using cross entropy\n",
    "# para2 -> corresponding original label\n",
    "def accuracy(prediction, originalLabels):\n",
    "    _, labelPred = torch.max(prediction, dim=1)\n",
    "    return torch.sum(labelPred == originalLabels).item()/len(labelPred)"
   ]
  },
  {
   "cell_type": "code",
   "execution_count": 18,
   "id": "dc5827df",
   "metadata": {},
   "outputs": [],
   "source": [
    "def lossFun(batch):\n",
    "    _, labels = batch\n",
    "    pred = prediction(batch)\n",
    "    loss = F.cross_entropy(pred, labels)\n",
    "    return loss"
   ]
  },
  {
   "cell_type": "code",
   "execution_count": 19,
   "id": "15ee2731",
   "metadata": {},
   "outputs": [],
   "source": [
    "\"\"\"\n",
    "we will train the model like -> firstly we will divide the dataset in batches, train the\n",
    "model on a batch, find out the loss, to decrease the loss set the weights.\n",
    "For upcoming batch repeate the process\n",
    "\"\"\"\n",
    "\n",
    "def training_step(learningRate, train_loader):\n",
    "    optimizer = torch.optim.SGD(model.parameters(), learningRate)\n",
    "    # this optimizer is used to update the weights and bais\n",
    "    for batch in train_loader:\n",
    "        \n",
    "        # taking out the image and label from every batch\n",
    "        images, label = batch\n",
    "        loss = lossFun(batch)\n",
    "        loss.backward()\n",
    "        optimizer.step()\n",
    "        optimizer.zero_grad()"
   ]
  },
  {
   "cell_type": "code",
   "execution_count": 20,
   "id": "ba3683b1",
   "metadata": {},
   "outputs": [],
   "source": [
    "# in validation batch step we will calculate the loss and accuracy of a batch of validation dataset\n",
    "def validation_batch_step(batch):\n",
    "    images, labels = batch\n",
    "    pred = prediction(batch)\n",
    "    loss = lossFun(batch)\n",
    "    acc = accuracy(pred, labels)\n",
    "    return {'val_loss': loss, 'val_acc': acc} # keeping the loss and acc in a dictionary and returning ot"
   ]
  },
  {
   "cell_type": "code",
   "execution_count": 21,
   "id": "2c70b44d",
   "metadata": {},
   "outputs": [],
   "source": [
    "# this is an extra step, just to see our training is getting good or not, or we have to change something, or we need to change the model\n",
    "def validation_step_end(allLossAccOfValLoader):\n",
    "    batch_losses = [x['val_loss'] for x in allLossAccOfValLoader]\n",
    "    epoch_loss = torch.stack(batch_losses).mean()\n",
    "    batch_accs = [x['val_acc'] for x in allLossAccOfValLoader]\n",
    "    epoch_acc = round(sum(batch_accs)/len(batch_accs), 5)\n",
    "    return {'val_loss': epoch_loss.item(), 'val_acc': epoch_acc}"
   ]
  },
  {
   "cell_type": "code",
   "execution_count": 22,
   "id": "8851c72e",
   "metadata": {},
   "outputs": [],
   "source": [
    "def evaluate(val_loader):\n",
    "    allLossAccOfValLoader = [validation_batch_step(batch) for batch in val_loader]\n",
    "    return validation_step_end(allLossAccOfValLoader)"
   ]
  },
  {
   "cell_type": "code",
   "execution_count": 23,
   "id": "1e50c4d7",
   "metadata": {},
   "outputs": [],
   "source": [
    "def epoch_end(epoch, result):\n",
    "    print(\"Epoch [{}], val_loss: {:.4f}, val_acc: {:.4f}\".format(epoch, result['val_loss'], result['val_acc']))"
   ]
  },
  {
   "cell_type": "code",
   "execution_count": 24,
   "id": "32207292",
   "metadata": {},
   "outputs": [],
   "source": [
    "def fit(epochs, learningRate, train_loader, val_loader):\n",
    "    \n",
    "    history = []\n",
    "    for epoch in range(epochs):\n",
    "        \n",
    "        # training phase\n",
    "        training_step(learningRate, train_loader)\n",
    "        \n",
    "        # validation phase\n",
    "        result = evaluate(val_loader)\n",
    "        epoch_end(epoch, result)\n",
    "        history.append(result)\n",
    "    \n",
    "    return history"
   ]
  },
  {
   "cell_type": "code",
   "execution_count": 25,
   "id": "a682775b",
   "metadata": {},
   "outputs": [
    {
     "name": "stdout",
     "output_type": "stream",
     "text": [
      "Epoch [0], val_loss: 2.2553, val_acc: 0.1787\n",
      "Epoch [1], val_loss: 2.1557, val_acc: 0.3294\n",
      "Epoch [2], val_loss: 2.0644, val_acc: 0.4841\n",
      "Epoch [3], val_loss: 1.9802, val_acc: 0.5874\n",
      "Epoch [4], val_loss: 1.9021, val_acc: 0.6507\n",
      "Epoch [5], val_loss: 1.8297, val_acc: 0.6908\n",
      "Epoch [6], val_loss: 1.7625, val_acc: 0.7142\n",
      "Epoch [7], val_loss: 1.7001, val_acc: 0.7278\n",
      "Epoch [8], val_loss: 1.6422, val_acc: 0.7398\n",
      "Epoch [9], val_loss: 1.5885, val_acc: 0.7511\n"
     ]
    }
   ],
   "source": [
    "history1 = fit(10, 0.0001, train_loader, val_loader)"
   ]
  },
  {
   "cell_type": "code",
   "execution_count": 26,
   "id": "6d942353",
   "metadata": {},
   "outputs": [
    {
     "name": "stdout",
     "output_type": "stream",
     "text": [
      "Epoch [0], val_loss: 1.5385, val_acc: 0.7572\n",
      "Epoch [1], val_loss: 1.4920, val_acc: 0.7648\n",
      "Epoch [2], val_loss: 1.4487, val_acc: 0.7713\n",
      "Epoch [3], val_loss: 1.4084, val_acc: 0.7758\n",
      "Epoch [4], val_loss: 1.3707, val_acc: 0.7797\n",
      "Epoch [5], val_loss: 1.3356, val_acc: 0.7837\n",
      "Epoch [6], val_loss: 1.3026, val_acc: 0.7865\n",
      "Epoch [7], val_loss: 1.2718, val_acc: 0.7906\n",
      "Epoch [8], val_loss: 1.2429, val_acc: 0.7937\n",
      "Epoch [9], val_loss: 1.2157, val_acc: 0.7960\n"
     ]
    }
   ],
   "source": [
    "history2 = fit(10, 0.0001, train_loader, val_loader)"
   ]
  },
  {
   "cell_type": "code",
   "execution_count": 27,
   "id": "71ed8128",
   "metadata": {},
   "outputs": [
    {
     "name": "stdout",
     "output_type": "stream",
     "text": [
      "Epoch [0], val_loss: 1.1901, val_acc: 0.7991\n",
      "Epoch [1], val_loss: 1.1661, val_acc: 0.8030\n",
      "Epoch [2], val_loss: 1.1433, val_acc: 0.8048\n",
      "Epoch [3], val_loss: 1.1219, val_acc: 0.8067\n",
      "Epoch [4], val_loss: 1.1016, val_acc: 0.8083\n",
      "Epoch [5], val_loss: 1.0824, val_acc: 0.8100\n",
      "Epoch [6], val_loss: 1.0641, val_acc: 0.8120\n",
      "Epoch [7], val_loss: 1.0468, val_acc: 0.8135\n",
      "Epoch [8], val_loss: 1.0304, val_acc: 0.8153\n",
      "Epoch [9], val_loss: 1.0147, val_acc: 0.8171\n"
     ]
    }
   ],
   "source": [
    "history3 = fit(10, 0.0001, train_loader, val_loader)"
   ]
  },
  {
   "cell_type": "code",
   "execution_count": 28,
   "id": "d6c7413c",
   "metadata": {},
   "outputs": [
    {
     "name": "stdout",
     "output_type": "stream",
     "text": [
      "Epoch [0], val_loss: 0.8916, val_acc: 0.8280\n",
      "Epoch [1], val_loss: 0.8089, val_acc: 0.8353\n",
      "Epoch [2], val_loss: 0.7489, val_acc: 0.8417\n",
      "Epoch [3], val_loss: 0.7036, val_acc: 0.8481\n",
      "Epoch [4], val_loss: 0.6678, val_acc: 0.8532\n",
      "Epoch [5], val_loss: 0.6388, val_acc: 0.8552\n",
      "Epoch [6], val_loss: 0.6147, val_acc: 0.8571\n",
      "Epoch [7], val_loss: 0.5944, val_acc: 0.8597\n",
      "Epoch [8], val_loss: 0.5768, val_acc: 0.8628\n",
      "Epoch [9], val_loss: 0.5617, val_acc: 0.8651\n"
     ]
    }
   ],
   "source": [
    "history4 = fit(10, 0.001, train_loader, val_loader)"
   ]
  },
  {
   "cell_type": "code",
   "execution_count": 29,
   "id": "efda5242",
   "metadata": {},
   "outputs": [
    {
     "name": "stdout",
     "output_type": "stream",
     "text": [
      "Epoch [0], val_loss: 0.5603, val_acc: 0.8651\n",
      "Epoch [1], val_loss: 0.5589, val_acc: 0.8651\n",
      "Epoch [2], val_loss: 0.5575, val_acc: 0.8654\n",
      "Epoch [3], val_loss: 0.5561, val_acc: 0.8655\n",
      "Epoch [4], val_loss: 0.5548, val_acc: 0.8655\n",
      "Epoch [5], val_loss: 0.5535, val_acc: 0.8655\n",
      "Epoch [6], val_loss: 0.5522, val_acc: 0.8655\n",
      "Epoch [7], val_loss: 0.5509, val_acc: 0.8656\n",
      "Epoch [8], val_loss: 0.5496, val_acc: 0.8658\n",
      "Epoch [9], val_loss: 0.5483, val_acc: 0.8661\n"
     ]
    }
   ],
   "source": [
    "history5 = fit(10, 0.0001, train_loader, val_loader)"
   ]
  },
  {
   "cell_type": "code",
   "execution_count": 30,
   "id": "ec6a4f6b",
   "metadata": {},
   "outputs": [
    {
     "name": "stdout",
     "output_type": "stream",
     "text": [
      "Epoch [0], val_loss: 0.5365, val_acc: 0.8673\n",
      "Epoch [1], val_loss: 0.5258, val_acc: 0.8695\n",
      "Epoch [2], val_loss: 0.5163, val_acc: 0.8701\n",
      "Epoch [3], val_loss: 0.5077, val_acc: 0.8711\n",
      "Epoch [4], val_loss: 0.4997, val_acc: 0.8730\n",
      "Epoch [5], val_loss: 0.4925, val_acc: 0.8740\n",
      "Epoch [6], val_loss: 0.4859, val_acc: 0.8752\n",
      "Epoch [7], val_loss: 0.4797, val_acc: 0.8761\n",
      "Epoch [8], val_loss: 0.4740, val_acc: 0.8773\n",
      "Epoch [9], val_loss: 0.4688, val_acc: 0.8784\n"
     ]
    }
   ],
   "source": [
    "history6 = fit(10, 0.001, train_loader, val_loader)"
   ]
  },
  {
   "cell_type": "code",
   "execution_count": 31,
   "id": "6b2eb7fa",
   "metadata": {},
   "outputs": [
    {
     "name": "stdout",
     "output_type": "stream",
     "text": [
      "Epoch [0], val_loss: 0.4683, val_acc: 0.8786\n",
      "Epoch [1], val_loss: 0.4677, val_acc: 0.8786\n",
      "Epoch [2], val_loss: 0.4672, val_acc: 0.8785\n",
      "Epoch [3], val_loss: 0.4667, val_acc: 0.8790\n",
      "Epoch [4], val_loss: 0.4662, val_acc: 0.8791\n",
      "Epoch [5], val_loss: 0.4657, val_acc: 0.8796\n",
      "Epoch [6], val_loss: 0.4652, val_acc: 0.8796\n",
      "Epoch [7], val_loss: 0.4647, val_acc: 0.8795\n",
      "Epoch [8], val_loss: 0.4642, val_acc: 0.8795\n",
      "Epoch [9], val_loss: 0.4637, val_acc: 0.8795\n"
     ]
    }
   ],
   "source": [
    "history7 = fit(10, 0.0001, train_loader, val_loader)"
   ]
  },
  {
   "cell_type": "code",
   "execution_count": 32,
   "id": "68a60867",
   "metadata": {},
   "outputs": [
    {
     "name": "stdout",
     "output_type": "stream",
     "text": [
      "Epoch [0], val_loss: 0.4591, val_acc: 0.8808\n",
      "Epoch [1], val_loss: 0.4548, val_acc: 0.8811\n",
      "Epoch [2], val_loss: 0.4506, val_acc: 0.8817\n",
      "Epoch [3], val_loss: 0.4467, val_acc: 0.8828\n",
      "Epoch [4], val_loss: 0.4431, val_acc: 0.8830\n",
      "Epoch [5], val_loss: 0.4395, val_acc: 0.8832\n",
      "Epoch [6], val_loss: 0.4363, val_acc: 0.8845\n",
      "Epoch [7], val_loss: 0.4332, val_acc: 0.8852\n",
      "Epoch [8], val_loss: 0.4302, val_acc: 0.8853\n",
      "Epoch [9], val_loss: 0.4273, val_acc: 0.8861\n"
     ]
    }
   ],
   "source": [
    "history8 = fit(10, 0.001, train_loader, val_loader)"
   ]
  },
  {
   "cell_type": "code",
   "execution_count": 33,
   "id": "453a5a30",
   "metadata": {},
   "outputs": [
    {
     "name": "stdout",
     "output_type": "stream",
     "text": [
      "Epoch [0], val_loss: 0.4247, val_acc: 0.8866\n",
      "Epoch [1], val_loss: 0.4220, val_acc: 0.8872\n",
      "Epoch [2], val_loss: 0.4196, val_acc: 0.8875\n",
      "Epoch [3], val_loss: 0.4171, val_acc: 0.8887\n",
      "Epoch [4], val_loss: 0.4148, val_acc: 0.8889\n",
      "Epoch [5], val_loss: 0.4126, val_acc: 0.8888\n",
      "Epoch [6], val_loss: 0.4106, val_acc: 0.8893\n",
      "Epoch [7], val_loss: 0.4085, val_acc: 0.8902\n",
      "Epoch [8], val_loss: 0.4066, val_acc: 0.8904\n",
      "Epoch [9], val_loss: 0.4048, val_acc: 0.8908\n"
     ]
    }
   ],
   "source": [
    "history9 = fit(10, 0.001, train_loader, val_loader)"
   ]
  },
  {
   "cell_type": "code",
   "execution_count": 34,
   "id": "9ac2348f",
   "metadata": {},
   "outputs": [
    {
     "name": "stdout",
     "output_type": "stream",
     "text": [
      "Epoch [0], val_loss: 0.4030, val_acc: 0.8908\n",
      "Epoch [1], val_loss: 0.4012, val_acc: 0.8911\n",
      "Epoch [2], val_loss: 0.3994, val_acc: 0.8920\n",
      "Epoch [3], val_loss: 0.3978, val_acc: 0.8923\n",
      "Epoch [4], val_loss: 0.3961, val_acc: 0.8928\n",
      "Epoch [5], val_loss: 0.3947, val_acc: 0.8935\n",
      "Epoch [6], val_loss: 0.3931, val_acc: 0.8937\n",
      "Epoch [7], val_loss: 0.3917, val_acc: 0.8939\n",
      "Epoch [8], val_loss: 0.3903, val_acc: 0.8942\n",
      "Epoch [9], val_loss: 0.3889, val_acc: 0.8940\n"
     ]
    }
   ],
   "source": [
    "history10 = fit(10, 0.001, train_loader, val_loader)"
   ]
  },
  {
   "cell_type": "code",
   "execution_count": 35,
   "id": "2e61126f",
   "metadata": {},
   "outputs": [
    {
     "name": "stdout",
     "output_type": "stream",
     "text": [
      "Epoch [0], val_loss: 0.3876, val_acc: 0.8946\n",
      "Epoch [1], val_loss: 0.3863, val_acc: 0.8951\n",
      "Epoch [2], val_loss: 0.3850, val_acc: 0.8956\n",
      "Epoch [3], val_loss: 0.3838, val_acc: 0.8958\n",
      "Epoch [4], val_loss: 0.3827, val_acc: 0.8958\n",
      "Epoch [5], val_loss: 0.3815, val_acc: 0.8961\n",
      "Epoch [6], val_loss: 0.3804, val_acc: 0.8966\n",
      "Epoch [7], val_loss: 0.3792, val_acc: 0.8967\n",
      "Epoch [8], val_loss: 0.3782, val_acc: 0.8965\n",
      "Epoch [9], val_loss: 0.3772, val_acc: 0.8967\n"
     ]
    }
   ],
   "source": [
    "history11 = fit(10, 0.001, train_loader, val_loader)"
   ]
  },
  {
   "cell_type": "code",
   "execution_count": 36,
   "id": "129a2ceb",
   "metadata": {},
   "outputs": [
    {
     "name": "stdout",
     "output_type": "stream",
     "text": [
      "Epoch [0], val_loss: 0.3761, val_acc: 0.8973\n",
      "Epoch [1], val_loss: 0.3752, val_acc: 0.8969\n",
      "Epoch [2], val_loss: 0.3742, val_acc: 0.8973\n",
      "Epoch [3], val_loss: 0.3733, val_acc: 0.8973\n",
      "Epoch [4], val_loss: 0.3722, val_acc: 0.8970\n",
      "Epoch [5], val_loss: 0.3714, val_acc: 0.8972\n",
      "Epoch [6], val_loss: 0.3705, val_acc: 0.8972\n",
      "Epoch [7], val_loss: 0.3696, val_acc: 0.8972\n",
      "Epoch [8], val_loss: 0.3688, val_acc: 0.8977\n",
      "Epoch [9], val_loss: 0.3679, val_acc: 0.8981\n"
     ]
    }
   ],
   "source": [
    "history12 = fit(10, 0.001, train_loader, val_loader)"
   ]
  },
  {
   "cell_type": "code",
   "execution_count": 37,
   "id": "9f5ac9e0",
   "metadata": {},
   "outputs": [
    {
     "data": {
      "text/plain": [
       "[Parameter containing:\n",
       " tensor([[-0.0341,  0.0239, -0.0120,  ...,  0.0046,  0.0149,  0.0016],\n",
       "         [-0.0120, -0.0037,  0.0320,  ..., -0.0192, -0.0065, -0.0170],\n",
       "         [ 0.0265,  0.0247, -0.0273,  ...,  0.0201,  0.0049, -0.0103],\n",
       "         ...,\n",
       "         [ 0.0338, -0.0270, -0.0021,  ..., -0.0203, -0.0312, -0.0247],\n",
       "         [ 0.0216,  0.0050,  0.0355,  ..., -0.0089,  0.0303, -0.0181],\n",
       "         [-0.0332, -0.0272,  0.0201,  ...,  0.0227, -0.0107, -0.0206]],\n",
       "        requires_grad=True),\n",
       " Parameter containing:\n",
       " tensor([-0.1061,  0.2569, -0.0200, -0.0685,  0.0876,  0.3297, -0.0155,  0.2012,\n",
       "         -0.4569, -0.0657], requires_grad=True)]"
      ]
     },
     "execution_count": 37,
     "metadata": {},
     "output_type": "execute_result"
    }
   ],
   "source": [
    "list(model.parameters())"
   ]
  },
  {
   "cell_type": "code",
   "execution_count": 38,
   "id": "e03bac4c",
   "metadata": {},
   "outputs": [
    {
     "data": {
      "image/png": "[encoded data removed]",
      "text/plain": [
       "<Figure size 640x480 with 1 Axes>"
      ]
     },
     "metadata": {},
     "output_type": "display_data"
    }
   ],
   "source": [
    "history = history1 + history2 + history3 + history4 + history5 + history6 + history7 + history8 + history9 + history10 + history11 + history12\n",
    "accuracies = [result['val_acc'] for result in history]\n",
    "plt.plot(accuracies, '-x')\n",
    "plt.xlabel('epoch')\n",
    "plt.ylabel('accuracy')\n",
    "plt.title('Accuracy vs. No. of epochs');"
   ]
  },
  {
   "cell_type": "markdown",
   "id": "e0a4cf96",
   "metadata": {},
   "source": [
    "# Testing with individual image"
   ]
  },
  {
   "cell_type": "code",
   "execution_count": 40,
   "id": "04d8a198",
   "metadata": {},
   "outputs": [],
   "source": [
    "test_dataset = MNIST(root='dataset/', \n",
    "                     train=False,\n",
    "                     transform=transforms.ToTensor())"
   ]
  },
  {
   "cell_type": "code",
   "execution_count": 41,
   "id": "24c44d3e",
   "metadata": {},
   "outputs": [
    {
     "data": {
      "text/plain": [
       "(tensor([[[0.0000, 0.0000, 0.0000, 0.0000, 0.0000, 0.0000, 0.0000, 0.0000,\n",
       "           0.0000, 0.0000, 0.0000, 0.0000, 0.0000, 0.0000, 0.0000, 0.0000,\n",
       "           0.0000, 0.0000, 0.0000, 0.0000, 0.0000, 0.0000, 0.0000, 0.0000,\n",
       "           0.0000, 0.0000, 0.0000, 0.0000],\n",
       "          [0.0000, 0.0000, 0.0000, 0.0000, 0.0000, 0.0000, 0.0000, 0.0000,\n",
       "           0.0000, 0.0000, 0.0000, 0.0000, 0.0000, 0.0000, 0.0000, 0.0000,\n",
       "           0.0000, 0.0000, 0.0000, 0.0000, 0.0000, 0.0000, 0.0000, 0.0000,\n",
       "           0.0000, 0.0000, 0.0000, 0.0000],\n",
       "          [0.0000, 0.0000, 0.0000, 0.0000, 0.0000, 0.0000, 0.0000, 0.0000,\n",
       "           0.0000, 0.0000, 0.0000, 0.0000, 0.0000, 0.0000, 0.0000, 0.0000,\n",
       "           0.0000, 0.0000, 0.0000, 0.0000, 0.0000, 0.0000, 0.0000, 0.0000,\n",
       "           0.0000, 0.0000, 0.0000, 0.0000],\n",
       "          [0.0000, 0.0000, 0.0000, 0.0000, 0.0000, 0.0000, 0.0000, 0.0000,\n",
       "           0.0000, 0.0000, 0.0000, 0.0000, 0.0000, 0.0000, 0.0000, 0.0000,\n",
       "           0.0000, 0.0000, 0.0000, 0.0000, 0.0000, 0.0000, 0.0000, 0.0000,\n",
       "           0.0000, 0.0000, 0.0000, 0.0000],\n",
       "          [0.0000, 0.0000, 0.0000, 0.0000, 0.0000, 0.0000, 0.0000, 0.0000,\n",
       "           0.0000, 0.0000, 0.0000, 0.0000, 0.0000, 0.0000, 0.0000, 0.0000,\n",
       "           0.0000, 0.0000, 0.0000, 0.0000, 0.0000, 0.0000, 0.0000, 0.0000,\n",
       "           0.0000, 0.0000, 0.0000, 0.0000],\n",
       "          [0.0000, 0.0000, 0.0000, 0.0000, 0.0000, 0.0000, 0.0000, 0.0000,\n",
       "           0.0000, 0.0000, 0.0000, 0.0000, 0.0000, 0.0000, 0.0000, 0.0000,\n",
       "           0.0000, 0.0000, 0.0000, 0.0000, 0.0000, 0.0000, 0.0000, 0.0000,\n",
       "           0.0000, 0.0000, 0.0000, 0.0000],\n",
       "          [0.0000, 0.0000, 0.0000, 0.0000, 0.0000, 0.0000, 0.0000, 0.0000,\n",
       "           0.0000, 0.0000, 0.0000, 0.0000, 0.0000, 0.0000, 0.0000, 0.0000,\n",
       "           0.0000, 0.0000, 0.0000, 0.0000, 0.0000, 0.0000, 0.0000, 0.0000,\n",
       "           0.0000, 0.0000, 0.0000, 0.0000],\n",
       "          [0.0000, 0.0000, 0.0000, 0.0000, 0.0000, 0.0000, 0.3294, 0.7255,\n",
       "           0.6235, 0.5922, 0.2353, 0.1412, 0.0000, 0.0000, 0.0000, 0.0000,\n",
       "           0.0000, 0.0000, 0.0000, 0.0000, 0.0000, 0.0000, 0.0000, 0.0000,\n",
       "           0.0000, 0.0000, 0.0000, 0.0000],\n",
       "          [0.0000, 0.0000, 0.0000, 0.0000, 0.0000, 0.0000, 0.8706, 0.9961,\n",
       "           0.9961, 0.9961, 0.9961, 0.9451, 0.7765, 0.7765, 0.7765, 0.7765,\n",
       "           0.7765, 0.7765, 0.7765, 0.7765, 0.6667, 0.2039, 0.0000, 0.0000,\n",
       "           0.0000, 0.0000, 0.0000, 0.0000],\n",
       "          [0.0000, 0.0000, 0.0000, 0.0000, 0.0000, 0.0000, 0.2627, 0.4471,\n",
       "           0.2824, 0.4471, 0.6392, 0.8902, 0.9961, 0.8824, 0.9961, 0.9961,\n",
       "           0.9961, 0.9804, 0.8980, 0.9961, 0.9961, 0.5490, 0.0000, 0.0000,\n",
       "           0.0000, 0.0000, 0.0000, 0.0000],\n",
       "          [0.0000, 0.0000, 0.0000, 0.0000, 0.0000, 0.0000, 0.0000, 0.0000,\n",
       "           0.0000, 0.0000, 0.0000, 0.0667, 0.2588, 0.0549, 0.2627, 0.2627,\n",
       "           0.2627, 0.2314, 0.0824, 0.9255, 0.9961, 0.4157, 0.0000, 0.0000,\n",
       "           0.0000, 0.0000, 0.0000, 0.0000],\n",
       "          [0.0000, 0.0000, 0.0000, 0.0000, 0.0000, 0.0000, 0.0000, 0.0000,\n",
       "           0.0000, 0.0000, 0.0000, 0.0000, 0.0000, 0.0000, 0.0000, 0.0000,\n",
       "           0.0000, 0.0000, 0.3255, 0.9922, 0.8196, 0.0706, 0.0000, 0.0000,\n",
       "           0.0000, 0.0000, 0.0000, 0.0000],\n",
       "          [0.0000, 0.0000, 0.0000, 0.0000, 0.0000, 0.0000, 0.0000, 0.0000,\n",
       "           0.0000, 0.0000, 0.0000, 0.0000, 0.0000, 0.0000, 0.0000, 0.0000,\n",
       "           0.0000, 0.0863, 0.9137, 1.0000, 0.3255, 0.0000, 0.0000, 0.0000,\n",
       "           0.0000, 0.0000, 0.0000, 0.0000],\n",
       "          [0.0000, 0.0000, 0.0000, 0.0000, 0.0000, 0.0000, 0.0000, 0.0000,\n",
       "           0.0000, 0.0000, 0.0000, 0.0000, 0.0000, 0.0000, 0.0000, 0.0000,\n",
       "           0.0000, 0.5059, 0.9961, 0.9333, 0.1725, 0.0000, 0.0000, 0.0000,\n",
       "           0.0000, 0.0000, 0.0000, 0.0000],\n",
       "          [0.0000, 0.0000, 0.0000, 0.0000, 0.0000, 0.0000, 0.0000, 0.0000,\n",
       "           0.0000, 0.0000, 0.0000, 0.0000, 0.0000, 0.0000, 0.0000, 0.0000,\n",
       "           0.2314, 0.9765, 0.9961, 0.2431, 0.0000, 0.0000, 0.0000, 0.0000,\n",
       "           0.0000, 0.0000, 0.0000, 0.0000],\n",
       "          [0.0000, 0.0000, 0.0000, 0.0000, 0.0000, 0.0000, 0.0000, 0.0000,\n",
       "           0.0000, 0.0000, 0.0000, 0.0000, 0.0000, 0.0000, 0.0000, 0.0000,\n",
       "           0.5216, 0.9961, 0.7333, 0.0196, 0.0000, 0.0000, 0.0000, 0.0000,\n",
       "           0.0000, 0.0000, 0.0000, 0.0000],\n",
       "          [0.0000, 0.0000, 0.0000, 0.0000, 0.0000, 0.0000, 0.0000, 0.0000,\n",
       "           0.0000, 0.0000, 0.0000, 0.0000, 0.0000, 0.0000, 0.0000, 0.0353,\n",
       "           0.8039, 0.9725, 0.2275, 0.0000, 0.0000, 0.0000, 0.0000, 0.0000,\n",
       "           0.0000, 0.0000, 0.0000, 0.0000],\n",
       "          [0.0000, 0.0000, 0.0000, 0.0000, 0.0000, 0.0000, 0.0000, 0.0000,\n",
       "           0.0000, 0.0000, 0.0000, 0.0000, 0.0000, 0.0000, 0.0000, 0.4941,\n",
       "           0.9961, 0.7137, 0.0000, 0.0000, 0.0000, 0.0000, 0.0000, 0.0000,\n",
       "           0.0000, 0.0000, 0.0000, 0.0000],\n",
       "          [0.0000, 0.0000, 0.0000, 0.0000, 0.0000, 0.0000, 0.0000, 0.0000,\n",
       "           0.0000, 0.0000, 0.0000, 0.0000, 0.0000, 0.0000, 0.2941, 0.9843,\n",
       "           0.9412, 0.2235, 0.0000, 0.0000, 0.0000, 0.0000, 0.0000, 0.0000,\n",
       "           0.0000, 0.0000, 0.0000, 0.0000],\n",
       "          [0.0000, 0.0000, 0.0000, 0.0000, 0.0000, 0.0000, 0.0000, 0.0000,\n",
       "           0.0000, 0.0000, 0.0000, 0.0000, 0.0000, 0.0745, 0.8667, 0.9961,\n",
       "           0.6510, 0.0000, 0.0000, 0.0000, 0.0000, 0.0000, 0.0000, 0.0000,\n",
       "           0.0000, 0.0000, 0.0000, 0.0000],\n",
       "          [0.0000, 0.0000, 0.0000, 0.0000, 0.0000, 0.0000, 0.0000, 0.0000,\n",
       "           0.0000, 0.0000, 0.0000, 0.0000, 0.0118, 0.7961, 0.9961, 0.8588,\n",
       "           0.1373, 0.0000, 0.0000, 0.0000, 0.0000, 0.0000, 0.0000, 0.0000,\n",
       "           0.0000, 0.0000, 0.0000, 0.0000],\n",
       "          [0.0000, 0.0000, 0.0000, 0.0000, 0.0000, 0.0000, 0.0000, 0.0000,\n",
       "           0.0000, 0.0000, 0.0000, 0.0000, 0.1490, 0.9961, 0.9961, 0.3020,\n",
       "           0.0000, 0.0000, 0.0000, 0.0000, 0.0000, 0.0000, 0.0000, 0.0000,\n",
       "           0.0000, 0.0000, 0.0000, 0.0000],\n",
       "          [0.0000, 0.0000, 0.0000, 0.0000, 0.0000, 0.0000, 0.0000, 0.0000,\n",
       "           0.0000, 0.0000, 0.0000, 0.1216, 0.8784, 0.9961, 0.4510, 0.0039,\n",
       "           0.0000, 0.0000, 0.0000, 0.0000, 0.0000, 0.0000, 0.0000, 0.0000,\n",
       "           0.0000, 0.0000, 0.0000, 0.0000],\n",
       "          [0.0000, 0.0000, 0.0000, 0.0000, 0.0000, 0.0000, 0.0000, 0.0000,\n",
       "           0.0000, 0.0000, 0.0000, 0.5216, 0.9961, 0.9961, 0.2039, 0.0000,\n",
       "           0.0000, 0.0000, 0.0000, 0.0000, 0.0000, 0.0000, 0.0000, 0.0000,\n",
       "           0.0000, 0.0000, 0.0000, 0.0000],\n",
       "          [0.0000, 0.0000, 0.0000, 0.0000, 0.0000, 0.0000, 0.0000, 0.0000,\n",
       "           0.0000, 0.0000, 0.2392, 0.9490, 0.9961, 0.9961, 0.2039, 0.0000,\n",
       "           0.0000, 0.0000, 0.0000, 0.0000, 0.0000, 0.0000, 0.0000, 0.0000,\n",
       "           0.0000, 0.0000, 0.0000, 0.0000],\n",
       "          [0.0000, 0.0000, 0.0000, 0.0000, 0.0000, 0.0000, 0.0000, 0.0000,\n",
       "           0.0000, 0.0000, 0.4745, 0.9961, 0.9961, 0.8588, 0.1569, 0.0000,\n",
       "           0.0000, 0.0000, 0.0000, 0.0000, 0.0000, 0.0000, 0.0000, 0.0000,\n",
       "           0.0000, 0.0000, 0.0000, 0.0000],\n",
       "          [0.0000, 0.0000, 0.0000, 0.0000, 0.0000, 0.0000, 0.0000, 0.0000,\n",
       "           0.0000, 0.0000, 0.4745, 0.9961, 0.8118, 0.0706, 0.0000, 0.0000,\n",
       "           0.0000, 0.0000, 0.0000, 0.0000, 0.0000, 0.0000, 0.0000, 0.0000,\n",
       "           0.0000, 0.0000, 0.0000, 0.0000],\n",
       "          [0.0000, 0.0000, 0.0000, 0.0000, 0.0000, 0.0000, 0.0000, 0.0000,\n",
       "           0.0000, 0.0000, 0.0000, 0.0000, 0.0000, 0.0000, 0.0000, 0.0000,\n",
       "           0.0000, 0.0000, 0.0000, 0.0000, 0.0000, 0.0000, 0.0000, 0.0000,\n",
       "           0.0000, 0.0000, 0.0000, 0.0000]]]),\n",
       " 7)"
      ]
     },
     "execution_count": 41,
     "metadata": {},
     "output_type": "execute_result"
    }
   ],
   "source": [
    "test_dataset[0]"
   ]
  },
  {
   "cell_type": "code",
   "execution_count": 42,
   "id": "da5f0add",
   "metadata": {},
   "outputs": [],
   "source": [
    "def predict_image(img, model):\n",
    "    xb = img.reshape(-1, 784)\n",
    "    yb = model(xb)\n",
    "    _, preds = torch.max(yb, dim=1)\n",
    "    print(preds)"
   ]
  },
  {
   "cell_type": "code",
   "execution_count": 44,
   "id": "b5acccdf",
   "metadata": {},
   "outputs": [
    {
     "name": "stdout",
     "output_type": "stream",
     "text": [
      "tensor([6])\n"
     ]
    }
   ],
   "source": [
    "predict_image(test_dataset[98][0], model)"
   ]
  },
  {
   "cell_type": "code",
   "execution_count": 45,
   "id": "64f84e98",
   "metadata": {},
   "outputs": [
    {
     "data": {
      "text/plain": [
       "6"
      ]
     },
     "execution_count": 45,
     "metadata": {},
     "output_type": "execute_result"
    }
   ],
   "source": [
    "test_dataset[98][1]"
   ]
  },
  {
   "cell_type": "code",
   "execution_count": 90,
   "id": "21111e78",
   "metadata": {},
   "outputs": [
    {
     "data": {
      "text/plain": [
       "<matplotlib.image.AxesImage at 0x219dd5ccc50>"
      ]
     },
     "execution_count": 90,
     "metadata": {},
     "output_type": "execute_result"
    },
    {
     "data": {
      "image/png": "[encoded data removed]",
      "text/plain": [
       "<Figure size 640x480 with 1 Axes>"
      ]
     },
     "metadata": {},
     "output_type": "display_data"
    }
   ],
   "source": [
    "plt.imshow(test_dataset[98][0][0], cmap=\"gray\")"
   ]
  },
  {
   "cell_type": "markdown",
   "id": "c7d5ebba",
   "metadata": {},
   "source": [
    "# Saving the model"
   ]
  },
  {
   "cell_type": "markdown",
   "id": "3553050a",
   "metadata": {},
   "source": [
    "we will save the models weight and bias, so that in future we no need to train again"
   ]
  },
  {
   "cell_type": "code",
   "execution_count": 104,
   "id": "be07f7d9",
   "metadata": {},
   "outputs": [],
   "source": [
    "torch.save(model.state_dict(), 'SavedModel/T04_MinistModel-linear-logistic.pth')"
   ]
  },
  {
   "cell_type": "code",
   "execution_count": 92,
   "id": "18734c49",
   "metadata": {},
   "outputs": [
    {
     "data": {
      "text/plain": [
       "OrderedDict([('weight',\n",
       "              tensor([[-0.0341,  0.0239, -0.0120,  ...,  0.0046,  0.0149,  0.0016],\n",
       "                      [-0.0120, -0.0037,  0.0320,  ..., -0.0192, -0.0065, -0.0170],\n",
       "                      [ 0.0265,  0.0247, -0.0273,  ...,  0.0201,  0.0049, -0.0103],\n",
       "                      ...,\n",
       "                      [ 0.0338, -0.0270, -0.0021,  ..., -0.0203, -0.0312, -0.0247],\n",
       "                      [ 0.0216,  0.0050,  0.0355,  ..., -0.0089,  0.0303, -0.0181],\n",
       "                      [-0.0332, -0.0272,  0.0201,  ...,  0.0227, -0.0107, -0.0206]])),\n",
       "             ('bias',\n",
       "              tensor([-0.1061,  0.2569, -0.0200, -0.0685,  0.0876,  0.3297, -0.0155,  0.2012,\n",
       "                      -0.4569, -0.0657]))])"
      ]
     },
     "execution_count": 92,
     "metadata": {},
     "output_type": "execute_result"
    }
   ],
   "source": [
    "model.state_dict()"
   ]
  },
  {
   "cell_type": "code",
   "execution_count": 105,
   "id": "ba6a8f1c",
   "metadata": {},
   "outputs": [],
   "source": [
    "model2 = nn.Linear(784, 10)"
   ]
  },
  {
   "cell_type": "code",
   "execution_count": 106,
   "id": "90d45e0f",
   "metadata": {},
   "outputs": [
    {
     "data": {
      "text/plain": [
       "OrderedDict([('weight',\n",
       "              tensor([[-0.0341,  0.0239, -0.0120,  ...,  0.0046,  0.0149,  0.0016],\n",
       "                      [-0.0120, -0.0037,  0.0320,  ..., -0.0192, -0.0065, -0.0170],\n",
       "                      [ 0.0265,  0.0247, -0.0273,  ...,  0.0201,  0.0049, -0.0103],\n",
       "                      ...,\n",
       "                      [ 0.0338, -0.0270, -0.0021,  ..., -0.0203, -0.0312, -0.0247],\n",
       "                      [ 0.0216,  0.0050,  0.0355,  ..., -0.0089,  0.0303, -0.0181],\n",
       "                      [-0.0332, -0.0272,  0.0201,  ...,  0.0227, -0.0107, -0.0206]])),\n",
       "             ('bias',\n",
       "              tensor([-0.1061,  0.2569, -0.0200, -0.0685,  0.0876,  0.3297, -0.0155,  0.2012,\n",
       "                      -0.4569, -0.0657]))])"
      ]
     },
     "execution_count": 106,
     "metadata": {},
     "output_type": "execute_result"
    }
   ],
   "source": [
    "model2.load_state_dict(torch.load('SavedModel/T04_MinistModel-linear-logistic.pth'))\n",
    "model2.state_dict()"
   ]
  }
 ],
 "metadata": {
  "kernelspec": {
   "display_name": "Python 3 (ipykernel)",
   "language": "python",
   "name": "python3"
  },
  "language_info": {
   "codemirror_mode": {
    "name": "ipython",
    "version": 3
   },
   "file_extension": ".py",
   "mimetype": "text/x-python",
   "name": "python",
   "nbconvert_exporter": "python",
   "pygments_lexer": "ipython3",
   "version": "3.11.3"
  }
 },
 "nbformat": 4,
 "nbformat_minor": 5
}
