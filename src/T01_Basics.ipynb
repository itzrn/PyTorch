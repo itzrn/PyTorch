{
 "cells": [
  {
   "cell_type": "code",
   "execution_count": 2,
   "id": "d613f555",
   "metadata": {},
   "outputs": [],
   "source": [
    "import torch as pt"
   ]
  },
  {
   "cell_type": "markdown",
   "id": "d482138f",
   "metadata": {},
   "source": [
    "This is the way to know the version of PyTorch "
   ]
  },
  {
   "cell_type": "code",
   "execution_count": 3,
   "id": "37a22de8",
   "metadata": {},
   "outputs": [
    {
     "name": "stdout",
     "output_type": "stream",
     "text": [
      "2.0.1\n"
     ]
    }
   ],
   "source": [
    "print(pt.__version__)"
   ]
  },
  {
   "cell_type": "markdown",
   "id": "d7808551",
   "metadata": {},
   "source": [
    "At its core, PyTorch is a library for processing tensors. A tensor is a number, vector, matrix or any n-dimensional array."
   ]
  },
  {
   "cell_type": "markdown",
   "id": "b1ca7d75",
   "metadata": {},
   "source": [
    "Let's create a tensor with a single number:"
   ]
  },
  {
   "cell_type": "code",
   "execution_count": 4,
   "id": "d44c10cd",
   "metadata": {},
   "outputs": [
    {
     "name": "stdout",
     "output_type": "stream",
     "text": [
      "tensor(4.)\n"
     ]
    }
   ],
   "source": [
    "t1 = pt.tensor(4.)\n",
    "print(t1)"
   ]
  },
  {
   "cell_type": "code",
   "execution_count": 5,
   "id": "768ced50",
   "metadata": {},
   "outputs": [
    {
     "name": "stdout",
     "output_type": "stream",
     "text": [
      "torch.float32\n"
     ]
    }
   ],
   "source": [
    "print(t1.dtype)"
   ]
  },
  {
   "cell_type": "code",
   "execution_count": 7,
   "id": "01fb5547",
   "metadata": {},
   "outputs": [
    {
     "name": "stdout",
     "output_type": "stream",
     "text": [
      "tensor(10)\n"
     ]
    }
   ],
   "source": [
    "t1 = pt.tensor(10)\n",
    "print(t1)"
   ]
  },
  {
   "cell_type": "code",
   "execution_count": 8,
   "id": "c4e7ca36",
   "metadata": {},
   "outputs": [
    {
     "name": "stdout",
     "output_type": "stream",
     "text": [
      "torch.int64\n"
     ]
    }
   ],
   "source": [
    "print(t1.dtype)"
   ]
  },
  {
   "cell_type": "markdown",
   "id": "0ba23771",
   "metadata": {},
   "source": [
    "4. is a shorthand for 4.0. It is used to indicate to Python (and PyTorch) that you want to create a floating point number. We can verify this by checking the dtype attribute of our tensor:"
   ]
  },
  {
   "cell_type": "markdown",
   "id": "53d1db01",
   "metadata": {},
   "source": [
    "# Let's Try Creating Complex Tensors"
   ]
  },
  {
   "cell_type": "markdown",
   "id": "f08fd3f6",
   "metadata": {},
   "source": [
    "### Vectors"
   ]
  },
  {
   "cell_type": "code",
   "execution_count": 10,
   "id": "b8ce3853",
   "metadata": {},
   "outputs": [
    {
     "name": "stdout",
     "output_type": "stream",
     "text": [
      "torch.float32\n"
     ]
    }
   ],
   "source": [
    "t2 = pt.tensor([1.,2,3,4]) # if any one of the element is in float, tensor will convert all the element of vector to floating point\n",
    "print(t2.dtype)"
   ]
  },
  {
   "cell_type": "code",
   "execution_count": 11,
   "id": "1e5b7b94",
   "metadata": {},
   "outputs": [
    {
     "name": "stdout",
     "output_type": "stream",
     "text": [
      "torch.int64\n"
     ]
    }
   ],
   "source": [
    "t2 = pt.tensor([1,2,3,4])\n",
    "print(t2.dtype)"
   ]
  },
  {
   "cell_type": "markdown",
   "id": "85266ca9",
   "metadata": {},
   "source": [
    "### Matrix"
   ]
  },
  {
   "cell_type": "code",
   "execution_count": 21,
   "id": "3ffb8d7c",
   "metadata": {},
   "outputs": [
    {
     "name": "stdout",
     "output_type": "stream",
     "text": [
      "torch.float32\n"
     ]
    }
   ],
   "source": [
    "t3 = pt.tensor([[5., 6], \n",
    "                [7, 8], \n",
    "                [9, 10]])  # if any one of the element is in float, it will convert all the element in float\n",
    "print(t3.dtype)"
   ]
  },
  {
   "cell_type": "code",
   "execution_count": 20,
   "id": "97f5a4cb",
   "metadata": {},
   "outputs": [
    {
     "name": "stdout",
     "output_type": "stream",
     "text": [
      "tensor([[ 5,  6],\n",
      "        [ 7,  8],\n",
      "        [ 9, 10]])\n",
      "torch.int64\n"
     ]
    }
   ],
   "source": [
    "t3 = pt.tensor([[5, 6], \n",
    "                [7, 8], \n",
    "                [9, 10]])\n",
    "print(t3)\n",
    "print(t3.dtype)"
   ]
  },
  {
   "cell_type": "markdown",
   "id": "e36b2da5",
   "metadata": {},
   "source": [
    "### 3D Array"
   ]
  },
  {
   "cell_type": "code",
   "execution_count": 22,
   "id": "ccee0055",
   "metadata": {},
   "outputs": [
    {
     "name": "stdout",
     "output_type": "stream",
     "text": [
      "tensor([[[11., 12., 13.],\n",
      "         [13., 14., 15.]],\n",
      "\n",
      "        [[15., 16., 17.],\n",
      "         [17., 18., 19.]]])\n"
     ]
    }
   ],
   "source": [
    "t4 = pt.tensor([[[11, 12, 13],\n",
    "                 [13, 14, 15]],\n",
    "                [[15, 16, 17],\n",
    "                 [17, 18, 19.]]])\n",
    "print(t4)"
   ]
  },
  {
   "cell_type": "markdown",
   "id": "861a380d",
   "metadata": {},
   "source": [
    "Tensors can have any number of dimensions, and different lengths along each dimension. We can inspect the length along each dimension using the .shape property of a tensor."
   ]
  },
  {
   "cell_type": "code",
   "execution_count": 23,
   "id": "c86c8ff0",
   "metadata": {},
   "outputs": [
    {
     "name": "stdout",
     "output_type": "stream",
     "text": [
      "tensor(10)\n",
      "torch.Size([])\n"
     ]
    }
   ],
   "source": [
    "print(t1) # this have no dimension\n",
    "print(t1.shape) # so, this will return empty list"
   ]
  },
  {
   "cell_type": "code",
   "execution_count": 24,
   "id": "c1095c63",
   "metadata": {},
   "outputs": [
    {
     "name": "stdout",
     "output_type": "stream",
     "text": [
      "tensor([1, 2, 3, 4])\n",
      "torch.Size([4])\n"
     ]
    }
   ],
   "source": [
    "print(t2)\n",
    "print(t2.shape) # this will return, one number, which implies the dimension is 1D"
   ]
  },
  {
   "cell_type": "code",
   "execution_count": 28,
   "id": "0f25a504",
   "metadata": {},
   "outputs": [
    {
     "name": "stdout",
     "output_type": "stream",
     "text": [
      "tensor([[ 5.,  6.],\n",
      "        [ 7.,  8.],\n",
      "        [ 9., 10.]])\n",
      "torch.Size([3, 2])\n"
     ]
    }
   ],
   "source": [
    "print(t3)\n",
    "print(t3.shape)"
   ]
  },
  {
   "cell_type": "code",
   "execution_count": 29,
   "id": "84cba36b",
   "metadata": {},
   "outputs": [
    {
     "name": "stdout",
     "output_type": "stream",
     "text": [
      "tensor([[[11., 12., 13.],\n",
      "         [13., 14., 15.]],\n",
      "\n",
      "        [[15., 16., 17.],\n",
      "         [17., 18., 19.]]])\n",
      "torch.Size([2, 2, 3])\n"
     ]
    }
   ],
   "source": [
    "print(t4)\n",
    "print(t4.shape)"
   ]
  },
  {
   "cell_type": "markdown",
   "id": "98cbaa80",
   "metadata": {},
   "source": [
    "##### Tensor can only be form when the shape of the tensor is proper\n",
    "t3 = pt.tensor([[5, 6, 7],</br>\n",
    "&nbsp;&nbsp;&nbsp;&nbsp;&nbsp;&nbsp;&nbsp;&nbsp;&nbsp;&nbsp;&nbsp;&nbsp;&nbsp;&nbsp;&nbsp;&nbsp;&nbsp;&nbsp;&nbsp;&nbsp;&nbsp;&nbsp;&nbsp;&nbsp;[7, 8], </br>\n",
    "&nbsp;&nbsp;&nbsp;&nbsp;&nbsp;&nbsp;&nbsp;&nbsp;&nbsp;&nbsp;&nbsp;&nbsp;&nbsp;&nbsp;&nbsp;&nbsp;&nbsp;&nbsp;&nbsp;&nbsp;&nbsp;&nbsp;&nbsp;&nbsp;[9, 10]])</br>\n",
    "The above tensor is not in the proper shape, so it will give error"
   ]
  },
  {
   "cell_type": "markdown",
   "id": "387fe8cc",
   "metadata": {},
   "source": [
    "# Tensor operations and gradients\n",
    "We can combine tensors with the usual arithmetic operations.</br>\n",
    "Creating Tensor"
   ]
  },
  {
   "cell_type": "code",
   "execution_count": 34,
   "id": "80a0f9c9",
   "metadata": {},
   "outputs": [
    {
     "name": "stdout",
     "output_type": "stream",
     "text": [
      "tensor(3.)\n",
      "tensor(4., requires_grad=True)\n",
      "tensor(5., requires_grad=True)\n"
     ]
    }
   ],
   "source": [
    "x = pt.tensor(3.) \n",
    "# putting required_grad, indicates to torch, that this derivate is required or not\n",
    "# keeping True indicates its required\n",
    "w = pt.tensor(4., requires_grad=True) # required_grad is usefull to lower the computation's\n",
    "b = pt.tensor(5., requires_grad=True)\n",
    "print(x)\n",
    "print(w)\n",
    "print(b)"
   ]
  },
  {
   "cell_type": "markdown",
   "id": "b5af6863",
   "metadata": {},
   "source": [
    "We've created 3 tensors x, w and b, all numbers. w and b have an additional parameter requires_grad set to True. We'll see what it does in just a moment.\n",
    "</br>\n",
    "Let's create a new tensor y by combining these tensors:"
   ]
  },
  {
   "cell_type": "markdown",
   "id": "3b381ce5",
   "metadata": {},
   "source": [
    "### Arithmetic operations"
   ]
  },
  {
   "cell_type": "code",
   "execution_count": 35,
   "id": "4627689d",
   "metadata": {},
   "outputs": [
    {
     "name": "stdout",
     "output_type": "stream",
     "text": [
      "tensor(17., grad_fn=<AddBackward0>)\n"
     ]
    }
   ],
   "source": [
    "y = w * x + b\n",
    "print(y)"
   ]
  },
  {
   "cell_type": "markdown",
   "id": "be36db0d",
   "metadata": {},
   "source": [
    "As expected, y is a tensor with the value 3 * 4 + 5 = 17. </br>What makes PyTorch special is that we can automatically compute the derivative of y w.r.t. the tensors that have requires_grad set to True i.e. w and b. To compute the derivatives, we can call the .backward method on our result y."
   ]
  },
  {
   "cell_type": "markdown",
   "id": "015054e5",
   "metadata": {},
   "source": [
    "### Complete derivation\n",
    "Whenever the term comes gradient, then we talk about the derivatives of the vectors, matrix etc"
   ]
  },
  {
   "cell_type": "code",
   "execution_count": 37,
   "id": "f8db5c6c",
   "metadata": {},
   "outputs": [],
   "source": [
    "y.backward()"
   ]
  },
  {
   "cell_type": "markdown",
   "id": "0b936379",
   "metadata": {},
   "source": [
    "The derivates of y w.r.t the input tensors are stored in the .grad property of the respective tensors."
   ]
  },
  {
   "cell_type": "markdown",
   "id": "6dc78f39",
   "metadata": {},
   "source": [
    "### Display gradients"
   ]
  },
  {
   "cell_type": "code",
   "execution_count": 38,
   "id": "6dddd1b3",
   "metadata": {},
   "outputs": [
    {
     "name": "stdout",
     "output_type": "stream",
     "text": [
      "dy/dx: None\n",
      "dy/dw: tensor(3.)\n",
      "dy/db: tensor(1.)\n"
     ]
    }
   ],
   "source": [
    "print('dy/dx:', x.grad) # this will come none, bcz we won't required the derivative w.r.t x\n",
    "print('dy/dw:', w.grad)\n",
    "print('dy/db:', b.grad)"
   ]
  },
  {
   "cell_type": "markdown",
   "id": "9a5872cb",
   "metadata": {},
   "source": [
    "As expected, dy/dw has the same value as x i.e. 3, and dy/db has the value 1. Note that x.grad is None, because x doesn't have requires_grad set to True.\n",
    "</br>\n",
    "The \"grad\" in w.grad stands for gradient, which is another term for derivative, used mainly when dealing with matrices."
   ]
  },
  {
   "cell_type": "markdown",
   "id": "4c84bf17",
   "metadata": {},
   "source": [
    "# Interoperability with Numpy\n",
    "Instead of reinventing the wheel, PyTorch interoperates really well with Numpy to leverage its existing ecosystem of tools and libraries.\n",
    "\n"
   ]
  },
  {
   "cell_type": "markdown",
   "id": "e43ad626",
   "metadata": {},
   "source": [
    "Here's how we create an array in Numpy:"
   ]
  },
  {
   "cell_type": "code",
   "execution_count": 39,
   "id": "983bb9e3",
   "metadata": {},
   "outputs": [],
   "source": [
    "import numpy as np"
   ]
  },
  {
   "cell_type": "code",
   "execution_count": 47,
   "id": "10a749f3",
   "metadata": {},
   "outputs": [
    {
     "name": "stdout",
     "output_type": "stream",
     "text": [
      "[[1. 2.]\n",
      " [3. 4.]]\n"
     ]
    }
   ],
   "source": [
    "x = np.array([[1, 2], [3, 4.]])\n",
    "print(x)"
   ]
  },
  {
   "cell_type": "markdown",
   "id": "9c2e785e",
   "metadata": {},
   "source": [
    "We can convert a Numpy array to a PyTorch tensor using torch.from_numpy."
   ]
  },
  {
   "cell_type": "code",
   "execution_count": 48,
   "id": "6369256f",
   "metadata": {},
   "outputs": [
    {
     "name": "stdout",
     "output_type": "stream",
     "text": [
      "tensor([[1., 2.],\n",
      "        [3., 4.]], dtype=torch.float64)\n"
     ]
    }
   ],
   "source": [
    "y = pt.from_numpy(x)\n",
    "print(y)"
   ]
  },
  {
   "cell_type": "markdown",
   "id": "31ee8fbc",
   "metadata": {},
   "source": [
    "Let's verify that the numpy array and torch tensor have similar data types."
   ]
  },
  {
   "cell_type": "code",
   "execution_count": 49,
   "id": "9bb7211b",
   "metadata": {},
   "outputs": [
    {
     "name": "stdout",
     "output_type": "stream",
     "text": [
      "float64\n",
      "torch.float64\n"
     ]
    }
   ],
   "source": [
    "print(x.dtype)\n",
    "print(y.dtype)"
   ]
  },
  {
   "cell_type": "markdown",
   "id": "6678a6e5",
   "metadata": {},
   "source": [
    "We can convert a PyTorch tensor to a Numpy array using the .numpy method of a tensor."
   ]
  },
  {
   "cell_type": "code",
   "execution_count": 51,
   "id": "cc177da5",
   "metadata": {},
   "outputs": [
    {
     "name": "stdout",
     "output_type": "stream",
     "text": [
      "[[1. 2.]\n",
      " [3. 4.]]\n"
     ]
    }
   ],
   "source": [
    "z = y.numpy()\n",
    "print(z)"
   ]
  },
  {
   "cell_type": "markdown",
   "id": "a79200a8",
   "metadata": {},
   "source": [
    "The interoperability between PyTorch and Numpy is really important because most datasets you'll work with will likely be read and preprocessed as Numpy arrays.\n",
    "</br>\n",
    "You might wonder why we need the library like PyTorch at all since Numpy already provides data structures and utilities for working with multi-dimensional numeric data.\n",
    "</br>\n",
    "There are two reasons:</br>\n",
    "1. <h6>AutoGrad</h6>: The ability to automatically compute gradients for tensors operations is essential for training deep learning models.\n",
    "2. <h6>GPU support</h6>: While working with massive datasets and large models, PyTorch tensor operations can be performed effectively using a Graphic processing Unit(GPU). Computaion that might take typically take hours can be completed within minutes using GPUs"
   ]
  },
  {
   "cell_type": "markdown",
   "id": "ebf498cf",
   "metadata": {},
   "source": [
    "Learn About all Tensors operation here -> https://pytorch.org/docs/stable/tensors.html"
   ]
  }
 ],
 "metadata": {
  "kernelspec": {
   "display_name": "Python 3 (ipykernel)",
   "language": "python",
   "name": "python3"
  },
  "language_info": {
   "codemirror_mode": {
    "name": "ipython",
    "version": 3
   },
   "file_extension": ".py",
   "mimetype": "text/x-python",
   "name": "python",
   "nbconvert_exporter": "python",
   "pygments_lexer": "ipython3",
   "version": "3.11.3"
  }
 },
 "nbformat": 4,
 "nbformat_minor": 5
}
