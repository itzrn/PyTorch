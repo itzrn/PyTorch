{
 "cells": [
  {
   "cell_type": "markdown",
   "id": "ed8c51d0-93c7-44eb-a603-77e50f26ae38",
   "metadata": {},
   "source": [
    "# Logistic Regression\n",
    "- This can used as regression and classification\n",
    "- when we apply logistic on tabular data then its called regression\n",
    "- when we apply logistic on raw data the its called classification"
   ]
  },
  {
   "cell_type": "code",
   "execution_count": 1,
   "id": "b59443ce-d7a3-429e-87f9-3685ff2058bc",
   "metadata": {},
   "outputs": [],
   "source": [
    "import torch\n",
    "import torch.nn as nn\n",
    "import numpy as np\n",
    "from sklearn import datasets\n",
    "from sklearn.preprocessing import StandardScaler\n",
    "import pandas as pd"
   ]
  },
  {
   "cell_type": "code",
   "execution_count": 2,
   "id": "193bbb65-21d5-45da-83c9-fac8757d9ebe",
   "metadata": {
    "scrolled": true
   },
   "outputs": [
    {
     "data": {
      "text/plain": [
       "['__all__',\n",
       " '__builtins__',\n",
       " '__cached__',\n",
       " '__doc__',\n",
       " '__file__',\n",
       " '__loader__',\n",
       " '__name__',\n",
       " '__package__',\n",
       " '__path__',\n",
       " '__spec__',\n",
       " '_arff_parser',\n",
       " '_base',\n",
       " '_california_housing',\n",
       " '_covtype',\n",
       " '_kddcup99',\n",
       " '_lfw',\n",
       " '_olivetti_faces',\n",
       " '_openml',\n",
       " '_rcv1',\n",
       " '_samples_generator',\n",
       " '_species_distributions',\n",
       " '_svmlight_format_fast',\n",
       " '_svmlight_format_io',\n",
       " '_twenty_newsgroups',\n",
       " 'clear_data_home',\n",
       " 'dump_svmlight_file',\n",
       " 'fetch_20newsgroups',\n",
       " 'fetch_20newsgroups_vectorized',\n",
       " 'fetch_california_housing',\n",
       " 'fetch_covtype',\n",
       " 'fetch_kddcup99',\n",
       " 'fetch_lfw_pairs',\n",
       " 'fetch_lfw_people',\n",
       " 'fetch_olivetti_faces',\n",
       " 'fetch_openml',\n",
       " 'fetch_rcv1',\n",
       " 'fetch_species_distributions',\n",
       " 'get_data_home',\n",
       " 'load_boston',\n",
       " 'load_breast_cancer',\n",
       " 'load_diabetes',\n",
       " 'load_digits',\n",
       " 'load_files',\n",
       " 'load_iris',\n",
       " 'load_linnerud',\n",
       " 'load_sample_image',\n",
       " 'load_sample_images',\n",
       " 'load_svmlight_file',\n",
       " 'load_svmlight_files',\n",
       " 'load_wine',\n",
       " 'make_biclusters',\n",
       " 'make_blobs',\n",
       " 'make_checkerboard',\n",
       " 'make_circles',\n",
       " 'make_classification',\n",
       " 'make_friedman1',\n",
       " 'make_friedman2',\n",
       " 'make_friedman3',\n",
       " 'make_gaussian_quantiles',\n",
       " 'make_hastie_10_2',\n",
       " 'make_low_rank_matrix',\n",
       " 'make_moons',\n",
       " 'make_multilabel_classification',\n",
       " 'make_regression',\n",
       " 'make_s_curve',\n",
       " 'make_sparse_coded_signal',\n",
       " 'make_sparse_spd_matrix',\n",
       " 'make_sparse_uncorrelated',\n",
       " 'make_spd_matrix',\n",
       " 'make_swiss_roll']"
      ]
     },
     "execution_count": 2,
     "metadata": {},
     "output_type": "execute_result"
    }
   ],
   "source": [
    "dir(datasets)"
   ]
  },
  {
   "cell_type": "markdown",
   "id": "c554aade-0ae5-4201-a051-d3e8158994d1",
   "metadata": {},
   "source": [
    "# Preparing Data"
   ]
  },
  {
   "cell_type": "code",
   "execution_count": 3,
   "id": "b240bd43-bbb6-457d-8341-1d72032618a0",
   "metadata": {},
   "outputs": [],
   "source": [
    "# Here its a binary classfication problem\n",
    "bc = datasets.load_breast_cancer()"
   ]
  },
  {
   "cell_type": "code",
   "execution_count": 4,
   "id": "1ffabdb5-ef17-4764-bd5b-674f3742329f",
   "metadata": {},
   "outputs": [
    {
     "name": "stdout",
     "output_type": "stream",
     "text": [
      ".. _breast_cancer_dataset:\n",
      "\n",
      "Breast cancer wisconsin (diagnostic) dataset\n",
      "--------------------------------------------\n",
      "\n",
      "**Data Set Characteristics:**\n",
      "\n",
      "    :Number of Instances: 569\n",
      "\n",
      "    :Number of Attributes: 30 numeric, predictive attributes and the class\n",
      "\n",
      "    :Attribute Information:\n",
      "        - radius (mean of distances from center to points on the perimeter)\n",
      "        - texture (standard deviation of gray-scale values)\n",
      "        - perimeter\n",
      "        - area\n",
      "        - smoothness (local variation in radius lengths)\n",
      "        - compactness (perimeter^2 / area - 1.0)\n",
      "        - concavity (severity of concave portions of the contour)\n",
      "        - concave points (number of concave portions of the contour)\n",
      "        - symmetry\n",
      "        - fractal dimension (\"coastline approximation\" - 1)\n",
      "\n",
      "        The mean, standard error, and \"worst\" or largest (mean of the three\n",
      "        worst/largest values) of these features were computed for each image,\n",
      "        resulting in 30 features.  For instance, field 0 is Mean Radius, field\n",
      "        10 is Radius SE, field 20 is Worst Radius.\n",
      "\n",
      "        - class:\n",
      "                - WDBC-Malignant\n",
      "                - WDBC-Benign\n",
      "\n",
      "    :Summary Statistics:\n",
      "\n",
      "    ===================================== ====== ======\n",
      "                                           Min    Max\n",
      "    ===================================== ====== ======\n",
      "    radius (mean):                        6.981  28.11\n",
      "    texture (mean):                       9.71   39.28\n",
      "    perimeter (mean):                     43.79  188.5\n",
      "    area (mean):                          143.5  2501.0\n",
      "    smoothness (mean):                    0.053  0.163\n",
      "    compactness (mean):                   0.019  0.345\n",
      "    concavity (mean):                     0.0    0.427\n",
      "    concave points (mean):                0.0    0.201\n",
      "    symmetry (mean):                      0.106  0.304\n",
      "    fractal dimension (mean):             0.05   0.097\n",
      "    radius (standard error):              0.112  2.873\n",
      "    texture (standard error):             0.36   4.885\n",
      "    perimeter (standard error):           0.757  21.98\n",
      "    area (standard error):                6.802  542.2\n",
      "    smoothness (standard error):          0.002  0.031\n",
      "    compactness (standard error):         0.002  0.135\n",
      "    concavity (standard error):           0.0    0.396\n",
      "    concave points (standard error):      0.0    0.053\n",
      "    symmetry (standard error):            0.008  0.079\n",
      "    fractal dimension (standard error):   0.001  0.03\n",
      "    radius (worst):                       7.93   36.04\n",
      "    texture (worst):                      12.02  49.54\n",
      "    perimeter (worst):                    50.41  251.2\n",
      "    area (worst):                         185.2  4254.0\n",
      "    smoothness (worst):                   0.071  0.223\n",
      "    compactness (worst):                  0.027  1.058\n",
      "    concavity (worst):                    0.0    1.252\n",
      "    concave points (worst):               0.0    0.291\n",
      "    symmetry (worst):                     0.156  0.664\n",
      "    fractal dimension (worst):            0.055  0.208\n",
      "    ===================================== ====== ======\n",
      "\n",
      "    :Missing Attribute Values: None\n",
      "\n",
      "    :Class Distribution: 212 - Malignant, 357 - Benign\n",
      "\n",
      "    :Creator:  Dr. William H. Wolberg, W. Nick Street, Olvi L. Mangasarian\n",
      "\n",
      "    :Donor: Nick Street\n",
      "\n",
      "    :Date: November, 1995\n",
      "\n",
      "This is a copy of UCI ML Breast Cancer Wisconsin (Diagnostic) datasets.\n",
      "https://goo.gl/U2Uwz2\n",
      "\n",
      "Features are computed from a digitized image of a fine needle\n",
      "aspirate (FNA) of a breast mass.  They describe\n",
      "characteristics of the cell nuclei present in the image.\n",
      "\n",
      "Separating plane described above was obtained using\n",
      "Multisurface Method-Tree (MSM-T) [K. P. Bennett, \"Decision Tree\n",
      "Construction Via Linear Programming.\" Proceedings of the 4th\n",
      "Midwest Artificial Intelligence and Cognitive Science Society,\n",
      "pp. 97-101, 1992], a classification method which uses linear\n",
      "programming to construct a decision tree.  Relevant features\n",
      "were selected using an exhaustive search in the space of 1-4\n",
      "features and 1-3 separating planes.\n",
      "\n",
      "The actual linear program used to obtain the separating plane\n",
      "in the 3-dimensional space is that described in:\n",
      "[K. P. Bennett and O. L. Mangasarian: \"Robust Linear\n",
      "Programming Discrimination of Two Linearly Inseparable Sets\",\n",
      "Optimization Methods and Software 1, 1992, 23-34].\n",
      "\n",
      "This database is also available through the UW CS ftp server:\n",
      "\n",
      "ftp ftp.cs.wisc.edu\n",
      "cd math-prog/cpo-dataset/machine-learn/WDBC/\n",
      "\n",
      ".. topic:: References\n",
      "\n",
      "   - W.N. Street, W.H. Wolberg and O.L. Mangasarian. Nuclear feature extraction \n",
      "     for breast tumor diagnosis. IS&T/SPIE 1993 International Symposium on \n",
      "     Electronic Imaging: Science and Technology, volume 1905, pages 861-870,\n",
      "     San Jose, CA, 1993.\n",
      "   - O.L. Mangasarian, W.N. Street and W.H. Wolberg. Breast cancer diagnosis and \n",
      "     prognosis via linear programming. Operations Research, 43(4), pages 570-577, \n",
      "     July-August 1995.\n",
      "   - W.H. Wolberg, W.N. Street, and O.L. Mangasarian. Machine learning techniques\n",
      "     to diagnose breast cancer from fine-needle aspirates. Cancer Letters 77 (1994) \n",
      "     163-171.\n"
     ]
    }
   ],
   "source": [
    "print(bc['DESCR'])"
   ]
  },
  {
   "cell_type": "code",
   "execution_count": 5,
   "id": "e0b08358-3c21-4a31-8c73-26a29fde5ce5",
   "metadata": {},
   "outputs": [],
   "source": [
    "# creating Dataframe of dataset\n",
    "df_cancer = pd.DataFrame(np.c_[bc['data'], bc['target']], columns= np.append(bc['feature_names'],['target']))"
   ]
  },
  {
   "cell_type": "code",
   "execution_count": 6,
   "id": "1b94371b-6f9b-4b78-8e9c-b2433ae71361",
   "metadata": {},
   "outputs": [
    {
     "data": {
      "text/html": [
       "<div>\n",
       "<style scoped>\n",
       "    .dataframe tbody tr th:only-of-type {\n",
       "        vertical-align: middle;\n",
       "    }\n",
       "\n",
       "    .dataframe tbody tr th {\n",
       "        vertical-align: top;\n",
       "    }\n",
       "\n",
       "    .dataframe thead th {\n",
       "        text-align: right;\n",
       "    }\n",
       "</style>\n",
       "<table border=\"1\" class=\"dataframe\">\n",
       "  <thead>\n",
       "    <tr style=\"text-align: right;\">\n",
       "      <th></th>\n",
       "      <th>mean radius</th>\n",
       "      <th>mean texture</th>\n",
       "      <th>mean perimeter</th>\n",
       "      <th>mean area</th>\n",
       "      <th>mean smoothness</th>\n",
       "      <th>mean compactness</th>\n",
       "      <th>mean concavity</th>\n",
       "      <th>mean concave points</th>\n",
       "      <th>mean symmetry</th>\n",
       "      <th>mean fractal dimension</th>\n",
       "      <th>...</th>\n",
       "      <th>worst texture</th>\n",
       "      <th>worst perimeter</th>\n",
       "      <th>worst area</th>\n",
       "      <th>worst smoothness</th>\n",
       "      <th>worst compactness</th>\n",
       "      <th>worst concavity</th>\n",
       "      <th>worst concave points</th>\n",
       "      <th>worst symmetry</th>\n",
       "      <th>worst fractal dimension</th>\n",
       "      <th>target</th>\n",
       "    </tr>\n",
       "  </thead>\n",
       "  <tbody>\n",
       "    <tr>\n",
       "      <th>0</th>\n",
       "      <td>17.99</td>\n",
       "      <td>10.38</td>\n",
       "      <td>122.80</td>\n",
       "      <td>1001.0</td>\n",
       "      <td>0.11840</td>\n",
       "      <td>0.27760</td>\n",
       "      <td>0.3001</td>\n",
       "      <td>0.14710</td>\n",
       "      <td>0.2419</td>\n",
       "      <td>0.07871</td>\n",
       "      <td>...</td>\n",
       "      <td>17.33</td>\n",
       "      <td>184.60</td>\n",
       "      <td>2019.0</td>\n",
       "      <td>0.1622</td>\n",
       "      <td>0.6656</td>\n",
       "      <td>0.7119</td>\n",
       "      <td>0.2654</td>\n",
       "      <td>0.4601</td>\n",
       "      <td>0.11890</td>\n",
       "      <td>0.0</td>\n",
       "    </tr>\n",
       "    <tr>\n",
       "      <th>1</th>\n",
       "      <td>20.57</td>\n",
       "      <td>17.77</td>\n",
       "      <td>132.90</td>\n",
       "      <td>1326.0</td>\n",
       "      <td>0.08474</td>\n",
       "      <td>0.07864</td>\n",
       "      <td>0.0869</td>\n",
       "      <td>0.07017</td>\n",
       "      <td>0.1812</td>\n",
       "      <td>0.05667</td>\n",
       "      <td>...</td>\n",
       "      <td>23.41</td>\n",
       "      <td>158.80</td>\n",
       "      <td>1956.0</td>\n",
       "      <td>0.1238</td>\n",
       "      <td>0.1866</td>\n",
       "      <td>0.2416</td>\n",
       "      <td>0.1860</td>\n",
       "      <td>0.2750</td>\n",
       "      <td>0.08902</td>\n",
       "      <td>0.0</td>\n",
       "    </tr>\n",
       "    <tr>\n",
       "      <th>2</th>\n",
       "      <td>19.69</td>\n",
       "      <td>21.25</td>\n",
       "      <td>130.00</td>\n",
       "      <td>1203.0</td>\n",
       "      <td>0.10960</td>\n",
       "      <td>0.15990</td>\n",
       "      <td>0.1974</td>\n",
       "      <td>0.12790</td>\n",
       "      <td>0.2069</td>\n",
       "      <td>0.05999</td>\n",
       "      <td>...</td>\n",
       "      <td>25.53</td>\n",
       "      <td>152.50</td>\n",
       "      <td>1709.0</td>\n",
       "      <td>0.1444</td>\n",
       "      <td>0.4245</td>\n",
       "      <td>0.4504</td>\n",
       "      <td>0.2430</td>\n",
       "      <td>0.3613</td>\n",
       "      <td>0.08758</td>\n",
       "      <td>0.0</td>\n",
       "    </tr>\n",
       "    <tr>\n",
       "      <th>3</th>\n",
       "      <td>11.42</td>\n",
       "      <td>20.38</td>\n",
       "      <td>77.58</td>\n",
       "      <td>386.1</td>\n",
       "      <td>0.14250</td>\n",
       "      <td>0.28390</td>\n",
       "      <td>0.2414</td>\n",
       "      <td>0.10520</td>\n",
       "      <td>0.2597</td>\n",
       "      <td>0.09744</td>\n",
       "      <td>...</td>\n",
       "      <td>26.50</td>\n",
       "      <td>98.87</td>\n",
       "      <td>567.7</td>\n",
       "      <td>0.2098</td>\n",
       "      <td>0.8663</td>\n",
       "      <td>0.6869</td>\n",
       "      <td>0.2575</td>\n",
       "      <td>0.6638</td>\n",
       "      <td>0.17300</td>\n",
       "      <td>0.0</td>\n",
       "    </tr>\n",
       "    <tr>\n",
       "      <th>4</th>\n",
       "      <td>20.29</td>\n",
       "      <td>14.34</td>\n",
       "      <td>135.10</td>\n",
       "      <td>1297.0</td>\n",
       "      <td>0.10030</td>\n",
       "      <td>0.13280</td>\n",
       "      <td>0.1980</td>\n",
       "      <td>0.10430</td>\n",
       "      <td>0.1809</td>\n",
       "      <td>0.05883</td>\n",
       "      <td>...</td>\n",
       "      <td>16.67</td>\n",
       "      <td>152.20</td>\n",
       "      <td>1575.0</td>\n",
       "      <td>0.1374</td>\n",
       "      <td>0.2050</td>\n",
       "      <td>0.4000</td>\n",
       "      <td>0.1625</td>\n",
       "      <td>0.2364</td>\n",
       "      <td>0.07678</td>\n",
       "      <td>0.0</td>\n",
       "    </tr>\n",
       "  </tbody>\n",
       "</table>\n",
       "<p>5 rows × 31 columns</p>\n",
       "</div>"
      ],
      "text/plain": [
       "   mean radius  mean texture  mean perimeter  mean area  mean smoothness  \\\n",
       "0        17.99         10.38          122.80     1001.0          0.11840   \n",
       "1        20.57         17.77          132.90     1326.0          0.08474   \n",
       "2        19.69         21.25          130.00     1203.0          0.10960   \n",
       "3        11.42         20.38           77.58      386.1          0.14250   \n",
       "4        20.29         14.34          135.10     1297.0          0.10030   \n",
       "\n",
       "   mean compactness  mean concavity  mean concave points  mean symmetry  \\\n",
       "0           0.27760          0.3001              0.14710         0.2419   \n",
       "1           0.07864          0.0869              0.07017         0.1812   \n",
       "2           0.15990          0.1974              0.12790         0.2069   \n",
       "3           0.28390          0.2414              0.10520         0.2597   \n",
       "4           0.13280          0.1980              0.10430         0.1809   \n",
       "\n",
       "   mean fractal dimension  ...  worst texture  worst perimeter  worst area  \\\n",
       "0                 0.07871  ...          17.33           184.60      2019.0   \n",
       "1                 0.05667  ...          23.41           158.80      1956.0   \n",
       "2                 0.05999  ...          25.53           152.50      1709.0   \n",
       "3                 0.09744  ...          26.50            98.87       567.7   \n",
       "4                 0.05883  ...          16.67           152.20      1575.0   \n",
       "\n",
       "   worst smoothness  worst compactness  worst concavity  worst concave points  \\\n",
       "0            0.1622             0.6656           0.7119                0.2654   \n",
       "1            0.1238             0.1866           0.2416                0.1860   \n",
       "2            0.1444             0.4245           0.4504                0.2430   \n",
       "3            0.2098             0.8663           0.6869                0.2575   \n",
       "4            0.1374             0.2050           0.4000                0.1625   \n",
       "\n",
       "   worst symmetry  worst fractal dimension  target  \n",
       "0          0.4601                  0.11890     0.0  \n",
       "1          0.2750                  0.08902     0.0  \n",
       "2          0.3613                  0.08758     0.0  \n",
       "3          0.6638                  0.17300     0.0  \n",
       "4          0.2364                  0.07678     0.0  \n",
       "\n",
       "[5 rows x 31 columns]"
      ]
     },
     "execution_count": 6,
     "metadata": {},
     "output_type": "execute_result"
    }
   ],
   "source": [
    "# printing some value sof dataframe\n",
    "df_cancer.head()"
   ]
  },
  {
   "cell_type": "code",
   "execution_count": 7,
   "id": "62f23ffa-fcb3-43e3-8ee2-37341ddc0c54",
   "metadata": {},
   "outputs": [
    {
     "data": {
      "text/plain": [
       "1.0    357\n",
       "0.0    212\n",
       "Name: target, dtype: int64"
      ]
     },
     "execution_count": 7,
     "metadata": {},
     "output_type": "execute_result"
    }
   ],
   "source": [
    "df_cancer['target'].value_counts()\n",
    "# 0 -> Mailgnant, 1-> Benign"
   ]
  },
  {
   "cell_type": "code",
   "execution_count": 8,
   "id": "d262d678-d965-4c3d-8cfc-b27d400a3a78",
   "metadata": {},
   "outputs": [
    {
     "data": {
      "text/plain": [
       "569"
      ]
     },
     "execution_count": 8,
     "metadata": {},
     "output_type": "execute_result"
    }
   ],
   "source": [
    "len(df_cancer)"
   ]
  },
  {
   "cell_type": "code",
   "execution_count": 9,
   "id": "7db67768-3273-4c59-96b2-e64ce337a00f",
   "metadata": {},
   "outputs": [],
   "source": [
    "x = df_cancer.iloc[:,:-1].values"
   ]
  },
  {
   "cell_type": "code",
   "execution_count": 10,
   "id": "22be0d99-29b4-4738-81ec-578d5c16a89c",
   "metadata": {},
   "outputs": [],
   "source": [
    "y = df_cancer.iloc[:,[-1]].values"
   ]
  },
  {
   "cell_type": "code",
   "execution_count": 11,
   "id": "da1cced6-5ad5-4947-84f3-2a7166f4ff69",
   "metadata": {
    "scrolled": true
   },
   "outputs": [
    {
     "data": {
      "text/plain": [
       "(array([[1.799e+01, 1.038e+01, 1.228e+02, ..., 2.654e-01, 4.601e-01,\n",
       "         1.189e-01],\n",
       "        [2.057e+01, 1.777e+01, 1.329e+02, ..., 1.860e-01, 2.750e-01,\n",
       "         8.902e-02],\n",
       "        [1.969e+01, 2.125e+01, 1.300e+02, ..., 2.430e-01, 3.613e-01,\n",
       "         8.758e-02],\n",
       "        ...,\n",
       "        [1.660e+01, 2.808e+01, 1.083e+02, ..., 1.418e-01, 2.218e-01,\n",
       "         7.820e-02],\n",
       "        [2.060e+01, 2.933e+01, 1.401e+02, ..., 2.650e-01, 4.087e-01,\n",
       "         1.240e-01],\n",
       "        [7.760e+00, 2.454e+01, 4.792e+01, ..., 0.000e+00, 2.871e-01,\n",
       "         7.039e-02]]),\n",
       " array([[0.],\n",
       "        [0.],\n",
       "        [0.],\n",
       "        [0.],\n",
       "        [0.],\n",
       "        [0.],\n",
       "        [0.],\n",
       "        [0.],\n",
       "        [0.],\n",
       "        [0.],\n",
       "        [0.],\n",
       "        [0.],\n",
       "        [0.],\n",
       "        [0.],\n",
       "        [0.],\n",
       "        [0.],\n",
       "        [0.],\n",
       "        [0.],\n",
       "        [0.],\n",
       "        [1.],\n",
       "        [1.],\n",
       "        [1.],\n",
       "        [0.],\n",
       "        [0.],\n",
       "        [0.],\n",
       "        [0.],\n",
       "        [0.],\n",
       "        [0.],\n",
       "        [0.],\n",
       "        [0.],\n",
       "        [0.],\n",
       "        [0.],\n",
       "        [0.],\n",
       "        [0.],\n",
       "        [0.],\n",
       "        [0.],\n",
       "        [0.],\n",
       "        [1.],\n",
       "        [0.],\n",
       "        [0.],\n",
       "        [0.],\n",
       "        [0.],\n",
       "        [0.],\n",
       "        [0.],\n",
       "        [0.],\n",
       "        [0.],\n",
       "        [1.],\n",
       "        [0.],\n",
       "        [1.],\n",
       "        [1.],\n",
       "        [1.],\n",
       "        [1.],\n",
       "        [1.],\n",
       "        [0.],\n",
       "        [0.],\n",
       "        [1.],\n",
       "        [0.],\n",
       "        [0.],\n",
       "        [1.],\n",
       "        [1.],\n",
       "        [1.],\n",
       "        [1.],\n",
       "        [0.],\n",
       "        [1.],\n",
       "        [0.],\n",
       "        [0.],\n",
       "        [1.],\n",
       "        [1.],\n",
       "        [1.],\n",
       "        [1.],\n",
       "        [0.],\n",
       "        [1.],\n",
       "        [0.],\n",
       "        [0.],\n",
       "        [1.],\n",
       "        [0.],\n",
       "        [1.],\n",
       "        [0.],\n",
       "        [0.],\n",
       "        [1.],\n",
       "        [1.],\n",
       "        [1.],\n",
       "        [0.],\n",
       "        [0.],\n",
       "        [1.],\n",
       "        [0.],\n",
       "        [0.],\n",
       "        [0.],\n",
       "        [1.],\n",
       "        [1.],\n",
       "        [1.],\n",
       "        [0.],\n",
       "        [1.],\n",
       "        [1.],\n",
       "        [0.],\n",
       "        [0.],\n",
       "        [1.],\n",
       "        [1.],\n",
       "        [1.],\n",
       "        [0.],\n",
       "        [0.],\n",
       "        [1.],\n",
       "        [1.],\n",
       "        [1.],\n",
       "        [1.],\n",
       "        [0.],\n",
       "        [1.],\n",
       "        [1.],\n",
       "        [0.],\n",
       "        [1.],\n",
       "        [1.],\n",
       "        [1.],\n",
       "        [1.],\n",
       "        [1.],\n",
       "        [1.],\n",
       "        [1.],\n",
       "        [1.],\n",
       "        [0.],\n",
       "        [0.],\n",
       "        [0.],\n",
       "        [1.],\n",
       "        [0.],\n",
       "        [0.],\n",
       "        [1.],\n",
       "        [1.],\n",
       "        [1.],\n",
       "        [0.],\n",
       "        [0.],\n",
       "        [1.],\n",
       "        [0.],\n",
       "        [1.],\n",
       "        [0.],\n",
       "        [0.],\n",
       "        [1.],\n",
       "        [0.],\n",
       "        [0.],\n",
       "        [1.],\n",
       "        [1.],\n",
       "        [0.],\n",
       "        [1.],\n",
       "        [1.],\n",
       "        [0.],\n",
       "        [1.],\n",
       "        [1.],\n",
       "        [1.],\n",
       "        [1.],\n",
       "        [0.],\n",
       "        [1.],\n",
       "        [1.],\n",
       "        [1.],\n",
       "        [1.],\n",
       "        [1.],\n",
       "        [1.],\n",
       "        [1.],\n",
       "        [1.],\n",
       "        [1.],\n",
       "        [0.],\n",
       "        [1.],\n",
       "        [1.],\n",
       "        [1.],\n",
       "        [1.],\n",
       "        [0.],\n",
       "        [0.],\n",
       "        [1.],\n",
       "        [0.],\n",
       "        [1.],\n",
       "        [1.],\n",
       "        [0.],\n",
       "        [0.],\n",
       "        [1.],\n",
       "        [1.],\n",
       "        [0.],\n",
       "        [0.],\n",
       "        [1.],\n",
       "        [1.],\n",
       "        [1.],\n",
       "        [1.],\n",
       "        [0.],\n",
       "        [1.],\n",
       "        [1.],\n",
       "        [0.],\n",
       "        [0.],\n",
       "        [0.],\n",
       "        [1.],\n",
       "        [0.],\n",
       "        [1.],\n",
       "        [0.],\n",
       "        [1.],\n",
       "        [1.],\n",
       "        [1.],\n",
       "        [0.],\n",
       "        [1.],\n",
       "        [1.],\n",
       "        [0.],\n",
       "        [0.],\n",
       "        [1.],\n",
       "        [0.],\n",
       "        [0.],\n",
       "        [0.],\n",
       "        [0.],\n",
       "        [1.],\n",
       "        [0.],\n",
       "        [0.],\n",
       "        [0.],\n",
       "        [1.],\n",
       "        [0.],\n",
       "        [1.],\n",
       "        [0.],\n",
       "        [1.],\n",
       "        [1.],\n",
       "        [0.],\n",
       "        [1.],\n",
       "        [0.],\n",
       "        [0.],\n",
       "        [0.],\n",
       "        [0.],\n",
       "        [1.],\n",
       "        [1.],\n",
       "        [0.],\n",
       "        [0.],\n",
       "        [1.],\n",
       "        [1.],\n",
       "        [1.],\n",
       "        [0.],\n",
       "        [1.],\n",
       "        [1.],\n",
       "        [1.],\n",
       "        [1.],\n",
       "        [1.],\n",
       "        [0.],\n",
       "        [0.],\n",
       "        [1.],\n",
       "        [1.],\n",
       "        [0.],\n",
       "        [1.],\n",
       "        [1.],\n",
       "        [0.],\n",
       "        [0.],\n",
       "        [1.],\n",
       "        [0.],\n",
       "        [1.],\n",
       "        [1.],\n",
       "        [1.],\n",
       "        [1.],\n",
       "        [0.],\n",
       "        [1.],\n",
       "        [1.],\n",
       "        [1.],\n",
       "        [1.],\n",
       "        [1.],\n",
       "        [0.],\n",
       "        [1.],\n",
       "        [0.],\n",
       "        [0.],\n",
       "        [0.],\n",
       "        [0.],\n",
       "        [0.],\n",
       "        [0.],\n",
       "        [0.],\n",
       "        [0.],\n",
       "        [0.],\n",
       "        [0.],\n",
       "        [0.],\n",
       "        [0.],\n",
       "        [0.],\n",
       "        [0.],\n",
       "        [1.],\n",
       "        [1.],\n",
       "        [1.],\n",
       "        [1.],\n",
       "        [1.],\n",
       "        [1.],\n",
       "        [0.],\n",
       "        [1.],\n",
       "        [0.],\n",
       "        [1.],\n",
       "        [1.],\n",
       "        [0.],\n",
       "        [1.],\n",
       "        [1.],\n",
       "        [0.],\n",
       "        [1.],\n",
       "        [0.],\n",
       "        [0.],\n",
       "        [1.],\n",
       "        [1.],\n",
       "        [1.],\n",
       "        [1.],\n",
       "        [1.],\n",
       "        [1.],\n",
       "        [1.],\n",
       "        [1.],\n",
       "        [1.],\n",
       "        [1.],\n",
       "        [1.],\n",
       "        [1.],\n",
       "        [1.],\n",
       "        [0.],\n",
       "        [1.],\n",
       "        [1.],\n",
       "        [0.],\n",
       "        [1.],\n",
       "        [0.],\n",
       "        [1.],\n",
       "        [1.],\n",
       "        [1.],\n",
       "        [1.],\n",
       "        [1.],\n",
       "        [1.],\n",
       "        [1.],\n",
       "        [1.],\n",
       "        [1.],\n",
       "        [1.],\n",
       "        [1.],\n",
       "        [1.],\n",
       "        [1.],\n",
       "        [1.],\n",
       "        [0.],\n",
       "        [1.],\n",
       "        [1.],\n",
       "        [1.],\n",
       "        [0.],\n",
       "        [1.],\n",
       "        [0.],\n",
       "        [1.],\n",
       "        [1.],\n",
       "        [1.],\n",
       "        [1.],\n",
       "        [0.],\n",
       "        [0.],\n",
       "        [0.],\n",
       "        [1.],\n",
       "        [1.],\n",
       "        [1.],\n",
       "        [1.],\n",
       "        [0.],\n",
       "        [1.],\n",
       "        [0.],\n",
       "        [1.],\n",
       "        [0.],\n",
       "        [1.],\n",
       "        [1.],\n",
       "        [1.],\n",
       "        [0.],\n",
       "        [1.],\n",
       "        [1.],\n",
       "        [1.],\n",
       "        [1.],\n",
       "        [1.],\n",
       "        [1.],\n",
       "        [1.],\n",
       "        [0.],\n",
       "        [0.],\n",
       "        [0.],\n",
       "        [1.],\n",
       "        [1.],\n",
       "        [1.],\n",
       "        [1.],\n",
       "        [1.],\n",
       "        [1.],\n",
       "        [1.],\n",
       "        [1.],\n",
       "        [1.],\n",
       "        [1.],\n",
       "        [1.],\n",
       "        [0.],\n",
       "        [0.],\n",
       "        [1.],\n",
       "        [0.],\n",
       "        [0.],\n",
       "        [0.],\n",
       "        [1.],\n",
       "        [0.],\n",
       "        [0.],\n",
       "        [1.],\n",
       "        [1.],\n",
       "        [1.],\n",
       "        [1.],\n",
       "        [1.],\n",
       "        [0.],\n",
       "        [1.],\n",
       "        [1.],\n",
       "        [1.],\n",
       "        [1.],\n",
       "        [1.],\n",
       "        [0.],\n",
       "        [1.],\n",
       "        [1.],\n",
       "        [1.],\n",
       "        [0.],\n",
       "        [1.],\n",
       "        [1.],\n",
       "        [0.],\n",
       "        [0.],\n",
       "        [1.],\n",
       "        [1.],\n",
       "        [1.],\n",
       "        [1.],\n",
       "        [1.],\n",
       "        [1.],\n",
       "        [0.],\n",
       "        [1.],\n",
       "        [1.],\n",
       "        [1.],\n",
       "        [1.],\n",
       "        [1.],\n",
       "        [1.],\n",
       "        [1.],\n",
       "        [0.],\n",
       "        [1.],\n",
       "        [1.],\n",
       "        [1.],\n",
       "        [1.],\n",
       "        [1.],\n",
       "        [0.],\n",
       "        [1.],\n",
       "        [1.],\n",
       "        [0.],\n",
       "        [1.],\n",
       "        [1.],\n",
       "        [1.],\n",
       "        [1.],\n",
       "        [1.],\n",
       "        [1.],\n",
       "        [1.],\n",
       "        [1.],\n",
       "        [1.],\n",
       "        [1.],\n",
       "        [1.],\n",
       "        [1.],\n",
       "        [0.],\n",
       "        [1.],\n",
       "        [0.],\n",
       "        [0.],\n",
       "        [1.],\n",
       "        [0.],\n",
       "        [1.],\n",
       "        [1.],\n",
       "        [1.],\n",
       "        [1.],\n",
       "        [1.],\n",
       "        [0.],\n",
       "        [1.],\n",
       "        [1.],\n",
       "        [0.],\n",
       "        [1.],\n",
       "        [0.],\n",
       "        [1.],\n",
       "        [1.],\n",
       "        [0.],\n",
       "        [1.],\n",
       "        [0.],\n",
       "        [1.],\n",
       "        [1.],\n",
       "        [1.],\n",
       "        [1.],\n",
       "        [1.],\n",
       "        [1.],\n",
       "        [1.],\n",
       "        [1.],\n",
       "        [0.],\n",
       "        [0.],\n",
       "        [1.],\n",
       "        [1.],\n",
       "        [1.],\n",
       "        [1.],\n",
       "        [1.],\n",
       "        [1.],\n",
       "        [0.],\n",
       "        [1.],\n",
       "        [1.],\n",
       "        [1.],\n",
       "        [1.],\n",
       "        [1.],\n",
       "        [1.],\n",
       "        [1.],\n",
       "        [1.],\n",
       "        [1.],\n",
       "        [1.],\n",
       "        [0.],\n",
       "        [1.],\n",
       "        [1.],\n",
       "        [1.],\n",
       "        [1.],\n",
       "        [1.],\n",
       "        [1.],\n",
       "        [1.],\n",
       "        [0.],\n",
       "        [1.],\n",
       "        [0.],\n",
       "        [1.],\n",
       "        [1.],\n",
       "        [0.],\n",
       "        [1.],\n",
       "        [1.],\n",
       "        [1.],\n",
       "        [1.],\n",
       "        [1.],\n",
       "        [0.],\n",
       "        [0.],\n",
       "        [1.],\n",
       "        [0.],\n",
       "        [1.],\n",
       "        [0.],\n",
       "        [1.],\n",
       "        [1.],\n",
       "        [1.],\n",
       "        [1.],\n",
       "        [1.],\n",
       "        [0.],\n",
       "        [1.],\n",
       "        [1.],\n",
       "        [0.],\n",
       "        [1.],\n",
       "        [0.],\n",
       "        [1.],\n",
       "        [0.],\n",
       "        [0.],\n",
       "        [1.],\n",
       "        [1.],\n",
       "        [1.],\n",
       "        [0.],\n",
       "        [1.],\n",
       "        [1.],\n",
       "        [1.],\n",
       "        [1.],\n",
       "        [1.],\n",
       "        [1.],\n",
       "        [1.],\n",
       "        [1.],\n",
       "        [1.],\n",
       "        [1.],\n",
       "        [1.],\n",
       "        [0.],\n",
       "        [1.],\n",
       "        [0.],\n",
       "        [0.],\n",
       "        [1.],\n",
       "        [1.],\n",
       "        [1.],\n",
       "        [1.],\n",
       "        [1.],\n",
       "        [1.],\n",
       "        [1.],\n",
       "        [1.],\n",
       "        [1.],\n",
       "        [1.],\n",
       "        [1.],\n",
       "        [1.],\n",
       "        [1.],\n",
       "        [1.],\n",
       "        [1.],\n",
       "        [1.],\n",
       "        [1.],\n",
       "        [1.],\n",
       "        [1.],\n",
       "        [1.],\n",
       "        [1.],\n",
       "        [1.],\n",
       "        [1.],\n",
       "        [1.],\n",
       "        [1.],\n",
       "        [0.],\n",
       "        [0.],\n",
       "        [0.],\n",
       "        [0.],\n",
       "        [0.],\n",
       "        [0.],\n",
       "        [1.]]))"
      ]
     },
     "execution_count": 11,
     "metadata": {},
     "output_type": "execute_result"
    }
   ],
   "source": [
    "x, y"
   ]
  },
  {
   "cell_type": "code",
   "execution_count": 12,
   "id": "ab08ec38-cf68-4703-b497-bf4a0f9ba897",
   "metadata": {},
   "outputs": [
    {
     "data": {
      "text/plain": [
       "((569, 30), (569, 1))"
      ]
     },
     "execution_count": 12,
     "metadata": {},
     "output_type": "execute_result"
    }
   ],
   "source": [
    "x.shape, y.shape"
   ]
  },
  {
   "cell_type": "code",
   "execution_count": 13,
   "id": "5426493c-9214-4628-9643-4ec9719741f0",
   "metadata": {},
   "outputs": [
    {
     "data": {
      "text/plain": [
       "(dtype('float64'), dtype('float64'))"
      ]
     },
     "execution_count": 13,
     "metadata": {},
     "output_type": "execute_result"
    }
   ],
   "source": [
    "x.dtype, y.dtype"
   ]
  },
  {
   "cell_type": "markdown",
   "id": "c7f3f1a1-fe90-4968-9792-18fa0d79fb83",
   "metadata": {},
   "source": [
    "# Train Test Split"
   ]
  },
  {
   "cell_type": "code",
   "execution_count": 14,
   "id": "ac99dd25-9564-4f4c-b350-d9bc4f34b351",
   "metadata": {},
   "outputs": [],
   "source": [
    "from sklearn.model_selection import train_test_split"
   ]
  },
  {
   "cell_type": "code",
   "execution_count": 15,
   "id": "3fbd6fc0-4e9b-4a94-8d61-8f024495b3bb",
   "metadata": {},
   "outputs": [],
   "source": [
    "x_train, x_test, y_train, y_test = train_test_split(x, y, test_size=0.095, random_state=1106)"
   ]
  },
  {
   "cell_type": "code",
   "execution_count": 16,
   "id": "3d53b021-269a-4e82-a055-765fc3dc3fb2",
   "metadata": {},
   "outputs": [],
   "source": [
    "# scaling the data, this is always recommended to do when we do logistic regression\n",
    "sc = StandardScaler()"
   ]
  },
  {
   "cell_type": "code",
   "execution_count": 17,
   "id": "ac4dca4a-9346-4643-955b-e9746ec2f654",
   "metadata": {},
   "outputs": [],
   "source": [
    "x_train = sc.fit_transform(x_train)\n",
    "x_test = sc.transform(x_test)"
   ]
  },
  {
   "cell_type": "code",
   "execution_count": 18,
   "id": "683b3af9-c457-49a0-ba54-31dc4ba41c2c",
   "metadata": {
    "scrolled": true
   },
   "outputs": [
    {
     "data": {
      "text/plain": [
       "(array([[ 1.95710871,  1.66320291,  2.06940899, ...,  2.6580549 ,\n",
       "          1.92165439,  2.39897742],\n",
       "        [-0.97517357, -0.98282241, -0.99919145, ..., -1.74239044,\n",
       "         -0.30725663, -1.22492919],\n",
       "        [ 0.59639478,  0.02739391,  0.7270748 , ...,  0.94820222,\n",
       "          0.66909632,  0.38834978],\n",
       "        ...,\n",
       "        [ 0.56265808, -0.35027871,  0.61283359, ...,  1.08311081,\n",
       "          2.1978595 ,  2.12213614],\n",
       "        [ 1.97678846,  0.84529841,  1.84500662, ...,  1.3029057 ,\n",
       "         -0.12740214, -0.48560013],\n",
       "        [ 1.15023909, -0.12089473,  1.09019864, ...,  0.94971804,\n",
       "         -0.14346058, -0.12082104]]),\n",
       " array([[ 0.53173276,  0.89163861,  0.43739174, ..., -0.23035316,\n",
       "          0.07493416,  0.01705678],\n",
       "        [-0.10645332,  1.01444013, -0.14034237, ..., -0.81682656,\n",
       "         -0.38273128, -1.1397055 ],\n",
       "        [ 1.8137277 ,  0.63676752,  1.74300554, ...,  1.16799711,\n",
       "          0.01230626, -1.38723418],\n",
       "        ...,\n",
       "        [-1.32800332,  0.53481908, -1.32110686, ..., -1.17092372,\n",
       "         -0.04710995, -0.06328148],\n",
       "        [-0.37072421, -1.46707749, -0.4361455 , ..., -1.13757553,\n",
       "         -1.79587372, -0.59796512],\n",
       "        [-0.72777104, -1.14733012, -0.70706036, ..., -0.69374142,\n",
       "         -0.91908307, -0.1555619 ]]))"
      ]
     },
     "execution_count": 18,
     "metadata": {},
     "output_type": "execute_result"
    }
   ],
   "source": [
    "x_train, x_test"
   ]
  },
  {
   "cell_type": "code",
   "execution_count": 19,
   "id": "5ca0ece4-a4d3-405f-a840-601d06acc3f9",
   "metadata": {},
   "outputs": [],
   "source": [
    "# Converting x_train to torch tensor\n",
    "x_train = torch.from_numpy(x_train.astype(np.float32))\n",
    "y_train = torch.from_numpy(y_train.astype(np.int64))\n",
    "x_test = torch.from_numpy(x_test.astype(np.float32))\n",
    "y_test = torch.from_numpy(y_test.astype(np.int64))"
   ]
  },
  {
   "cell_type": "code",
   "execution_count": 20,
   "id": "0af3b82d-ed4b-4f33-9eb3-0a1955e46b22",
   "metadata": {},
   "outputs": [
    {
     "data": {
      "text/plain": [
       "(torch.Size([514, 1]), torch.Size([55, 1]))"
      ]
     },
     "execution_count": 20,
     "metadata": {},
     "output_type": "execute_result"
    }
   ],
   "source": [
    "y_train.shape, y_test.shape"
   ]
  },
  {
   "cell_type": "code",
   "execution_count": 21,
   "id": "87ef4891-a0c8-4df6-afa3-45c440ab13d1",
   "metadata": {
    "scrolled": true
   },
   "outputs": [
    {
     "data": {
      "text/plain": [
       "(torch.Size([514, 30]),\n",
       " torch.Size([514, 1]),\n",
       " torch.Size([55, 30]),\n",
       " torch.Size([55, 1]))"
      ]
     },
     "execution_count": 21,
     "metadata": {},
     "output_type": "execute_result"
    }
   ],
   "source": [
    "x_train.shape, y_train.shape, x_test.shape, y_test.shape"
   ]
  },
  {
   "cell_type": "code",
   "execution_count": 22,
   "id": "5c7284fe-dbc1-48ac-ad85-60142ae2ef64",
   "metadata": {},
   "outputs": [
    {
     "data": {
      "text/plain": [
       "(torch.float32, torch.int64, torch.float32, torch.int64)"
      ]
     },
     "execution_count": 22,
     "metadata": {},
     "output_type": "execute_result"
    }
   ],
   "source": [
    "x_train.dtype, y_train.dtype, x_test.dtype, y_test.dtype"
   ]
  },
  {
   "cell_type": "markdown",
   "id": "08523945-7cdc-4860-a518-5ff569d57990",
   "metadata": {},
   "source": [
    "# Defining DataLoader"
   ]
  },
  {
   "cell_type": "code",
   "execution_count": 23,
   "id": "592b3cd9-44dd-4766-ade2-71e73182d29f",
   "metadata": {},
   "outputs": [],
   "source": [
    "from torch.utils.data import DataLoader, TensorDataset, random_split"
   ]
  },
  {
   "cell_type": "code",
   "execution_count": 24,
   "id": "13872fab-7ef4-4e31-990c-4b425dacf79d",
   "metadata": {},
   "outputs": [],
   "source": [
    "dataset = TensorDataset(x_train, y_train)"
   ]
  },
  {
   "cell_type": "code",
   "execution_count": 25,
   "id": "2d9ff122-e693-4a86-95fd-ede2db3c4262",
   "metadata": {},
   "outputs": [
    {
     "data": {
      "text/plain": [
       "514"
      ]
     },
     "execution_count": 25,
     "metadata": {},
     "output_type": "execute_result"
    }
   ],
   "source": [
    "len(dataset)"
   ]
  },
  {
   "cell_type": "code",
   "execution_count": 26,
   "id": "6b7b472e-b066-447d-8869-39eae05a2bfc",
   "metadata": {},
   "outputs": [
    {
     "data": {
      "text/plain": [
       "tuple"
      ]
     },
     "execution_count": 26,
     "metadata": {},
     "output_type": "execute_result"
    }
   ],
   "source": [
    "type(dataset[0])"
   ]
  },
  {
   "cell_type": "code",
   "execution_count": 27,
   "id": "ff4d1253-6bdf-4beb-8202-2a6662792ae5",
   "metadata": {},
   "outputs": [
    {
     "data": {
      "text/plain": [
       "torch.int64"
      ]
     },
     "execution_count": 27,
     "metadata": {},
     "output_type": "execute_result"
    }
   ],
   "source": [
    "dataset[0][1].dtype"
   ]
  },
  {
   "cell_type": "code",
   "execution_count": 28,
   "id": "969bee6e-4ed9-420c-a8c9-67c03a0852eb",
   "metadata": {},
   "outputs": [],
   "source": [
    "train_ds, val_ds = random_split(dataset, [400, 114])"
   ]
  },
  {
   "cell_type": "code",
   "execution_count": 29,
   "id": "6d4a9e0b-51b2-47e4-8a28-2ccb011d4532",
   "metadata": {},
   "outputs": [
    {
     "data": {
      "text/plain": [
       "(400, 114)"
      ]
     },
     "execution_count": 29,
     "metadata": {},
     "output_type": "execute_result"
    }
   ],
   "source": [
    "len(train_ds), len(val_ds)"
   ]
  },
  {
   "cell_type": "code",
   "execution_count": 30,
   "id": "80cbb442-b211-458e-b5ba-3585d0930984",
   "metadata": {},
   "outputs": [],
   "source": [
    "batch_size = 25\n",
    "train_dl = DataLoader(train_ds, batch_size, shuffle=True)\n",
    "val_dl = DataLoader(val_ds, batch_size)"
   ]
  },
  {
   "cell_type": "code",
   "execution_count": 31,
   "id": "d9c5c819-14db-46b1-a25c-ca3f6857491b",
   "metadata": {},
   "outputs": [
    {
     "data": {
      "text/plain": [
       "(16, 5)"
      ]
     },
     "execution_count": 31,
     "metadata": {},
     "output_type": "execute_result"
    }
   ],
   "source": [
    "len(train_dl), len(val_dl)"
   ]
  },
  {
   "cell_type": "markdown",
   "id": "3fa10632-4528-421a-88cb-8b9dfaa0a60e",
   "metadata": {},
   "source": [
    "# Building Model"
   ]
  },
  {
   "cell_type": "code",
   "execution_count": 32,
   "id": "002ea1d2-d4d6-4442-b389-9441f858b52d",
   "metadata": {},
   "outputs": [],
   "source": [
    "import torch.nn.functional as F"
   ]
  },
  {
   "cell_type": "code",
   "execution_count": 33,
   "id": "71bd3054-6463-47fa-86de-2071414620c4",
   "metadata": {},
   "outputs": [],
   "source": [
    "from tqdm import trange"
   ]
  },
  {
   "cell_type": "code",
   "execution_count": 89,
   "id": "4d94f087-05fd-47f2-9754-a586c50a6d2c",
   "metadata": {},
   "outputs": [],
   "source": [
    "class LogisticRegression(nn.Module):\n",
    "\n",
    "    def __init__(self, inputs):\n",
    "        super().__init__()\n",
    "        self.linear = nn.Linear(inputs, 2)\n",
    "        self.history=[]\n",
    "\n",
    "    def prediction(self, inputs): \n",
    "        return self.linear(inputs) # we will apply sigmoid fuction as we have binary classification\n",
    "\n",
    "    def lossCal(self, batch):\n",
    "        inputs, targets = batch\n",
    "        preds = self.prediction(inputs)\n",
    "        loss = F.cross_entropy(preds, torch.reshape(targets, (len(targets), )))\n",
    "        return preds, loss, targets\n",
    "\n",
    "    def accuracy(self, outputs, labels):\n",
    "        _, preds = torch.max(outputs, dim=1)        \n",
    "        return torch.tensor(torch.sum(preds == torch.reshape(labels, (len(labels), ))).item()/len(preds))\n",
    "\n",
    "    def validation_step(self, batch):\n",
    "        # inputs, targets = batch\n",
    "        # targets = torch.reshape(targets, (len(targets), ))\n",
    "        # preds = self.prediction(inputs)\n",
    "        preds, loss, targets = self.lossCal(batch)\n",
    "        acc = self.accuracy(preds, targets)\n",
    "        return {'val_loss':loss, 'val_acc':acc}\n",
    "\n",
    "    def validation_epoch_end(self, outputs):\n",
    "        batch_losses = [x['val_loss'] for x in outputs]\n",
    "        epoch_loss = torch.stack(batch_losses).mean()\n",
    "        batch_acc = [x['val_acc'] for x in outputs]\n",
    "        epoch_acc = torch.stack(batch_acc).mean()\n",
    "        return {'val_loss':epoch_loss.item(), 'val_acc':epoch_acc.item()}\n",
    "        \n",
    "\n",
    "    def evaluate(self, val_dl):\n",
    "        outputs = [self.validation_step(batch) for batch in val_dl]\n",
    "        return self.validation_epoch_end(outputs)\n",
    "\n",
    "    def epoch_end(self, epoch, result):\n",
    "        print(\"Epoch [{}], val_loss: {:.4f}, val_acc: {:.4f}\".format(epoch, result['val_loss'], result['val_acc']))\n",
    "\n",
    "    def model_training(self, epochs, lr, train_dl, val_dl, opt_fun=torch.optim.SGD):\n",
    "        optimizer = opt_fun(self.linear.parameters(), lr)\n",
    "        \n",
    "        for epoch in trange(epochs):\n",
    "            for batch in train_dl:\n",
    "                _, loss, _=self.lossCal(batch)\n",
    "                loss.backward()\n",
    "                optimizer.step()\n",
    "                optimizer.zero_grad()\n",
    "                \n",
    "            result = self.evaluate(val_dl)\n",
    "            if(epoch%10 == 0):\n",
    "                self.epoch_end(epoch, result)\n",
    "            self.history.append(result)\n",
    "\n",
    "    def prediction_compare(self, input, target):\n",
    "        return self.model_prediction(input) == target\n",
    "\n",
    "    def model_prediction(self, input):\n",
    "        pred = self.prediction(input)\n",
    "        _, index = torch.max(pred, dim=1)\n",
    "        return index"
   ]
  },
  {
   "cell_type": "code",
   "execution_count": 90,
   "id": "ac4dff9a-58a8-4136-8239-78914a5263b7",
   "metadata": {},
   "outputs": [],
   "source": [
    "model = LogisticRegression(30)"
   ]
  },
  {
   "cell_type": "code",
   "execution_count": 91,
   "id": "ba1e554e-1715-43f4-8cfa-ee7e7ecf7c06",
   "metadata": {},
   "outputs": [
    {
     "data": {
      "text/plain": [
       "[Parameter containing:\n",
       " tensor([[-0.0443, -0.1569,  0.0047,  0.1717,  0.0573,  0.1101,  0.0597,  0.0559,\n",
       "          -0.1566,  0.1814, -0.0300,  0.1288,  0.0525,  0.1570,  0.0575, -0.1064,\n",
       "          -0.0079,  0.1819, -0.0831, -0.1406, -0.1188, -0.0369, -0.1426, -0.1036,\n",
       "          -0.1595, -0.1220,  0.1318,  0.0749, -0.0559, -0.1142],\n",
       "         [ 0.1626,  0.1662, -0.1603, -0.0063, -0.0585, -0.1244, -0.0690,  0.0324,\n",
       "           0.1780,  0.1734, -0.1362,  0.1788,  0.0544, -0.1417, -0.1034,  0.1334,\n",
       "          -0.1814, -0.0613,  0.1779,  0.0914, -0.1380, -0.0637, -0.1591, -0.0965,\n",
       "           0.1307,  0.0832, -0.0930, -0.0776,  0.0269,  0.0699]],\n",
       "        requires_grad=True),\n",
       " Parameter containing:\n",
       " tensor([ 0.1546, -0.1300], requires_grad=True)]"
      ]
     },
     "execution_count": 91,
     "metadata": {},
     "output_type": "execute_result"
    }
   ],
   "source": [
    "list(model.linear.parameters())"
   ]
  },
  {
   "cell_type": "code",
   "execution_count": 92,
   "id": "35f366e6-7e5c-4ba1-97eb-4213ccea52c8",
   "metadata": {},
   "outputs": [
    {
     "data": {
      "text/plain": [
       "{'val_loss': 0.7777682542800903, 'val_acc': 0.5479999780654907}"
      ]
     },
     "execution_count": 92,
     "metadata": {},
     "output_type": "execute_result"
    }
   ],
   "source": [
    "# checking loss and accuracy at random weights\n",
    "model.evaluate(val_dl)"
   ]
  },
  {
   "cell_type": "code",
   "execution_count": 93,
   "id": "5bf1c164-8849-4b3d-842e-2995f2f677ba",
   "metadata": {},
   "outputs": [
    {
     "name": "stderr",
     "output_type": "stream",
     "text": [
      " 10%|███████▉                                                                           | 2/21 [00:00<00:01,  9.66it/s]"
     ]
    },
    {
     "name": "stdout",
     "output_type": "stream",
     "text": [
      "Epoch [0], val_loss: 0.7335, val_acc: 0.5720\n"
     ]
    },
    {
     "name": "stderr",
     "output_type": "stream",
     "text": [
      " 67%|██████████████████████████████████████████████████████▋                           | 14/21 [00:01<00:00, 13.11it/s]"
     ]
    },
    {
     "name": "stdout",
     "output_type": "stream",
     "text": [
      "Epoch [10], val_loss: 0.4773, val_acc: 0.7954\n"
     ]
    },
    {
     "name": "stderr",
     "output_type": "stream",
     "text": [
      "100%|██████████████████████████████████████████████████████████████████████████████████| 21/21 [00:01<00:00, 11.35it/s]"
     ]
    },
    {
     "name": "stdout",
     "output_type": "stream",
     "text": [
      "Epoch [20], val_loss: 0.3666, val_acc: 0.8657\n"
     ]
    },
    {
     "name": "stderr",
     "output_type": "stream",
     "text": [
      "\n"
     ]
    }
   ],
   "source": [
    "model.model_training(21, 0.001, train_dl, val_dl)"
   ]
  },
  {
   "cell_type": "code",
   "execution_count": 94,
   "id": "69e5bb23-ea84-4250-837a-354342fcf03f",
   "metadata": {},
   "outputs": [
    {
     "name": "stderr",
     "output_type": "stream",
     "text": [
      "  5%|███▉                                                                               | 1/21 [00:00<00:02,  9.97it/s]"
     ]
    },
    {
     "name": "stdout",
     "output_type": "stream",
     "text": [
      "Epoch [0], val_loss: 0.3590, val_acc: 0.8657\n"
     ]
    },
    {
     "name": "stderr",
     "output_type": "stream",
     "text": [
      " 62%|██████████████████████████████████████████████████▊                               | 13/21 [00:01<00:00, 12.56it/s]"
     ]
    },
    {
     "name": "stdout",
     "output_type": "stream",
     "text": [
      "Epoch [10], val_loss: 0.3014, val_acc: 0.8960\n"
     ]
    },
    {
     "name": "stderr",
     "output_type": "stream",
     "text": [
      "100%|██████████████████████████████████████████████████████████████████████████████████| 21/21 [00:02<00:00, 10.37it/s]"
     ]
    },
    {
     "name": "stdout",
     "output_type": "stream",
     "text": [
      "Epoch [20], val_loss: 0.2647, val_acc: 0.9200\n"
     ]
    },
    {
     "name": "stderr",
     "output_type": "stream",
     "text": [
      "\n"
     ]
    }
   ],
   "source": [
    "model.model_training(21, 0.001, train_dl, val_dl)"
   ]
  },
  {
   "cell_type": "code",
   "execution_count": 95,
   "id": "203936da-da9f-40b1-9bf6-b59aa5be973c",
   "metadata": {},
   "outputs": [
    {
     "name": "stderr",
     "output_type": "stream",
     "text": [
      "  0%|                                                                                           | 0/21 [00:00<?, ?it/s]"
     ]
    },
    {
     "name": "stdout",
     "output_type": "stream",
     "text": [
      "Epoch [0], val_loss: 0.2617, val_acc: 0.9200\n"
     ]
    },
    {
     "name": "stderr",
     "output_type": "stream",
     "text": [
      " 67%|██████████████████████████████████████████████████████▋                           | 14/21 [00:01<00:00, 13.83it/s]"
     ]
    },
    {
     "name": "stdout",
     "output_type": "stream",
     "text": [
      "Epoch [10], val_loss: 0.2370, val_acc: 0.9360\n"
     ]
    },
    {
     "name": "stderr",
     "output_type": "stream",
     "text": [
      "100%|██████████████████████████████████████████████████████████████████████████████████| 21/21 [00:01<00:00, 12.34it/s]"
     ]
    },
    {
     "name": "stdout",
     "output_type": "stream",
     "text": [
      "Epoch [20], val_loss: 0.2186, val_acc: 0.9440\n"
     ]
    },
    {
     "name": "stderr",
     "output_type": "stream",
     "text": [
      "\n"
     ]
    }
   ],
   "source": [
    "model.model_training(21, 0.001, train_dl, val_dl)"
   ]
  },
  {
   "cell_type": "code",
   "execution_count": 96,
   "id": "dbd8b138-a75b-4a4e-a72d-cd941ac5ba12",
   "metadata": {},
   "outputs": [
    {
     "name": "stderr",
     "output_type": "stream",
     "text": [
      " 10%|███████▉                                                                           | 2/21 [00:00<00:02,  6.87it/s]"
     ]
    },
    {
     "name": "stdout",
     "output_type": "stream",
     "text": [
      "Epoch [0], val_loss: 0.2170, val_acc: 0.9440\n"
     ]
    },
    {
     "name": "stderr",
     "output_type": "stream",
     "text": [
      " 57%|██████████████████████████████████████████████▊                                   | 12/21 [00:01<00:00,  9.54it/s]"
     ]
    },
    {
     "name": "stdout",
     "output_type": "stream",
     "text": [
      "Epoch [10], val_loss: 0.2031, val_acc: 0.9520\n"
     ]
    },
    {
     "name": "stderr",
     "output_type": "stream",
     "text": [
      "100%|██████████████████████████████████████████████████████████████████████████████████| 21/21 [00:02<00:00,  9.93it/s]"
     ]
    },
    {
     "name": "stdout",
     "output_type": "stream",
     "text": [
      "Epoch [20], val_loss: 0.1919, val_acc: 0.9600\n"
     ]
    },
    {
     "name": "stderr",
     "output_type": "stream",
     "text": [
      "\n"
     ]
    }
   ],
   "source": [
    "model.model_training(21, 0.001, train_dl, val_dl)"
   ]
  },
  {
   "cell_type": "code",
   "execution_count": 97,
   "id": "058e4eef-bc24-4c39-ac0f-0156f963f711",
   "metadata": {},
   "outputs": [
    {
     "name": "stderr",
     "output_type": "stream",
     "text": [
      "  5%|███▉                                                                               | 1/21 [00:00<00:02,  7.13it/s]"
     ]
    },
    {
     "name": "stdout",
     "output_type": "stream",
     "text": [
      "Epoch [0], val_loss: 0.1909, val_acc: 0.9600\n"
     ]
    },
    {
     "name": "stderr",
     "output_type": "stream",
     "text": [
      " 62%|██████████████████████████████████████████████████▊                               | 13/21 [00:01<00:00,  9.28it/s]"
     ]
    },
    {
     "name": "stdout",
     "output_type": "stream",
     "text": [
      "Epoch [10], val_loss: 0.1818, val_acc: 0.9680\n"
     ]
    },
    {
     "name": "stderr",
     "output_type": "stream",
     "text": [
      "100%|██████████████████████████████████████████████████████████████████████████████████| 21/21 [00:01<00:00, 10.52it/s]"
     ]
    },
    {
     "name": "stdout",
     "output_type": "stream",
     "text": [
      "Epoch [20], val_loss: 0.1742, val_acc: 0.9680\n"
     ]
    },
    {
     "name": "stderr",
     "output_type": "stream",
     "text": [
      "\n"
     ]
    }
   ],
   "source": [
    "model.model_training(21, 0.001, train_dl, val_dl)"
   ]
  },
  {
   "cell_type": "code",
   "execution_count": 98,
   "id": "cb6f5376-ea24-477c-a2d5-f0c77b988dfc",
   "metadata": {},
   "outputs": [
    {
     "name": "stderr",
     "output_type": "stream",
     "text": [
      "  5%|███▉                                                                               | 1/21 [00:00<00:04,  4.31it/s]"
     ]
    },
    {
     "name": "stdout",
     "output_type": "stream",
     "text": [
      "Epoch [0], val_loss: 0.1735, val_acc: 0.9680\n"
     ]
    },
    {
     "name": "stderr",
     "output_type": "stream",
     "text": [
      " 57%|██████████████████████████████████████████████▊                                   | 12/21 [00:01<00:00,  9.71it/s]"
     ]
    },
    {
     "name": "stdout",
     "output_type": "stream",
     "text": [
      "Epoch [10], val_loss: 0.1670, val_acc: 0.9680\n"
     ]
    },
    {
     "name": "stderr",
     "output_type": "stream",
     "text": [
      "100%|██████████████████████████████████████████████████████████████████████████████████| 21/21 [00:02<00:00,  7.72it/s]"
     ]
    },
    {
     "name": "stdout",
     "output_type": "stream",
     "text": [
      "Epoch [20], val_loss: 0.1615, val_acc: 0.9760\n"
     ]
    },
    {
     "name": "stderr",
     "output_type": "stream",
     "text": [
      "\n"
     ]
    }
   ],
   "source": [
    "model.model_training(21, 0.001, train_dl, val_dl)"
   ]
  },
  {
   "cell_type": "code",
   "execution_count": 99,
   "id": "9e953201-f0aa-49e9-a88b-5eca11f9b803",
   "metadata": {},
   "outputs": [
    {
     "name": "stderr",
     "output_type": "stream",
     "text": [
      " 10%|███████▉                                                                           | 2/21 [00:00<00:02,  8.20it/s]"
     ]
    },
    {
     "name": "stdout",
     "output_type": "stream",
     "text": [
      "Epoch [0], val_loss: 0.1610, val_acc: 0.9760\n"
     ]
    },
    {
     "name": "stderr",
     "output_type": "stream",
     "text": [
      " 57%|██████████████████████████████████████████████▊                                   | 12/21 [00:01<00:00, 11.04it/s]"
     ]
    },
    {
     "name": "stdout",
     "output_type": "stream",
     "text": [
      "Epoch [10], val_loss: 0.1561, val_acc: 0.9760\n"
     ]
    },
    {
     "name": "stderr",
     "output_type": "stream",
     "text": [
      "100%|██████████████████████████████████████████████████████████████████████████████████| 21/21 [00:02<00:00, 10.15it/s]"
     ]
    },
    {
     "name": "stdout",
     "output_type": "stream",
     "text": [
      "Epoch [20], val_loss: 0.1519, val_acc: 0.9760\n"
     ]
    },
    {
     "name": "stderr",
     "output_type": "stream",
     "text": [
      "\n"
     ]
    }
   ],
   "source": [
    "model.model_training(21, 0.001, train_dl, val_dl)"
   ]
  },
  {
   "cell_type": "code",
   "execution_count": 100,
   "id": "eca3c497-04f3-460a-86f4-14630dc67360",
   "metadata": {},
   "outputs": [
    {
     "name": "stderr",
     "output_type": "stream",
     "text": [
      "  5%|███▉                                                                               | 1/21 [00:00<00:03,  5.34it/s]"
     ]
    },
    {
     "name": "stdout",
     "output_type": "stream",
     "text": [
      "Epoch [0], val_loss: 0.1515, val_acc: 0.9760\n"
     ]
    },
    {
     "name": "stderr",
     "output_type": "stream",
     "text": [
      " 52%|██████████████████████████████████████████▉                                       | 11/21 [00:01<00:00, 10.80it/s]"
     ]
    },
    {
     "name": "stdout",
     "output_type": "stream",
     "text": [
      "Epoch [10], val_loss: 0.1478, val_acc: 0.9760\n"
     ]
    },
    {
     "name": "stderr",
     "output_type": "stream",
     "text": [
      "100%|██████████████████████████████████████████████████████████████████████████████████| 21/21 [00:02<00:00,  9.78it/s]"
     ]
    },
    {
     "name": "stdout",
     "output_type": "stream",
     "text": [
      "Epoch [20], val_loss: 0.1444, val_acc: 0.9760\n"
     ]
    },
    {
     "name": "stderr",
     "output_type": "stream",
     "text": [
      "\n"
     ]
    }
   ],
   "source": [
    "model.model_training(21, 0.001, train_dl, val_dl)"
   ]
  },
  {
   "cell_type": "code",
   "execution_count": 101,
   "id": "6813fb90-d7fc-46d7-9bbb-3c299d5e0237",
   "metadata": {},
   "outputs": [
    {
     "name": "stderr",
     "output_type": "stream",
     "text": [
      "  0%|                                                                                           | 0/21 [00:00<?, ?it/s]"
     ]
    },
    {
     "name": "stdout",
     "output_type": "stream",
     "text": [
      "Epoch [0], val_loss: 0.1441, val_acc: 0.9760"
     ]
    },
    {
     "name": "stderr",
     "output_type": "stream",
     "text": [
      " 10%|███████▉                                                                           | 2/21 [00:00<00:02,  8.20it/s]"
     ]
    },
    {
     "name": "stdout",
     "output_type": "stream",
     "text": [
      "\n"
     ]
    },
    {
     "name": "stderr",
     "output_type": "stream",
     "text": [
      " 62%|██████████████████████████████████████████████████▊                               | 13/21 [00:01<00:00, 13.12it/s]"
     ]
    },
    {
     "name": "stdout",
     "output_type": "stream",
     "text": [
      "Epoch [10], val_loss: 0.1411, val_acc: 0.9760\n"
     ]
    },
    {
     "name": "stderr",
     "output_type": "stream",
     "text": [
      "100%|██████████████████████████████████████████████████████████████████████████████████| 21/21 [00:02<00:00, 10.30it/s]"
     ]
    },
    {
     "name": "stdout",
     "output_type": "stream",
     "text": [
      "Epoch [20], val_loss: 0.1384, val_acc: 0.9760\n"
     ]
    },
    {
     "name": "stderr",
     "output_type": "stream",
     "text": [
      "\n"
     ]
    }
   ],
   "source": [
    "model.model_training(21, 0.001, train_dl, val_dl)"
   ]
  },
  {
   "cell_type": "code",
   "execution_count": 102,
   "id": "7cdab994-68bc-4600-a54b-e28e5f34b1d7",
   "metadata": {},
   "outputs": [
    {
     "name": "stderr",
     "output_type": "stream",
     "text": [
      "  5%|███▉                                                                               | 1/21 [00:00<00:02,  9.97it/s]"
     ]
    },
    {
     "name": "stdout",
     "output_type": "stream",
     "text": [
      "Epoch [0], val_loss: 0.1381, val_acc: 0.9760\n"
     ]
    },
    {
     "name": "stderr",
     "output_type": "stream",
     "text": [
      " 57%|██████████████████████████████████████████████▊                                   | 12/21 [00:01<00:00, 16.47it/s]"
     ]
    },
    {
     "name": "stdout",
     "output_type": "stream",
     "text": [
      "Epoch [10], val_loss: 0.1357, val_acc: 0.9760\n"
     ]
    },
    {
     "name": "stderr",
     "output_type": "stream",
     "text": [
      "100%|██████████████████████████████████████████████████████████████████████████████████| 21/21 [00:01<00:00, 12.55it/s]"
     ]
    },
    {
     "name": "stdout",
     "output_type": "stream",
     "text": [
      "Epoch [20], val_loss: 0.1335, val_acc: 0.9760\n"
     ]
    },
    {
     "name": "stderr",
     "output_type": "stream",
     "text": [
      "\n"
     ]
    }
   ],
   "source": [
    "model.model_training(21, 0.001, train_dl, val_dl)"
   ]
  },
  {
   "cell_type": "code",
   "execution_count": 103,
   "id": "f648739e-139c-47a9-9a77-fc4318c3e2ff",
   "metadata": {},
   "outputs": [
    {
     "data": {
      "text/plain": [
       "tensor([ 0.5317,  0.8916,  0.4374,  0.3986, -1.0150, -0.7173, -0.7039, -0.4086,\n",
       "        -1.0394, -0.8218, -0.0926, -0.0553, -0.1948,  0.0027, -0.9924, -0.9069,\n",
       "        -0.6793, -0.6858, -0.7156, -0.2864,  0.5946,  1.2983,  0.4887,  0.4607,\n",
       "        -0.6259, -0.6337, -0.6094, -0.2304,  0.0749,  0.0171])"
      ]
     },
     "execution_count": 103,
     "metadata": {},
     "output_type": "execute_result"
    }
   ],
   "source": [
    "x_test[0]"
   ]
  },
  {
   "cell_type": "code",
   "execution_count": 104,
   "id": "8b6b5862-9ded-4040-9c0e-f8a1b7afdbac",
   "metadata": {},
   "outputs": [
    {
     "data": {
      "text/plain": [
       "torch.float32"
      ]
     },
     "execution_count": 104,
     "metadata": {},
     "output_type": "execute_result"
    }
   ],
   "source": [
    "x_test.dtype"
   ]
  },
  {
   "cell_type": "code",
   "execution_count": 105,
   "id": "4842ff4c-fb6e-4a7b-b157-0a815519edfb",
   "metadata": {},
   "outputs": [
    {
     "data": {
      "text/plain": [
       "torch.Size([30])"
      ]
     },
     "execution_count": 105,
     "metadata": {},
     "output_type": "execute_result"
    }
   ],
   "source": [
    "x_test[0].shape"
   ]
  },
  {
   "cell_type": "code",
   "execution_count": 106,
   "id": "8da66d0a-79fd-4f77-96e9-5dbb542abed5",
   "metadata": {},
   "outputs": [
    {
     "data": {
      "text/plain": [
       "tensor([0])"
      ]
     },
     "execution_count": 106,
     "metadata": {},
     "output_type": "execute_result"
    }
   ],
   "source": [
    "model.model_prediction(torch.reshape(x_test[0], (1, len(x_test[0]))))"
   ]
  },
  {
   "cell_type": "code",
   "execution_count": 107,
   "id": "adf416bb-957a-4225-a078-40e65f532251",
   "metadata": {},
   "outputs": [
    {
     "data": {
      "text/plain": [
       "tensor([0])"
      ]
     },
     "execution_count": 107,
     "metadata": {},
     "output_type": "execute_result"
    }
   ],
   "source": [
    "y_test[0]"
   ]
  },
  {
   "cell_type": "code",
   "execution_count": 108,
   "id": "87755d26-4ec1-456f-9132-0835b090a50c",
   "metadata": {},
   "outputs": [
    {
     "data": {
      "text/plain": [
       "tensor([True])"
      ]
     },
     "execution_count": 108,
     "metadata": {},
     "output_type": "execute_result"
    }
   ],
   "source": [
    "model.prediction_compare(torch.reshape(x_test[5], (1, len(x_test[5]))), y_test[5])"
   ]
  },
  {
   "cell_type": "code",
   "execution_count": 109,
   "id": "9dda6f41-c5cc-4454-8cc3-daece4738453",
   "metadata": {},
   "outputs": [
    {
     "data": {
      "text/plain": [
       "[{'val_loss': 0.7334951162338257, 'val_acc': 0.5720000267028809},\n",
       " {'val_loss': 0.6942923665046692, 'val_acc': 0.6485714316368103},\n",
       " {'val_loss': 0.6593180298805237, 'val_acc': 0.680571436882019},\n",
       " {'val_loss': 0.6280192136764526, 'val_acc': 0.7108571529388428},\n",
       " {'val_loss': 0.599864661693573, 'val_acc': 0.7411428689956665},\n",
       " {'val_loss': 0.5743957757949829, 'val_acc': 0.7491428256034851},\n",
       " {'val_loss': 0.5513492822647095, 'val_acc': 0.7571428418159485},\n",
       " {'val_loss': 0.5303345322608948, 'val_acc': 0.7571428418159485},\n",
       " {'val_loss': 0.5111194849014282, 'val_acc': 0.7651427984237671},\n",
       " {'val_loss': 0.49351996183395386, 'val_acc': 0.7731428146362305},\n",
       " {'val_loss': 0.4773048460483551, 'val_acc': 0.7954285740852356},\n",
       " {'val_loss': 0.4623526930809021, 'val_acc': 0.8257142901420593},\n",
       " {'val_loss': 0.44851118326187134, 'val_acc': 0.8257142901420593},\n",
       " {'val_loss': 0.43567800521850586, 'val_acc': 0.8257142901420593},\n",
       " {'val_loss': 0.42372044920921326, 'val_acc': 0.8417142629623413},\n",
       " {'val_loss': 0.41259297728538513, 'val_acc': 0.8417142629623413},\n",
       " {'val_loss': 0.4021841883659363, 'val_acc': 0.8417142629623413},\n",
       " {'val_loss': 0.3924420475959778, 'val_acc': 0.8577142953872681},\n",
       " {'val_loss': 0.38330021500587463, 'val_acc': 0.8577142953872681},\n",
       " {'val_loss': 0.3747246265411377, 'val_acc': 0.8577142953872681},\n",
       " {'val_loss': 0.36663100123405457, 'val_acc': 0.8657142519950867},\n",
       " {'val_loss': 0.3590034246444702, 'val_acc': 0.8657142519950867},\n",
       " {'val_loss': 0.35180768370628357, 'val_acc': 0.8657142519950867},\n",
       " {'val_loss': 0.3450038433074951, 'val_acc': 0.8737143278121948},\n",
       " {'val_loss': 0.3385508954524994, 'val_acc': 0.8737143278121948},\n",
       " {'val_loss': 0.3324347138404846, 'val_acc': 0.8737143278121948},\n",
       " {'val_loss': 0.326621949672699, 'val_acc': 0.8737143278121948},\n",
       " {'val_loss': 0.321092426776886, 'val_acc': 0.8737143278121948},\n",
       " {'val_loss': 0.315822035074234, 'val_acc': 0.8880000114440918},\n",
       " {'val_loss': 0.3107925355434418, 'val_acc': 0.8880000114440918},\n",
       " {'val_loss': 0.3059976398944855, 'val_acc': 0.8880000114440918},\n",
       " {'val_loss': 0.3014180660247803, 'val_acc': 0.8960000276565552},\n",
       " {'val_loss': 0.29703158140182495, 'val_acc': 0.9039999842643738},\n",
       " {'val_loss': 0.2928274869918823, 'val_acc': 0.9039999842643738},\n",
       " {'val_loss': 0.288793683052063, 'val_acc': 0.9039999842643738},\n",
       " {'val_loss': 0.2849257290363312, 'val_acc': 0.9039999842643738},\n",
       " {'val_loss': 0.2812159061431885, 'val_acc': 0.9039999842643738},\n",
       " {'val_loss': 0.27765151858329773, 'val_acc': 0.9039999842643738},\n",
       " {'val_loss': 0.2742219567298889, 'val_acc': 0.9039999842643738},\n",
       " {'val_loss': 0.2709236741065979, 'val_acc': 0.9039999842643738},\n",
       " {'val_loss': 0.2677406370639801, 'val_acc': 0.9120000004768372},\n",
       " {'val_loss': 0.2646722197532654, 'val_acc': 0.9199999570846558},\n",
       " {'val_loss': 0.26171642541885376, 'val_acc': 0.9199999570846558},\n",
       " {'val_loss': 0.25886014103889465, 'val_acc': 0.9199999570846558},\n",
       " {'val_loss': 0.25610435009002686, 'val_acc': 0.9199999570846558},\n",
       " {'val_loss': 0.2534347176551819, 'val_acc': 0.9199999570846558},\n",
       " {'val_loss': 0.2508530616760254, 'val_acc': 0.9279999732971191},\n",
       " {'val_loss': 0.24835674464702606, 'val_acc': 0.9279999732971191},\n",
       " {'val_loss': 0.24593904614448547, 'val_acc': 0.9359999895095825},\n",
       " {'val_loss': 0.243595689535141, 'val_acc': 0.9359999895095825},\n",
       " {'val_loss': 0.2413257360458374, 'val_acc': 0.9359999895095825},\n",
       " {'val_loss': 0.2391224205493927, 'val_acc': 0.9359999895095825},\n",
       " {'val_loss': 0.23698611557483673, 'val_acc': 0.9359999895095825},\n",
       " {'val_loss': 0.2349100112915039, 'val_acc': 0.9359999895095825},\n",
       " {'val_loss': 0.2328929901123047, 'val_acc': 0.9359999895095825},\n",
       " {'val_loss': 0.23093529045581818, 'val_acc': 0.9439999461174011},\n",
       " {'val_loss': 0.2290271520614624, 'val_acc': 0.9439999461174011},\n",
       " {'val_loss': 0.22717125713825226, 'val_acc': 0.9439999461174011},\n",
       " {'val_loss': 0.2253660261631012, 'val_acc': 0.9439999461174011},\n",
       " {'val_loss': 0.22361139953136444, 'val_acc': 0.9439999461174011},\n",
       " {'val_loss': 0.22190017998218536, 'val_acc': 0.9439999461174011},\n",
       " {'val_loss': 0.2202337086200714, 'val_acc': 0.9439999461174011},\n",
       " {'val_loss': 0.21860738098621368, 'val_acc': 0.9439999461174011},\n",
       " {'val_loss': 0.2170249968767166, 'val_acc': 0.9439999461174011},\n",
       " {'val_loss': 0.21547873318195343, 'val_acc': 0.9439999461174011},\n",
       " {'val_loss': 0.21396958827972412, 'val_acc': 0.9439999461174011},\n",
       " {'val_loss': 0.21249499917030334, 'val_acc': 0.9439999461174011},\n",
       " {'val_loss': 0.21105661988258362, 'val_acc': 0.9439999461174011},\n",
       " {'val_loss': 0.209651380777359, 'val_acc': 0.9439999461174011},\n",
       " {'val_loss': 0.20827750861644745, 'val_acc': 0.9439999461174011},\n",
       " {'val_loss': 0.20693621039390564, 'val_acc': 0.9520000219345093},\n",
       " {'val_loss': 0.20562544465065002, 'val_acc': 0.9520000219345093},\n",
       " {'val_loss': 0.20434316992759705, 'val_acc': 0.9520000219345093},\n",
       " {'val_loss': 0.2030869424343109, 'val_acc': 0.9520000219345093},\n",
       " {'val_loss': 0.2018570452928543, 'val_acc': 0.9520000219345093},\n",
       " {'val_loss': 0.2006559818983078, 'val_acc': 0.9520000219345093},\n",
       " {'val_loss': 0.1994795948266983, 'val_acc': 0.9520000219345093},\n",
       " {'val_loss': 0.19832777976989746, 'val_acc': 0.9600000381469727},\n",
       " {'val_loss': 0.19719865918159485, 'val_acc': 0.9600000381469727},\n",
       " {'val_loss': 0.1960933804512024, 'val_acc': 0.9600000381469727},\n",
       " {'val_loss': 0.19500967860221863, 'val_acc': 0.9600000381469727},\n",
       " {'val_loss': 0.19394688308238983, 'val_acc': 0.9600000381469727},\n",
       " {'val_loss': 0.1929052174091339, 'val_acc': 0.9600000381469727},\n",
       " {'val_loss': 0.19188210368156433, 'val_acc': 0.9600000381469727},\n",
       " {'val_loss': 0.19088035821914673, 'val_acc': 0.9600000381469727},\n",
       " {'val_loss': 0.18989676237106323, 'val_acc': 0.9600000381469727},\n",
       " {'val_loss': 0.1889326572418213, 'val_acc': 0.968000054359436},\n",
       " {'val_loss': 0.1879849135875702, 'val_acc': 0.968000054359436},\n",
       " {'val_loss': 0.1870536059141159, 'val_acc': 0.968000054359436},\n",
       " {'val_loss': 0.1861412078142166, 'val_acc': 0.968000054359436},\n",
       " {'val_loss': 0.1852438747882843, 'val_acc': 0.968000054359436},\n",
       " {'val_loss': 0.1843618005514145, 'val_acc': 0.968000054359436},\n",
       " {'val_loss': 0.18349643051624298, 'val_acc': 0.968000054359436},\n",
       " {'val_loss': 0.1826469898223877, 'val_acc': 0.968000054359436},\n",
       " {'val_loss': 0.18181081116199493, 'val_acc': 0.968000054359436},\n",
       " {'val_loss': 0.180988609790802, 'val_acc': 0.968000054359436},\n",
       " {'val_loss': 0.18018099665641785, 'val_acc': 0.968000054359436},\n",
       " {'val_loss': 0.1793866902589798, 'val_acc': 0.968000054359436},\n",
       " {'val_loss': 0.17860616743564606, 'val_acc': 0.968000054359436},\n",
       " {'val_loss': 0.1778387576341629, 'val_acc': 0.968000054359436},\n",
       " {'val_loss': 0.17708197236061096, 'val_acc': 0.968000054359436},\n",
       " {'val_loss': 0.1763385385274887, 'val_acc': 0.968000054359436},\n",
       " {'val_loss': 0.17560622096061707, 'val_acc': 0.968000054359436},\n",
       " {'val_loss': 0.1748858094215393, 'val_acc': 0.968000054359436},\n",
       " {'val_loss': 0.17417697608470917, 'val_acc': 0.968000054359436},\n",
       " {'val_loss': 0.17347855865955353, 'val_acc': 0.968000054359436},\n",
       " {'val_loss': 0.1727910339832306, 'val_acc': 0.968000054359436},\n",
       " {'val_loss': 0.1721135526895523, 'val_acc': 0.968000054359436},\n",
       " {'val_loss': 0.17144708335399628, 'val_acc': 0.968000054359436},\n",
       " {'val_loss': 0.17078964412212372, 'val_acc': 0.968000054359436},\n",
       " {'val_loss': 0.1701425015926361, 'val_acc': 0.968000054359436},\n",
       " {'val_loss': 0.1695055365562439, 'val_acc': 0.968000054359436},\n",
       " {'val_loss': 0.16887693107128143, 'val_acc': 0.968000054359436},\n",
       " {'val_loss': 0.1682588756084442, 'val_acc': 0.968000054359436},\n",
       " {'val_loss': 0.167649507522583, 'val_acc': 0.968000054359436},\n",
       " {'val_loss': 0.16704848408699036, 'val_acc': 0.968000054359436},\n",
       " {'val_loss': 0.1664554327726364, 'val_acc': 0.968000054359436},\n",
       " {'val_loss': 0.16587084531784058, 'val_acc': 0.968000054359436},\n",
       " {'val_loss': 0.16529442369937897, 'val_acc': 0.968000054359436},\n",
       " {'val_loss': 0.16472697257995605, 'val_acc': 0.968000054359436},\n",
       " {'val_loss': 0.1641661375761032, 'val_acc': 0.968000054359436},\n",
       " {'val_loss': 0.16361364722251892, 'val_acc': 0.968000054359436},\n",
       " {'val_loss': 0.16306859254837036, 'val_acc': 0.968000054359436},\n",
       " {'val_loss': 0.16253089904785156, 'val_acc': 0.9760000109672546},\n",
       " {'val_loss': 0.16200003027915955, 'val_acc': 0.9760000109672546},\n",
       " {'val_loss': 0.1614762246608734, 'val_acc': 0.9760000109672546},\n",
       " {'val_loss': 0.16095949709415436, 'val_acc': 0.9760000109672546},\n",
       " {'val_loss': 0.16044968366622925, 'val_acc': 0.9760000109672546},\n",
       " {'val_loss': 0.1599465161561966, 'val_acc': 0.9760000109672546},\n",
       " {'val_loss': 0.15944933891296387, 'val_acc': 0.9760000109672546},\n",
       " {'val_loss': 0.1589594930410385, 'val_acc': 0.9760000109672546},\n",
       " {'val_loss': 0.15847520530223846, 'val_acc': 0.9760000109672546},\n",
       " {'val_loss': 0.1579970270395279, 'val_acc': 0.9760000109672546},\n",
       " {'val_loss': 0.15752452611923218, 'val_acc': 0.9760000109672546},\n",
       " {'val_loss': 0.15705816447734833, 'val_acc': 0.9760000109672546},\n",
       " {'val_loss': 0.15659792721271515, 'val_acc': 0.9760000109672546},\n",
       " {'val_loss': 0.1561436802148819, 'val_acc': 0.9760000109672546},\n",
       " {'val_loss': 0.15569542348384857, 'val_acc': 0.9760000109672546},\n",
       " {'val_loss': 0.15525266528129578, 'val_acc': 0.9760000109672546},\n",
       " {'val_loss': 0.154814213514328, 'val_acc': 0.9760000109672546},\n",
       " {'val_loss': 0.154381662607193, 'val_acc': 0.9760000109672546},\n",
       " {'val_loss': 0.1539541482925415, 'val_acc': 0.9760000109672546},\n",
       " {'val_loss': 0.1535327136516571, 'val_acc': 0.9760000109672546},\n",
       " {'val_loss': 0.15311551094055176, 'val_acc': 0.9760000109672546},\n",
       " {'val_loss': 0.15270276367664337, 'val_acc': 0.9760000109672546},\n",
       " {'val_loss': 0.15229521691799164, 'val_acc': 0.9760000109672546},\n",
       " {'val_loss': 0.15189291536808014, 'val_acc': 0.9760000109672546},\n",
       " {'val_loss': 0.15149518847465515, 'val_acc': 0.9760000109672546},\n",
       " {'val_loss': 0.151101753115654, 'val_acc': 0.9760000109672546},\n",
       " {'val_loss': 0.1507125049829483, 'val_acc': 0.9760000109672546},\n",
       " {'val_loss': 0.1503281593322754, 'val_acc': 0.9760000109672546},\n",
       " {'val_loss': 0.149947851896286, 'val_acc': 0.9760000109672546},\n",
       " {'val_loss': 0.14957205951213837, 'val_acc': 0.9760000109672546},\n",
       " {'val_loss': 0.1492006927728653, 'val_acc': 0.9760000109672546},\n",
       " {'val_loss': 0.14883264899253845, 'val_acc': 0.9760000109672546},\n",
       " {'val_loss': 0.1484690010547638, 'val_acc': 0.9760000109672546},\n",
       " {'val_loss': 0.14810916781425476, 'val_acc': 0.9760000109672546},\n",
       " {'val_loss': 0.14775371551513672, 'val_acc': 0.9760000109672546},\n",
       " {'val_loss': 0.14740222692489624, 'val_acc': 0.9760000109672546},\n",
       " {'val_loss': 0.1470540165901184, 'val_acc': 0.9760000109672546},\n",
       " {'val_loss': 0.14671006798744202, 'val_acc': 0.9760000109672546},\n",
       " {'val_loss': 0.14636966586112976, 'val_acc': 0.9760000109672546},\n",
       " {'val_loss': 0.14603307843208313, 'val_acc': 0.9760000109672546},\n",
       " {'val_loss': 0.14569975435733795, 'val_acc': 0.9760000109672546},\n",
       " {'val_loss': 0.14536993205547333, 'val_acc': 0.9760000109672546},\n",
       " {'val_loss': 0.14504367113113403, 'val_acc': 0.9760000109672546},\n",
       " {'val_loss': 0.14472082257270813, 'val_acc': 0.9760000109672546},\n",
       " {'val_loss': 0.14440174400806427, 'val_acc': 0.9760000109672546},\n",
       " {'val_loss': 0.14408572018146515, 'val_acc': 0.9760000109672546},\n",
       " {'val_loss': 0.14377295970916748, 'val_acc': 0.9760000109672546},\n",
       " {'val_loss': 0.14346365630626678, 'val_acc': 0.9760000109672546},\n",
       " {'val_loss': 0.14315733313560486, 'val_acc': 0.9760000109672546},\n",
       " {'val_loss': 0.1428540050983429, 'val_acc': 0.9760000109672546},\n",
       " {'val_loss': 0.14255370199680328, 'val_acc': 0.9760000109672546},\n",
       " {'val_loss': 0.14225651323795319, 'val_acc': 0.9760000109672546},\n",
       " {'val_loss': 0.14196237921714783, 'val_acc': 0.9760000109672546},\n",
       " {'val_loss': 0.1416710913181305, 'val_acc': 0.9760000109672546},\n",
       " {'val_loss': 0.14138278365135193, 'val_acc': 0.9760000109672546},\n",
       " {'val_loss': 0.14109721779823303, 'val_acc': 0.9760000109672546},\n",
       " {'val_loss': 0.1408144235610962, 'val_acc': 0.9760000109672546},\n",
       " {'val_loss': 0.14053425192832947, 'val_acc': 0.9760000109672546},\n",
       " {'val_loss': 0.1402568817138672, 'val_acc': 0.9760000109672546},\n",
       " {'val_loss': 0.1399822235107422, 'val_acc': 0.9760000109672546},\n",
       " {'val_loss': 0.13971008360385895, 'val_acc': 0.9760000109672546},\n",
       " {'val_loss': 0.13944104313850403, 'val_acc': 0.9760000109672546},\n",
       " {'val_loss': 0.13917435705661774, 'val_acc': 0.9760000109672546},\n",
       " {'val_loss': 0.13891014456748962, 'val_acc': 0.9760000109672546},\n",
       " {'val_loss': 0.13864873349666595, 'val_acc': 0.9760000109672546},\n",
       " {'val_loss': 0.13838917016983032, 'val_acc': 0.9760000109672546},\n",
       " {'val_loss': 0.13813234865665436, 'val_acc': 0.9760000109672546},\n",
       " {'val_loss': 0.1378779113292694, 'val_acc': 0.9760000109672546},\n",
       " {'val_loss': 0.13762596249580383, 'val_acc': 0.9760000109672546},\n",
       " {'val_loss': 0.13737629354000092, 'val_acc': 0.9760000109672546},\n",
       " {'val_loss': 0.1371290236711502, 'val_acc': 0.9760000109672546},\n",
       " {'val_loss': 0.13688376545906067, 'val_acc': 0.9760000109672546},\n",
       " {'val_loss': 0.1366409808397293, 'val_acc': 0.9760000109672546},\n",
       " {'val_loss': 0.13640031218528748, 'val_acc': 0.9760000109672546},\n",
       " {'val_loss': 0.1361619532108307, 'val_acc': 0.9760000109672546},\n",
       " {'val_loss': 0.13592562079429626, 'val_acc': 0.9760000109672546},\n",
       " {'val_loss': 0.13569161295890808, 'val_acc': 0.9760000109672546},\n",
       " {'val_loss': 0.13545934855937958, 'val_acc': 0.9760000109672546},\n",
       " {'val_loss': 0.13522890210151672, 'val_acc': 0.9760000109672546},\n",
       " {'val_loss': 0.1350008100271225, 'val_acc': 0.9760000109672546},\n",
       " {'val_loss': 0.13477477431297302, 'val_acc': 0.9760000109672546},\n",
       " {'val_loss': 0.13455042243003845, 'val_acc': 0.9760000109672546},\n",
       " {'val_loss': 0.13432814180850983, 'val_acc': 0.9760000109672546},\n",
       " {'val_loss': 0.13410790264606476, 'val_acc': 0.9760000109672546},\n",
       " {'val_loss': 0.13388963043689728, 'val_acc': 0.9760000109672546},\n",
       " {'val_loss': 0.133673295378685, 'val_acc': 0.9760000109672546},\n",
       " {'val_loss': 0.13345877826213837, 'val_acc': 0.9760000109672546}]"
      ]
     },
     "execution_count": 109,
     "metadata": {},
     "output_type": "execute_result"
    }
   ],
   "source": [
    "model.history"
   ]
  },
  {
   "cell_type": "code",
   "execution_count": 111,
   "id": "15cc48a1-209e-4552-8aa3-3e5aceeef3e5",
   "metadata": {},
   "outputs": [],
   "source": [
    "# Saving The Model\n",
    "torch.save(model.state_dict(), 'SavedModel/T14_LogisticRegression.pth')"
   ]
  }
 ],
 "metadata": {
  "kernelspec": {
   "display_name": "Python 3 (ipykernel)",
   "language": "python",
   "name": "python3"
  },
  "language_info": {
   "codemirror_mode": {
    "name": "ipython",
    "version": 3
   },
   "file_extension": ".py",
   "mimetype": "text/x-python",
   "name": "python",
   "nbconvert_exporter": "python",
   "pygments_lexer": "ipython3",
   "version": "3.10.8"
  }
 },
 "nbformat": 4,
 "nbformat_minor": 5
}
