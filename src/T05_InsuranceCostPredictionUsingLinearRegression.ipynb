{
 "cells": [
  {
   "cell_type": "code",
   "execution_count": 1,
   "id": "ae5ad95d",
   "metadata": {},
   "outputs": [],
   "source": [
    "from torchvision.datasets.utils import download_url"
   ]
  },
  {
   "cell_type": "markdown",
   "id": "6550f8f4",
   "metadata": {},
   "source": [
    "# Downloading The dataset"
   ]
  },
  {
   "cell_type": "code",
   "execution_count": 2,
   "id": "9f95d619",
   "metadata": {},
   "outputs": [
    {
     "name": "stdout",
     "output_type": "stream",
     "text": [
      "Using downloaded and verified file: ./dataset\\T05_Insurance.csv\n"
     ]
    }
   ],
   "source": [
    "DATASET_URL = \"https://gist.github.com/BirajCoder/5f068dfe759c1ea6bdfce9535acdb72d/raw/c84d84e3c80f93be67f6c069cbdc0195ec36acbd/insurance.csv\"\n",
    "DATA_FILENAME = \"T05_Insurance.csv\"\n",
    "download_url(DATASET_URL, './dataset', DATA_FILENAME)"
   ]
  },
  {
   "cell_type": "markdown",
   "id": "6a98b4de",
   "metadata": {},
   "source": [
    "using pandas to read the dataset"
   ]
  },
  {
   "cell_type": "code",
   "execution_count": 3,
   "id": "53462af2",
   "metadata": {},
   "outputs": [],
   "source": [
    "import pandas as pd"
   ]
  },
  {
   "cell_type": "markdown",
   "id": "a50e2a76",
   "metadata": {},
   "source": [
    "Reading Dataset"
   ]
  },
  {
   "cell_type": "code",
   "execution_count": 4,
   "id": "f1570019",
   "metadata": {},
   "outputs": [],
   "source": [
    "dataset = pd.read_csv(\"dataset/T05_Insurance.csv\")"
   ]
  },
  {
   "cell_type": "code",
   "execution_count": 5,
   "id": "7dd9ce31",
   "metadata": {},
   "outputs": [
    {
     "data": {
      "text/html": [
       "<div>\n",
       "<style scoped>\n",
       "    .dataframe tbody tr th:only-of-type {\n",
       "        vertical-align: middle;\n",
       "    }\n",
       "\n",
       "    .dataframe tbody tr th {\n",
       "        vertical-align: top;\n",
       "    }\n",
       "\n",
       "    .dataframe thead th {\n",
       "        text-align: right;\n",
       "    }\n",
       "</style>\n",
       "<table border=\"1\" class=\"dataframe\">\n",
       "  <thead>\n",
       "    <tr style=\"text-align: right;\">\n",
       "      <th></th>\n",
       "      <th>age</th>\n",
       "      <th>sex</th>\n",
       "      <th>bmi</th>\n",
       "      <th>children</th>\n",
       "      <th>smoker</th>\n",
       "      <th>region</th>\n",
       "      <th>charges</th>\n",
       "    </tr>\n",
       "  </thead>\n",
       "  <tbody>\n",
       "    <tr>\n",
       "      <th>0</th>\n",
       "      <td>19</td>\n",
       "      <td>female</td>\n",
       "      <td>27.900</td>\n",
       "      <td>0</td>\n",
       "      <td>yes</td>\n",
       "      <td>southwest</td>\n",
       "      <td>16884.92400</td>\n",
       "    </tr>\n",
       "    <tr>\n",
       "      <th>1</th>\n",
       "      <td>18</td>\n",
       "      <td>male</td>\n",
       "      <td>33.770</td>\n",
       "      <td>1</td>\n",
       "      <td>no</td>\n",
       "      <td>southeast</td>\n",
       "      <td>1725.55230</td>\n",
       "    </tr>\n",
       "    <tr>\n",
       "      <th>2</th>\n",
       "      <td>28</td>\n",
       "      <td>male</td>\n",
       "      <td>33.000</td>\n",
       "      <td>3</td>\n",
       "      <td>no</td>\n",
       "      <td>southeast</td>\n",
       "      <td>4449.46200</td>\n",
       "    </tr>\n",
       "    <tr>\n",
       "      <th>3</th>\n",
       "      <td>33</td>\n",
       "      <td>male</td>\n",
       "      <td>22.705</td>\n",
       "      <td>0</td>\n",
       "      <td>no</td>\n",
       "      <td>northwest</td>\n",
       "      <td>21984.47061</td>\n",
       "    </tr>\n",
       "    <tr>\n",
       "      <th>4</th>\n",
       "      <td>32</td>\n",
       "      <td>male</td>\n",
       "      <td>28.880</td>\n",
       "      <td>0</td>\n",
       "      <td>no</td>\n",
       "      <td>northwest</td>\n",
       "      <td>3866.85520</td>\n",
       "    </tr>\n",
       "    <tr>\n",
       "      <th>...</th>\n",
       "      <td>...</td>\n",
       "      <td>...</td>\n",
       "      <td>...</td>\n",
       "      <td>...</td>\n",
       "      <td>...</td>\n",
       "      <td>...</td>\n",
       "      <td>...</td>\n",
       "    </tr>\n",
       "    <tr>\n",
       "      <th>1333</th>\n",
       "      <td>50</td>\n",
       "      <td>male</td>\n",
       "      <td>30.970</td>\n",
       "      <td>3</td>\n",
       "      <td>no</td>\n",
       "      <td>northwest</td>\n",
       "      <td>10600.54830</td>\n",
       "    </tr>\n",
       "    <tr>\n",
       "      <th>1334</th>\n",
       "      <td>18</td>\n",
       "      <td>female</td>\n",
       "      <td>31.920</td>\n",
       "      <td>0</td>\n",
       "      <td>no</td>\n",
       "      <td>northeast</td>\n",
       "      <td>2205.98080</td>\n",
       "    </tr>\n",
       "    <tr>\n",
       "      <th>1335</th>\n",
       "      <td>18</td>\n",
       "      <td>female</td>\n",
       "      <td>36.850</td>\n",
       "      <td>0</td>\n",
       "      <td>no</td>\n",
       "      <td>southeast</td>\n",
       "      <td>1629.83350</td>\n",
       "    </tr>\n",
       "    <tr>\n",
       "      <th>1336</th>\n",
       "      <td>21</td>\n",
       "      <td>female</td>\n",
       "      <td>25.800</td>\n",
       "      <td>0</td>\n",
       "      <td>no</td>\n",
       "      <td>southwest</td>\n",
       "      <td>2007.94500</td>\n",
       "    </tr>\n",
       "    <tr>\n",
       "      <th>1337</th>\n",
       "      <td>61</td>\n",
       "      <td>female</td>\n",
       "      <td>29.070</td>\n",
       "      <td>0</td>\n",
       "      <td>yes</td>\n",
       "      <td>northwest</td>\n",
       "      <td>29141.36030</td>\n",
       "    </tr>\n",
       "  </tbody>\n",
       "</table>\n",
       "<p>1338 rows × 7 columns</p>\n",
       "</div>"
      ],
      "text/plain": [
       "      age     sex     bmi  children smoker     region      charges\n",
       "0      19  female  27.900         0    yes  southwest  16884.92400\n",
       "1      18    male  33.770         1     no  southeast   1725.55230\n",
       "2      28    male  33.000         3     no  southeast   4449.46200\n",
       "3      33    male  22.705         0     no  northwest  21984.47061\n",
       "4      32    male  28.880         0     no  northwest   3866.85520\n",
       "...   ...     ...     ...       ...    ...        ...          ...\n",
       "1333   50    male  30.970         3     no  northwest  10600.54830\n",
       "1334   18  female  31.920         0     no  northeast   2205.98080\n",
       "1335   18  female  36.850         0     no  southeast   1629.83350\n",
       "1336   21  female  25.800         0     no  southwest   2007.94500\n",
       "1337   61  female  29.070         0    yes  northwest  29141.36030\n",
       "\n",
       "[1338 rows x 7 columns]"
      ]
     },
     "execution_count": 5,
     "metadata": {},
     "output_type": "execute_result"
    }
   ],
   "source": [
    "dataset"
   ]
  },
  {
   "cell_type": "code",
   "execution_count": 6,
   "id": "364d4ea5",
   "metadata": {},
   "outputs": [
    {
     "data": {
      "text/plain": [
       "Index(['age', 'sex', 'bmi', 'children', 'smoker', 'region', 'charges'], dtype='object')"
      ]
     },
     "execution_count": 6,
     "metadata": {},
     "output_type": "execute_result"
    }
   ],
   "source": [
    "dataset.columns"
   ]
  },
  {
   "cell_type": "code",
   "execution_count": 7,
   "id": "65e268f3",
   "metadata": {},
   "outputs": [
    {
     "data": {
      "text/plain": [
       "7"
      ]
     },
     "execution_count": 7,
     "metadata": {},
     "output_type": "execute_result"
    }
   ],
   "source": [
    "len(dataset.columns)"
   ]
  },
  {
   "cell_type": "code",
   "execution_count": 8,
   "id": "9860710d",
   "metadata": {},
   "outputs": [
    {
     "data": {
      "text/plain": [
       "1338"
      ]
     },
     "execution_count": 8,
     "metadata": {},
     "output_type": "execute_result"
    }
   ],
   "source": [
    "len(dataset) # way to take out the number of rows"
   ]
  },
  {
   "cell_type": "code",
   "execution_count": 9,
   "id": "3185e1bb",
   "metadata": {},
   "outputs": [
    {
     "data": {
      "text/plain": [
       "pandas.core.frame.DataFrame"
      ]
     },
     "execution_count": 9,
     "metadata": {},
     "output_type": "execute_result"
    }
   ],
   "source": [
    "type(dataset)"
   ]
  },
  {
   "cell_type": "code",
   "execution_count": 10,
   "id": "c34b3ab9",
   "metadata": {},
   "outputs": [
    {
     "data": {
      "text/plain": [
       "<bound method DataFrame.info of       age     sex     bmi  children smoker     region      charges\n",
       "0      19  female  27.900         0    yes  southwest  16884.92400\n",
       "1      18    male  33.770         1     no  southeast   1725.55230\n",
       "2      28    male  33.000         3     no  southeast   4449.46200\n",
       "3      33    male  22.705         0     no  northwest  21984.47061\n",
       "4      32    male  28.880         0     no  northwest   3866.85520\n",
       "...   ...     ...     ...       ...    ...        ...          ...\n",
       "1333   50    male  30.970         3     no  northwest  10600.54830\n",
       "1334   18  female  31.920         0     no  northeast   2205.98080\n",
       "1335   18  female  36.850         0     no  southeast   1629.83350\n",
       "1336   21  female  25.800         0     no  southwest   2007.94500\n",
       "1337   61  female  29.070         0    yes  northwest  29141.36030\n",
       "\n",
       "[1338 rows x 7 columns]>"
      ]
     },
     "execution_count": 10,
     "metadata": {},
     "output_type": "execute_result"
    }
   ],
   "source": [
    "dataset.info"
   ]
  },
  {
   "cell_type": "code",
   "execution_count": 11,
   "id": "007a501e",
   "metadata": {},
   "outputs": [
    {
     "data": {
      "text/plain": [
       "<bound method NDFrame.describe of       age     sex     bmi  children smoker     region      charges\n",
       "0      19  female  27.900         0    yes  southwest  16884.92400\n",
       "1      18    male  33.770         1     no  southeast   1725.55230\n",
       "2      28    male  33.000         3     no  southeast   4449.46200\n",
       "3      33    male  22.705         0     no  northwest  21984.47061\n",
       "4      32    male  28.880         0     no  northwest   3866.85520\n",
       "...   ...     ...     ...       ...    ...        ...          ...\n",
       "1333   50    male  30.970         3     no  northwest  10600.54830\n",
       "1334   18  female  31.920         0     no  northeast   2205.98080\n",
       "1335   18  female  36.850         0     no  southeast   1629.83350\n",
       "1336   21  female  25.800         0     no  southwest   2007.94500\n",
       "1337   61  female  29.070         0    yes  northwest  29141.36030\n",
       "\n",
       "[1338 rows x 7 columns]>"
      ]
     },
     "execution_count": 11,
     "metadata": {},
     "output_type": "execute_result"
    }
   ],
   "source": [
    "dataset.describe"
   ]
  },
  {
   "cell_type": "code",
   "execution_count": 12,
   "id": "f50a1b9d",
   "metadata": {},
   "outputs": [
    {
     "data": {
      "text/plain": [
       "age         0\n",
       "sex         0\n",
       "bmi         0\n",
       "children    0\n",
       "smoker      0\n",
       "region      0\n",
       "charges     0\n",
       "dtype: int64"
      ]
     },
     "execution_count": 12,
     "metadata": {},
     "output_type": "execute_result"
    }
   ],
   "source": [
    "dataset.isnull().sum()"
   ]
  },
  {
   "cell_type": "code",
   "execution_count": 13,
   "id": "bcbef46c",
   "metadata": {},
   "outputs": [],
   "source": [
    "# there is no use to know the region, as the insurance won't depened on region, it's depend on health\n",
    "dataset.drop([\"region\"], axis=1, inplace=True)"
   ]
  },
  {
   "cell_type": "code",
   "execution_count": 14,
   "id": "eae0a17a",
   "metadata": {},
   "outputs": [
    {
     "data": {
      "text/html": [
       "<div>\n",
       "<style scoped>\n",
       "    .dataframe tbody tr th:only-of-type {\n",
       "        vertical-align: middle;\n",
       "    }\n",
       "\n",
       "    .dataframe tbody tr th {\n",
       "        vertical-align: top;\n",
       "    }\n",
       "\n",
       "    .dataframe thead th {\n",
       "        text-align: right;\n",
       "    }\n",
       "</style>\n",
       "<table border=\"1\" class=\"dataframe\">\n",
       "  <thead>\n",
       "    <tr style=\"text-align: right;\">\n",
       "      <th></th>\n",
       "      <th>age</th>\n",
       "      <th>sex</th>\n",
       "      <th>bmi</th>\n",
       "      <th>children</th>\n",
       "      <th>smoker</th>\n",
       "      <th>charges</th>\n",
       "    </tr>\n",
       "  </thead>\n",
       "  <tbody>\n",
       "    <tr>\n",
       "      <th>0</th>\n",
       "      <td>19</td>\n",
       "      <td>female</td>\n",
       "      <td>27.900</td>\n",
       "      <td>0</td>\n",
       "      <td>yes</td>\n",
       "      <td>16884.92400</td>\n",
       "    </tr>\n",
       "    <tr>\n",
       "      <th>1</th>\n",
       "      <td>18</td>\n",
       "      <td>male</td>\n",
       "      <td>33.770</td>\n",
       "      <td>1</td>\n",
       "      <td>no</td>\n",
       "      <td>1725.55230</td>\n",
       "    </tr>\n",
       "    <tr>\n",
       "      <th>2</th>\n",
       "      <td>28</td>\n",
       "      <td>male</td>\n",
       "      <td>33.000</td>\n",
       "      <td>3</td>\n",
       "      <td>no</td>\n",
       "      <td>4449.46200</td>\n",
       "    </tr>\n",
       "    <tr>\n",
       "      <th>3</th>\n",
       "      <td>33</td>\n",
       "      <td>male</td>\n",
       "      <td>22.705</td>\n",
       "      <td>0</td>\n",
       "      <td>no</td>\n",
       "      <td>21984.47061</td>\n",
       "    </tr>\n",
       "    <tr>\n",
       "      <th>4</th>\n",
       "      <td>32</td>\n",
       "      <td>male</td>\n",
       "      <td>28.880</td>\n",
       "      <td>0</td>\n",
       "      <td>no</td>\n",
       "      <td>3866.85520</td>\n",
       "    </tr>\n",
       "    <tr>\n",
       "      <th>...</th>\n",
       "      <td>...</td>\n",
       "      <td>...</td>\n",
       "      <td>...</td>\n",
       "      <td>...</td>\n",
       "      <td>...</td>\n",
       "      <td>...</td>\n",
       "    </tr>\n",
       "    <tr>\n",
       "      <th>1333</th>\n",
       "      <td>50</td>\n",
       "      <td>male</td>\n",
       "      <td>30.970</td>\n",
       "      <td>3</td>\n",
       "      <td>no</td>\n",
       "      <td>10600.54830</td>\n",
       "    </tr>\n",
       "    <tr>\n",
       "      <th>1334</th>\n",
       "      <td>18</td>\n",
       "      <td>female</td>\n",
       "      <td>31.920</td>\n",
       "      <td>0</td>\n",
       "      <td>no</td>\n",
       "      <td>2205.98080</td>\n",
       "    </tr>\n",
       "    <tr>\n",
       "      <th>1335</th>\n",
       "      <td>18</td>\n",
       "      <td>female</td>\n",
       "      <td>36.850</td>\n",
       "      <td>0</td>\n",
       "      <td>no</td>\n",
       "      <td>1629.83350</td>\n",
       "    </tr>\n",
       "    <tr>\n",
       "      <th>1336</th>\n",
       "      <td>21</td>\n",
       "      <td>female</td>\n",
       "      <td>25.800</td>\n",
       "      <td>0</td>\n",
       "      <td>no</td>\n",
       "      <td>2007.94500</td>\n",
       "    </tr>\n",
       "    <tr>\n",
       "      <th>1337</th>\n",
       "      <td>61</td>\n",
       "      <td>female</td>\n",
       "      <td>29.070</td>\n",
       "      <td>0</td>\n",
       "      <td>yes</td>\n",
       "      <td>29141.36030</td>\n",
       "    </tr>\n",
       "  </tbody>\n",
       "</table>\n",
       "<p>1338 rows × 6 columns</p>\n",
       "</div>"
      ],
      "text/plain": [
       "      age     sex     bmi  children smoker      charges\n",
       "0      19  female  27.900         0    yes  16884.92400\n",
       "1      18    male  33.770         1     no   1725.55230\n",
       "2      28    male  33.000         3     no   4449.46200\n",
       "3      33    male  22.705         0     no  21984.47061\n",
       "4      32    male  28.880         0     no   3866.85520\n",
       "...   ...     ...     ...       ...    ...          ...\n",
       "1333   50    male  30.970         3     no  10600.54830\n",
       "1334   18  female  31.920         0     no   2205.98080\n",
       "1335   18  female  36.850         0     no   1629.83350\n",
       "1336   21  female  25.800         0     no   2007.94500\n",
       "1337   61  female  29.070         0    yes  29141.36030\n",
       "\n",
       "[1338 rows x 6 columns]"
      ]
     },
     "execution_count": 14,
     "metadata": {},
     "output_type": "execute_result"
    }
   ],
   "source": [
    "dataset # now our main dataset got change, as we have used inplace=True while droping"
   ]
  },
  {
   "cell_type": "markdown",
   "id": "36a97064",
   "metadata": {},
   "source": [
    "One Hot Encoding For Cotegorical column"
   ]
  },
  {
   "cell_type": "code",
   "execution_count": 15,
   "id": "d3187cd6",
   "metadata": {},
   "outputs": [],
   "source": [
    "categorical_cols = [\"sex\", \"smoker\"]"
   ]
  },
  {
   "cell_type": "code",
   "execution_count": 16,
   "id": "8d557a6a",
   "metadata": {},
   "outputs": [],
   "source": [
    "output_cols = [\"charges\"]\n",
    "input_cols = [\"age\", \"sex\", \"bmi\", \"children\", \"smoker\"]"
   ]
  },
  {
   "cell_type": "code",
   "execution_count": 17,
   "id": "123bb610",
   "metadata": {},
   "outputs": [],
   "source": [
    "def dataframe_to_arrays(dataframe):\n",
    "    dataframe1 = dataframe.copy(deep=True)\n",
    "    for col in categorical_cols: # this is ordinal encoding\n",
    "        dataframe1[col] = dataframe1[col].astype('category').cat.codes\n",
    "    inputs_array = dataframe1[input_cols].to_numpy()\n",
    "    targets_array = dataframe1[output_cols].to_numpy()\n",
    "    return inputs_array, targets_array\n",
    "# doing ordinal encoding here, will not matter, bcz the categorical data we have is of two categories only"
   ]
  },
  {
   "cell_type": "code",
   "execution_count": 18,
   "id": "bc0f4b7b",
   "metadata": {},
   "outputs": [
    {
     "data": {
      "text/plain": [
       "((1338, 5), (1338, 1))"
      ]
     },
     "execution_count": 18,
     "metadata": {},
     "output_type": "execute_result"
    }
   ],
   "source": [
    "inputs_array, targets_array = dataframe_to_arrays(dataset)\n",
    "inputs_array.shape, targets_array.shape"
   ]
  },
  {
   "cell_type": "code",
   "execution_count": 19,
   "id": "61f6a9fd",
   "metadata": {},
   "outputs": [
    {
     "data": {
      "text/plain": [
       "(array([[19.  ,  0.  , 27.9 ,  0.  ,  1.  ],\n",
       "        [18.  ,  1.  , 33.77,  1.  ,  0.  ],\n",
       "        [28.  ,  1.  , 33.  ,  3.  ,  0.  ],\n",
       "        ...,\n",
       "        [18.  ,  0.  , 36.85,  0.  ,  0.  ],\n",
       "        [21.  ,  0.  , 25.8 ,  0.  ,  0.  ],\n",
       "        [61.  ,  0.  , 29.07,  0.  ,  1.  ]]),\n",
       " array([[16884.924 ],\n",
       "        [ 1725.5523],\n",
       "        [ 4449.462 ],\n",
       "        ...,\n",
       "        [ 1629.8335],\n",
       "        [ 2007.945 ],\n",
       "        [29141.3603]]))"
      ]
     },
     "execution_count": 19,
     "metadata": {},
     "output_type": "execute_result"
    }
   ],
   "source": [
    "inputs_array, targets_array"
   ]
  },
  {
   "cell_type": "code",
   "execution_count": 20,
   "id": "8c4b307b",
   "metadata": {},
   "outputs": [
    {
     "data": {
      "text/plain": [
       "(dtype('float64'), dtype('float64'))"
      ]
     },
     "execution_count": 20,
     "metadata": {},
     "output_type": "execute_result"
    }
   ],
   "source": [
    "inputs_array.dtype, targets_array.dtype"
   ]
  },
  {
   "cell_type": "code",
   "execution_count": 21,
   "id": "1081d815",
   "metadata": {},
   "outputs": [
    {
     "data": {
      "text/plain": [
       "(numpy.ndarray, numpy.ndarray)"
      ]
     },
     "execution_count": 21,
     "metadata": {},
     "output_type": "execute_result"
    }
   ],
   "source": [
    "type(inputs_array), type(targets_array)"
   ]
  },
  {
   "cell_type": "code",
   "execution_count": 28,
   "id": "e7146743",
   "metadata": {},
   "outputs": [],
   "source": [
    "def dataframe_to_arrays(dataframe):\n",
    "    # Make a copy of the original dataframe\n",
    "    dataframe1 = dataframe.copy(deep=True)\n",
    "    # Convert non-numeric categorical columns to numbers\n",
    "    for col in categorical_cols:\n",
    "        dataframe1[col] = dataframe1[col].astype('category').cat.codes\n",
    "    # Extract input & outupts as numpy arrays\n",
    "    inputs_array = dataframe1[input_cols].to_numpy()\n",
    "    targets_array = dataframe1[output_cols].to_numpy()\n",
    "    return inputs_array, targets_array"
   ]
  },
  {
   "cell_type": "code",
   "execution_count": 30,
   "id": "76ad0f68",
   "metadata": {},
   "outputs": [
    {
     "data": {
      "text/plain": [
       "(array([[19.  ,  0.  , 27.9 ,  0.  ,  1.  ],\n",
       "        [18.  ,  1.  , 33.77,  1.  ,  0.  ],\n",
       "        [28.  ,  1.  , 33.  ,  3.  ,  0.  ],\n",
       "        ...,\n",
       "        [18.  ,  0.  , 36.85,  0.  ,  0.  ],\n",
       "        [21.  ,  0.  , 25.8 ,  0.  ,  0.  ],\n",
       "        [61.  ,  0.  , 29.07,  0.  ,  1.  ]]),\n",
       " array([[16884.924 ],\n",
       "        [ 1725.5523],\n",
       "        [ 4449.462 ],\n",
       "        ...,\n",
       "        [ 1629.8335],\n",
       "        [ 2007.945 ],\n",
       "        [29141.3603]]))"
      ]
     },
     "execution_count": 30,
     "metadata": {},
     "output_type": "execute_result"
    }
   ],
   "source": [
    "inputs_array, targets_array = dataframe_to_arrays(dataset)\n",
    "inputs_array, targets_array"
   ]
  },
  {
   "cell_type": "code",
   "execution_count": 31,
   "id": "e5e2585f",
   "metadata": {},
   "outputs": [],
   "source": [
    "inputs = torch.tensor(inputs_array)\n",
    "targets = torch.tensor(targets_array)"
   ]
  },
  {
   "cell_type": "code",
   "execution_count": 32,
   "id": "51e6326c",
   "metadata": {},
   "outputs": [
    {
     "data": {
      "text/plain": [
       "(torch.float64, torch.float64)"
      ]
     },
     "execution_count": 32,
     "metadata": {},
     "output_type": "execute_result"
    }
   ],
   "source": [
    "inputs.dtype, targets.dtype"
   ]
  },
  {
   "cell_type": "code",
   "execution_count": 33,
   "id": "19aa4993",
   "metadata": {},
   "outputs": [],
   "source": [
    "from torch.utils.data import DataLoader, TensorDataset, random_split"
   ]
  },
  {
   "cell_type": "code",
   "execution_count": 34,
   "id": "79d487e4",
   "metadata": {},
   "outputs": [],
   "source": [
    "dataset = TensorDataset(inputs, targets)"
   ]
  },
  {
   "cell_type": "code",
   "execution_count": 35,
   "id": "e8b7a1ba",
   "metadata": {},
   "outputs": [],
   "source": [
    "train_ds, val_ds, test_ds = random_split(dataset, [1000, 300, 38])"
   ]
  },
  {
   "cell_type": "code",
   "execution_count": 36,
   "id": "4a041abc",
   "metadata": {},
   "outputs": [],
   "source": [
    "batch_size = 20\n",
    "train_loader = DataLoader(train_ds, batch_size, shuffle=True)\n",
    "val_loader = DataLoader(val_ds, batch_size)"
   ]
  },
  {
   "cell_type": "code",
   "execution_count": 37,
   "id": "85fa5d4e",
   "metadata": {},
   "outputs": [
    {
     "name": "stdout",
     "output_type": "stream",
     "text": [
      "inputs: tensor([[45.0000,  1.0000, 33.7000,  1.0000,  0.0000],\n",
      "        [19.0000,  1.0000, 35.5300,  0.0000,  0.0000],\n",
      "        [43.0000,  0.0000, 25.0800,  0.0000,  0.0000],\n",
      "        [38.0000,  0.0000, 27.8350,  2.0000,  0.0000],\n",
      "        [39.0000,  0.0000, 24.2250,  5.0000,  0.0000],\n",
      "        [61.0000,  0.0000, 33.3300,  4.0000,  0.0000],\n",
      "        [37.0000,  0.0000, 29.5000,  2.0000,  0.0000],\n",
      "        [58.0000,  0.0000, 32.9650,  0.0000,  0.0000],\n",
      "        [39.0000,  0.0000, 32.5000,  1.0000,  0.0000],\n",
      "        [43.0000,  1.0000, 25.5200,  5.0000,  0.0000],\n",
      "        [23.0000,  1.0000, 41.9100,  0.0000,  0.0000],\n",
      "        [61.0000,  0.0000, 22.0400,  0.0000,  0.0000],\n",
      "        [18.0000,  0.0000, 40.2800,  0.0000,  0.0000],\n",
      "        [49.0000,  0.0000, 31.9000,  5.0000,  0.0000],\n",
      "        [52.0000,  0.0000, 25.3000,  2.0000,  1.0000],\n",
      "        [41.0000,  0.0000, 31.6000,  0.0000,  0.0000],\n",
      "        [32.0000,  1.0000, 27.8350,  1.0000,  0.0000],\n",
      "        [54.0000,  0.0000, 30.8000,  3.0000,  0.0000],\n",
      "        [55.0000,  1.0000, 30.6850,  0.0000,  1.0000],\n",
      "        [26.0000,  0.0000, 28.7850,  0.0000,  0.0000]])\n",
      "targets: tensor([[ 7445.9180],\n",
      "        [ 1646.4297],\n",
      "        [ 7325.0482],\n",
      "        [ 7144.8627],\n",
      "        [ 8965.7957],\n",
      "        [36580.2822],\n",
      "        [ 6311.9520],\n",
      "        [12430.9533],\n",
      "        [ 6238.2980],\n",
      "        [14478.3301],\n",
      "        [ 1837.2819],\n",
      "        [13616.3586],\n",
      "        [ 2217.6012],\n",
      "        [11552.9040],\n",
      "        [24667.4190],\n",
      "        [ 6186.1270],\n",
      "        [ 4454.4026],\n",
      "        [12105.3200],\n",
      "        [42303.6922],\n",
      "        [ 3385.3992]])\n"
     ]
    }
   ],
   "source": [
    "for xb, yb in train_loader:\n",
    "    print(\"inputs:\", xb)\n",
    "    print(\"targets:\", yb)\n",
    "    break"
   ]
  },
  {
   "cell_type": "markdown",
   "id": "89a82017",
   "metadata": {},
   "source": [
    "# Model"
   ]
  },
  {
   "cell_type": "markdown",
   "id": "1b807bfb",
   "metadata": {},
   "source": [
    "Importing linear function to train the model"
   ]
  },
  {
   "cell_type": "code",
   "execution_count": 24,
   "id": "fb0cac18",
   "metadata": {},
   "outputs": [],
   "source": [
    "import torch\n",
    "import torch.nn as nn\n",
    "import torch.nn.functional as F"
   ]
  },
  {
   "cell_type": "code",
   "execution_count": 25,
   "id": "76e76021",
   "metadata": {},
   "outputs": [],
   "source": [
    "torch.set_default_dtype(torch.float64)"
   ]
  },
  {
   "cell_type": "code",
   "execution_count": 50,
   "id": "58d931ba",
   "metadata": {},
   "outputs": [],
   "source": [
    "losslist=[]"
   ]
  },
  {
   "cell_type": "code",
   "execution_count": 51,
   "id": "6753a2a3",
   "metadata": {},
   "outputs": [],
   "source": [
    "class InsuranceModel(nn.Module):\n",
    "    \n",
    "    def __init__(self):\n",
    "        super().__init__()\n",
    "        self.linear = nn.Linear(5, 1)\n",
    "        self.history = []\n",
    "    \n",
    "    def prediction(self, inputs):\n",
    "        return self.linear(inputs)\n",
    "    \n",
    "    def lossCal(self, batch):\n",
    "        inputs, targets = batch\n",
    "        pred = self.prediction(inputs)\n",
    "        loss = F.mse_loss(pred, targets)\n",
    "        return loss\n",
    "    \n",
    "    def validation_step(self, batch): # this will be given at validation phase.\n",
    "        inputs, targets = batch\n",
    "        loss = self.lossCal(batch)\n",
    "        return {'val_loss': loss.detach()}\n",
    "    \n",
    "    def validation_epoch_end(self, outputs):\n",
    "        batch_losses = [x['val_loss'] for x in outputs]\n",
    "        epoch_loss = torch.stack(batch_losses).mean()   # Combine losses\n",
    "        return {'val_loss': epoch_loss.item()}\n",
    "    \n",
    "    def evaluate(self, val_loader):\n",
    "        outputs = [self.validation_step(batch) for batch in val_loader]\n",
    "        return self.validation_epoch_end(outputs)\n",
    "    \n",
    "    def epoch_end(self, epoch, result):\n",
    "        print(\"Epoch [{}], val_loss: {:.4f}\".format(epoch, result['val_loss']))\n",
    "        \n",
    "    \n",
    "    def training_(self, epochs, lr, train_loader, val_loader, opt_func=torch.optim.SGD):\n",
    "        optimizer = opt_func(self.linear.parameters(), lr)\n",
    "        \n",
    "        for epoch in range(epochs):\n",
    "            \n",
    "            # training phase\n",
    "            for batch in train_loader:\n",
    "                loss = self.lossCal(batch)\n",
    "                losslist.append(loss.item())\n",
    "                loss.backward()\n",
    "                optimizer.step()\n",
    "                optimizer.zero_grad()\n",
    "                \n",
    "            \n",
    "            # validation phase\n",
    "            result = self.evaluate(val_loader)\n",
    "            self.epoch_end(epoch, result)\n",
    "            self.history.append(result)\n",
    "        \n",
    "        return self.history     "
   ]
  },
  {
   "cell_type": "code",
   "execution_count": 52,
   "id": "dc8403db",
   "metadata": {},
   "outputs": [],
   "source": [
    "model = InsuranceModel()"
   ]
  },
  {
   "cell_type": "code",
   "execution_count": 53,
   "id": "6d87c45b",
   "metadata": {},
   "outputs": [
    {
     "name": "stdout",
     "output_type": "stream",
     "text": [
      "Epoch [0], val_loss: 150526424.8613\n",
      "Epoch [1], val_loss: 157808008.8448\n",
      "Epoch [2], val_loss: 151112433.2000\n",
      "Epoch [3], val_loss: 149101609.6262\n",
      "Epoch [4], val_loss: 149395915.5017\n",
      "Epoch [5], val_loss: 149931426.0163\n",
      "Epoch [6], val_loss: 167057811.4250\n",
      "Epoch [7], val_loss: 155441620.2295\n",
      "Epoch [8], val_loss: 151997034.1341\n",
      "Epoch [9], val_loss: 159086783.5187\n"
     ]
    },
    {
     "data": {
      "text/plain": [
       "[{'val_loss': 150526424.86132288},\n",
       " {'val_loss': 157808008.84484753},\n",
       " {'val_loss': 151112433.20004812},\n",
       " {'val_loss': 149101609.62616676},\n",
       " {'val_loss': 149395915.50169942},\n",
       " {'val_loss': 149931426.01631975},\n",
       " {'val_loss': 167057811.42504847},\n",
       " {'val_loss': 155441620.22953847},\n",
       " {'val_loss': 151997034.13413286},\n",
       " {'val_loss': 159086783.51869106}]"
      ]
     },
     "execution_count": 53,
     "metadata": {},
     "output_type": "execute_result"
    }
   ],
   "source": [
    "model.training_(10, 0.0001, train_loader, val_loader)"
   ]
  },
  {
   "cell_type": "code",
   "execution_count": 49,
   "id": "0fbd9737",
   "metadata": {},
   "outputs": [],
   "source": [
    "import matplotlib.pyplot as plt"
   ]
  },
  {
   "cell_type": "code",
   "execution_count": 55,
   "id": "3925ff7e",
   "metadata": {},
   "outputs": [
    {
     "data": {
      "image/png": "[encoded data removed]",
      "text/plain": [
       "<Figure size 640x480 with 1 Axes>"
      ]
     },
     "metadata": {},
     "output_type": "display_data"
    }
   ],
   "source": [
    "plt.plot(losslist)\n",
    "plt.show()"
   ]
  }
 ],
 "metadata": {
  "kernelspec": {
   "display_name": "Python 3 (ipykernel)",
   "language": "python",
   "name": "python3"
  },
  "language_info": {
   "codemirror_mode": {
    "name": "ipython",
    "version": 3
   },
   "file_extension": ".py",
   "mimetype": "text/x-python",
   "name": "python",
   "nbconvert_exporter": "python",
   "pygments_lexer": "ipython3",
   "version": "3.11.3"
  }
 },
 "nbformat": 4,
 "nbformat_minor": 5
}
